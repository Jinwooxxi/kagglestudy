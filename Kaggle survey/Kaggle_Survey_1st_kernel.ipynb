{
  "nbformat": 4,
  "nbformat_minor": 0,
  "metadata": {
    "colab": {
      "name": "Kaggle_Survey_1st_kernel.ipynb",
      "private_outputs": true,
      "provenance": [],
      "collapsed_sections": [],
      "authorship_tag": "ABX9TyN3FG5d6tL4Hyeotpjrivyf",
      "include_colab_link": true
    },
    "kernelspec": {
      "name": "python3",
      "display_name": "Python 3"
    },
    "language_info": {
      "name": "python"
    }
  },
  "cells": [
    {
      "cell_type": "markdown",
      "metadata": {
        "id": "view-in-github",
        "colab_type": "text"
      },
      "source": [
        "<a href=\"https://colab.research.google.com/github/Jinwooxxi/kagglestudy/blob/main/Kaggle%20survey/Kaggle_Survey_1st_kernel.ipynb\" target=\"_parent\"><img src=\"https://colab.research.google.com/assets/colab-badge.svg\" alt=\"Open In Colab\"/></a>"
      ]
    },
    {
      "cell_type": "markdown",
      "metadata": {
        "id": "YRhlCKdAP7f7"
      },
      "source": [
        "# Introduction"
      ]
    },
    {
      "cell_type": "markdown",
      "metadata": {
        "id": "Eh7Sw4zzP_0j"
      },
      "source": [
        "### Who are Data Seientists?\n",
        "\n",
        "A data scientist ia a statistician or a programmer, who cleans, manages and organizes data, perform descriptive statistics and analysis to develop insights, build predictive models and sove business related problems."
      ]
    },
    {
      "cell_type": "code",
      "metadata": {
        "id": "AvhvjoJXQzi4"
      },
      "source": [
        "# !pip install squarify\n",
        "# !pip install matplotlib-venn\n",
        "# !pip install scipy==1.1.0\n",
        "# !pip install plotly==2.7.0\n",
        "# 아래 plotly 그래프는 다운그레이드 해야 가능"
      ],
      "execution_count": null,
      "outputs": []
    },
    {
      "cell_type": "code",
      "metadata": {
        "id": "EIXX5WkfR-oV"
      },
      "source": [
        "from google.colab import drive\n",
        "drive.mount('/content/drive')"
      ],
      "execution_count": null,
      "outputs": []
    },
    {
      "cell_type": "code",
      "metadata": {
        "id": "UeywXrS6PVKf"
      },
      "source": [
        "import numpy as np\n",
        "import pandas as pd\n",
        "import seaborn as sns\n",
        "import matplotlib.pyplot as plt\n",
        "import squarify\n",
        "plt.style.use('fivethirtyeight')\n",
        "import warnings\n",
        "warnings.filterwarnings('ignore')\n",
        "import plotly.offline as py\n",
        "py.init_notebook_mode(connected=True)\n",
        "import plotly.graph_objs as go\n",
        "import plotly.tools as tls\n",
        "import base64\n",
        "import io\n",
        "from scipy.misc import imread\n",
        "import codecs\n",
        "from IPython.display import HTML\n",
        "from matplotlib_venn import venn2\n",
        "from subprocess import check_output\n",
        "print(check_output([\"ls\", \"/content/drive/My Drive/kaggle_survey\"]).decode(\"utf8\"))"
      ],
      "execution_count": null,
      "outputs": []
    },
    {
      "cell_type": "code",
      "metadata": {
        "id": "m9ysxr6WQqIE"
      },
      "source": [
        "response = pd.read_csv('/content/drive/My Drive/kaggle_survey/multipleChoiceResponses.csv',encoding='ISO-8859-1')\n",
        "response.head()"
      ],
      "execution_count": null,
      "outputs": []
    },
    {
      "cell_type": "markdown",
      "metadata": {
        "id": "9c9LQIaNSX-H"
      },
      "source": [
        "### Some Basic Analysis"
      ]
    },
    {
      "cell_type": "code",
      "metadata": {
        "id": "Mfp72-I-SXzR"
      },
      "source": [
        "print('The total number of respondents:', response.shape[0])\n",
        "print('Total number of Countries with repondents:', response['Country'].nunique())\n",
        "print('Counttry with highest respondens:', response['Country'].value_counts().index[0], \n",
        "      'with', response['Country'].value_counts().values[0], 'respondents')\n",
        "print('Youngest respondents:', response['Age'].min(), ' and Oldest respondents', response['Age'].max())"
      ],
      "execution_count": null,
      "outputs": []
    },
    {
      "cell_type": "markdown",
      "metadata": {
        "id": "y0eSJWlQTdRz"
      },
      "source": [
        "### Gender Split"
      ]
    },
    {
      "cell_type": "code",
      "metadata": {
        "id": "S8YwxiluSXwl"
      },
      "source": [
        "plt.subplots(figsize=(22,12))\n",
        "sns.countplot(y=response['GenderSelect'], order=response['GenderSelect'].value_counts().index)\n",
        "plt.show()"
      ],
      "execution_count": null,
      "outputs": []
    },
    {
      "cell_type": "markdown",
      "metadata": {
        "id": "Qyv3UhOMT6J8"
      },
      "source": [
        "### Respondent By Country"
      ]
    },
    {
      "cell_type": "code",
      "metadata": {
        "id": "DKJVcY7MSXuY"
      },
      "source": [
        "resp_coun = response['Country'].value_counts()[:15].to_frame()\n",
        "sns.barplot(resp_coun['Country'], resp_coun.index, palette='inferno')\n",
        "plt.title('Top 15 Countries by number of respondents')\n",
        "plt.xlabel('')\n",
        "fig = plt.gcf()\n",
        "fig.set_size_inches(10,10)\n",
        "plt.show()\n",
        "\n",
        "tree = response['Country'].value_counts().to_frame()\n",
        "squarify.plot(sizes=tree['Country'].values, label=tree.index, color=sns.color_palette('RdYlGn_r', 52))\n",
        "plt.rcParams.update({'font.size':20})\n",
        "fig = plt.gcf()\n",
        "fig.set_size_inches(40,15)\n",
        "plt.show()"
      ],
      "execution_count": null,
      "outputs": []
    },
    {
      "cell_type": "markdown",
      "metadata": {
        "id": "SYrqo6RGVV2j"
      },
      "source": [
        "### Compensation"
      ]
    },
    {
      "cell_type": "markdown",
      "metadata": {
        "id": "VMNGJNHjVdOe"
      },
      "source": [
        "Data Scientists are one of the most highest payed individuals.\n"
      ]
    },
    {
      "cell_type": "code",
      "metadata": {
        "id": "bv57Ab2iSXri"
      },
      "source": [
        "response['CompensationAmount'] = response['CompensationAmount'].str.replace(',','')\n",
        "response['CompensationAmount'] = response['CompensationAmount'].str.replace('-','')\n",
        "\n",
        "rates = pd.read_csv('/content/drive/My Drive/kaggle_survey/conversionRates.csv')\n",
        "rates.drop('Unnamed: 0', axis=1, inplace=True)\n",
        "salary = response[['CompensationAmount',\n",
        "                 'CompensationCurrency',\n",
        "                 'GenderSelect',\n",
        "                 'Country',\n",
        "                 'CurrentJobTitleSelect']].dropna()\n",
        "salary = salary.merge(rates, left_on='CompensationCurrency', right_on='originCountry', how='left')\n",
        "salary['Salary'] = pd.to_numeric(salary['CompensationAmount']) * salary['exchangeRate']\n",
        "\n",
        "print('Maximun salary is USD $:', salary['Salary'].dropna().astype(int).max())\n",
        "print('Minimun salary is USD $:', salary['Salary'].dropna().astype(int).min())\n",
        "print('Median salary is USD $:', salary['Salary'].dropna().astype(int).median())"
      ],
      "execution_count": null,
      "outputs": []
    },
    {
      "cell_type": "code",
      "metadata": {
        "id": "48N0SAHzSXo_"
      },
      "source": [
        "plt.subplots(figsize=(15,8))\n",
        "salary = salary[salary['Salary'] < 1000000]\n",
        "sns.distplot(salary['Salary'])\n",
        "plt.title('Salary Distribution', size=15)\n",
        "plt.show()"
      ],
      "execution_count": null,
      "outputs": []
    },
    {
      "cell_type": "markdown",
      "metadata": {
        "id": "IckB1aPNXyVd"
      },
      "source": [
        "#### Compensation by Country"
      ]
    },
    {
      "cell_type": "code",
      "metadata": {
        "id": "C7-P6xMLSXj7"
      },
      "source": [
        "# 급여 높은 국가\n",
        "f,ax = plt.subplots(1,2,figsize=(18,8))\n",
        "sal_coun = salary.groupby('Country')['Salary'].median().sort_values(ascending=False)[:15].to_frame()\n",
        "sns.barplot('Salary',sal_coun.index,data=sal_coun,palette='RdYlGn',ax=ax[0])\n",
        "ax[0].axvline(salary['Salary'].median(), linestyle='dashed')\n",
        "ax[0].set_title('Highest Salary Paying Countries')\n",
        "ax[0].set_xlabel('')\n",
        "\n",
        "# 응답 Top 15 국가들의 급여\n",
        "max_coun = salary.groupby('Country')['Salary'].median().to_frame()\n",
        "max_coun = max_coun[max_coun.index.isin(resp_coun.index)]\n",
        "max_coun.sort_values(by='Salary', ascending=True).plot.barh(width=0.8, ax=ax[1], color=sns.color_palette('RdYlGn'))\n",
        "ax[1].axvline(salary['Salary'].median(), linestyle='dashed')\n",
        "ax[1].set_title('Compensation of Top 15 Respondent Countries')\n",
        "ax[1].set_xlabel('')\n",
        "ax[1].set_ylabel('')\n",
        "\n",
        "plt.subplots_adjust(wspace=0.8)\n",
        "plt.show()"
      ],
      "execution_count": null,
      "outputs": []
    },
    {
      "cell_type": "markdown",
      "metadata": {
        "id": "MBS1ODprfWQ_"
      },
      "source": [
        "#### Salary By Gender"
      ]
    },
    {
      "cell_type": "code",
      "metadata": {
        "id": "xeNGc-xASXhP"
      },
      "source": [
        "plt.subplots(figsize=(10,8))\n",
        "sns.boxplot(y='GenderSelect', x='Salary', data=salary)\n",
        "plt.ylabel('')\n",
        "plt.show()"
      ],
      "execution_count": null,
      "outputs": []
    },
    {
      "cell_type": "markdown",
      "metadata": {
        "id": "u7N03XJkfiZZ"
      },
      "source": [
        "### Age"
      ]
    },
    {
      "cell_type": "code",
      "metadata": {
        "id": "p9M7UNmSSXen"
      },
      "source": [
        "plt.subplots(figsize=(15,8))\n",
        "response['Age'].hist(bins=50, edgecolor='black')\n",
        "plt.xticks(list(range(0,80,5)))\n",
        "plt.title('Age Distribution')\n",
        "plt.show() "
      ],
      "execution_count": null,
      "outputs": []
    },
    {
      "cell_type": "markdown",
      "metadata": {
        "id": "QyqFzGk3f_Lq"
      },
      "source": [
        "### Profession & Major"
      ]
    },
    {
      "cell_type": "code",
      "metadata": {
        "id": "D314SZmdSXcK"
      },
      "source": [
        "f,ax = plt.subplots(1,2,figsize=(25,15))\n",
        "sns.countplot(y=response['MajorSelect'], ax=ax[0], order=response['MajorSelect'].value_counts().index)\n",
        "ax[0].set_title('Major')\n",
        "ax[0].set_ylabel('')\n",
        "\n",
        "sns.countplot(y=response['CurrentJobTitleSelect'], ax=ax[1], order=response['CurrentJobTitleSelect'].value_counts().index)\n",
        "ax[1].set_title('Current Job')\n",
        "ax[1].set_ylabel('')\n",
        "plt.subplots_adjust(wspace=0.8)\n",
        "plt.show()"
      ],
      "execution_count": null,
      "outputs": []
    },
    {
      "cell_type": "markdown",
      "metadata": {
        "id": "3OynTNzogo0Z"
      },
      "source": [
        "Data Science and Machine Learning is used in almost every industry. This is evident from the left graph, as people from different arearas of interest like Physics, Biology, etc are taking it up for better understanding of the data. \n",
        "\n",
        "The rifht side graph shows the Current Job of the respondents. A major portion of the respondents are Data Scientists. But as it is survey data, we know that there may be many ambigious reponses. Later on we will check are these respondents real data-scientists or self proclaimed data-scientists."
      ]
    },
    {
      "cell_type": "markdown",
      "metadata": {
        "id": "ER_28QxTh1RO"
      },
      "source": [
        "### Compensation By Job Title"
      ]
    },
    {
      "cell_type": "code",
      "metadata": {
        "id": "EVEPI-FJSXZh"
      },
      "source": [
        "sal_job = salary.groupby('CurrentJobTitleSelect')['Salary'].median().to_frame().sort_values(by='Salary',ascending=False)\n",
        "ax = sns.barplot(sal_job.Salary, sal_job.index, palette=sns.color_palette('inferno',20))\n",
        "plt.title('Compensation By Job Title', size=15)\n",
        "for i, v in enumerate(sal_job.Salary): \n",
        "    ax.text(.5, i, v, fontsize=10, color='white',weight='bold')\n",
        "fig = plt.gcf()\n",
        "fig.set_size_inches(8,8)\n",
        "plt.show()"
      ],
      "execution_count": null,
      "outputs": []
    },
    {
      "cell_type": "markdown",
      "metadata": {
        "id": "amH_bGnClLWN"
      },
      "source": [
        "Operations Research Practitioner has the highest median salary followed by Prdictive Modeler and Data Scientist. Coumputer Scientist and Programmers have the lowest compensation."
      ]
    },
    {
      "cell_type": "code",
      "metadata": {
        "id": "FjYw_3xZSXXF"
      },
      "source": [
        "f, ax = plt.subplots(1,2,figsize=(25,12))\n",
        "skills = response['MLSkillsSelect'].str.split(',')\n",
        "skills_set = []\n",
        "for i in skills.dropna():\n",
        "  skills_set.extend(i)\n",
        "plt1 = pd.Series(skills_set).value_counts().sort_values(ascending=False).to_frame()\n",
        "sns.barplot(plt1[0], plt1.index, ax=ax[0], palette=sns.color_palette('inferno_r', 15))\n",
        "ax[0].set_title('ML Skills')\n",
        "\n",
        "tech = response['MLTechniquesSelect'].str.split(',')\n",
        "techniques = []\n",
        "for i in tech.dropna():\n",
        "  techniques.extend(i)\n",
        "plt1 = pd.Series(techniques).value_counts().sort_values(ascending=False).to_frame()\n",
        "sns.barplot(plt1[0], plt1.index, ax=ax[1], palette=sns.color_palette('inferno_r', 15))\n",
        "ax[1].set_title('ML Techniques used')\n",
        "plt.subplots_adjust(wspace=0.8)\n",
        "plt.show()"
      ],
      "execution_count": null,
      "outputs": []
    },
    {
      "cell_type": "code",
      "metadata": {
        "id": "DYmTpuTuSXUk"
      },
      "source": [
        "f,ax = plt.subplots(1,2,figsize=(25,12))\n",
        "ml_nxt = response['MLMethodNextYearSelect'].str.split(',')\n",
        "nxt_year = []\n",
        "for i in ml_nxt.dropna():\n",
        "    nxt_year.extend(i)\n",
        "pd.Series(nxt_year).value_counts()[:15].sort_values(ascending=True).plot.barh(width=0.9, color=sns.color_palette('winter_r', 15), ax=ax[0])\n",
        "\n",
        "tool = response['MLToolNextYearSelect'].str.split(',')\n",
        "tool_nxt = []\n",
        "for i in tool.dropna():\n",
        "    tool_nxt.extend(i)\n",
        "pd.Series(tool_nxt).value_counts()[:15].sort_values(ascending=True).plot.barh(width=0.9, color=sns.color_palette('winter_r', 15), ax=ax[1])\n",
        "\n",
        "plt.subplots_adjust(wspace=0.8)\n",
        "ax[0].set_title('ML Method Next Year')\n",
        "ax[1].set_title('ML Tool Next Year')\n",
        "plt.show()"
      ],
      "execution_count": null,
      "outputs": []
    },
    {
      "cell_type": "markdown",
      "metadata": {
        "id": "wYzakPKcry3e"
      },
      "source": [
        "### Best Platfomrs to Learn"
      ]
    },
    {
      "cell_type": "code",
      "metadata": {
        "id": "aOtS49AWSXSK"
      },
      "source": [
        "plt.subplots(figsize=(6,8))\n",
        "learn = response['LearningPlatformSelect'].str.split(',')\n",
        "platform = []\n",
        "for i in learn.dropna():\n",
        "    platform.extend(i)\n",
        "pd.Series(platform).value_counts()[:15].sort_values(ascending=True).plot.barh(width=0.9, color=sns.color_palette('winter',15))\n",
        "plt.title('Best Platforms to Learn', size=15)\n",
        "plt.show()"
      ],
      "execution_count": null,
      "outputs": []
    },
    {
      "cell_type": "markdown",
      "metadata": {
        "id": "1c8bLeQssT_e"
      },
      "source": [
        "### Hardware Used"
      ]
    },
    {
      "cell_type": "code",
      "metadata": {
        "id": "UYlkdzPMSXPe"
      },
      "source": [
        "plt.subplots(figsize=(10,10))\n",
        "hard = response['HardwarePersonalProjectsSelect'].str.split(',')\n",
        "hardware = []\n",
        "for i in hard.dropna():\n",
        "    hardware.extend(i)\n",
        "pd.Series(hardware).value_counts().sort_values(ascending=True).plot.barh(width=0.9, color=sns.color_palette('inferno',10))\n",
        "plt.title('Machines Used')\n",
        "plt.show()"
      ],
      "execution_count": null,
      "outputs": []
    },
    {
      "cell_type": "markdown",
      "metadata": {
        "id": "FVgik0i8smNA"
      },
      "source": [
        "### Where Do I get Datasets From??"
      ]
    },
    {
      "cell_type": "code",
      "metadata": {
        "id": "nwgyohzXSXNP"
      },
      "source": [
        "plt.subplots(figsize=(15,15))\n",
        "data = response['PublicDatasetsSelect'].str.split(',')\n",
        "dataset = []\n",
        "for i in data.dropna():\n",
        "  dataset.extend(i)\n",
        "pd.Series(dataset).value_counts().plot.pie(autopct='%1.1f%%', \n",
        "                                           shadow = True,\n",
        "                                           colors=sns.color_palette('Paired', 10), \n",
        "                                           startangle=90,\n",
        "                                           wedgeprops={'linewidth':2, 'edgecolor':'white'})\n",
        "plt.title('Dataset Source')\n",
        "my_circle = plt.Circle((0,0), 0.7, color='white')\n",
        "p = plt.gcf()\n",
        "p.gca().add_artist(my_circle)\n",
        "plt.ylabel('')\n",
        "plt.show()"
      ],
      "execution_count": null,
      "outputs": []
    },
    {
      "cell_type": "markdown",
      "metadata": {
        "id": "XontZzgkuJg5"
      },
      "source": [
        "### Code Sharing"
      ]
    },
    {
      "cell_type": "code",
      "metadata": {
        "id": "3pa55p40uHfx"
      },
      "source": [
        "plt.subplots(figsize=(15,15))\n",
        "code = response['WorkCodeSharing'].str.split(',')\n",
        "code_share = []\n",
        "for i in code.dropna():\n",
        "    code_share.extend(i)\n",
        "pd.Series(code_share).value_counts().plot.pie(autopct='%1.1f%%',\n",
        "                                              shadow=True,\n",
        "                                              colors=sns.color_palette('Set3',10),\n",
        "                                              startangle=90,\n",
        "                                              wedgeprops = {'linewidth':2, 'edgecolor':'white' })\n",
        "plt.title('Code Sharing Medium')\n",
        "my_circle = plt.Circle((0,0), 0.65, color='white')\n",
        "p = plt.gcf()\n",
        "p.gca().add_artist(my_circle)\n",
        "plt.ylabel('')\n",
        "plt.show()"
      ],
      "execution_count": null,
      "outputs": []
    },
    {
      "cell_type": "markdown",
      "metadata": {
        "id": "SmIP1Gb3uv1J"
      },
      "source": [
        "### Challenges in Data Science"
      ]
    },
    {
      "cell_type": "code",
      "metadata": {
        "id": "QY0htSkWuHZ3"
      },
      "source": [
        "plt.subplots(figsize=(15,18))\n",
        "challenge = response['WorkChallengesSelect'].str.split(',')\n",
        "challenges = []\n",
        "for i in challenge.dropna():\n",
        "    challenges.extend(i)\n",
        "plt1 = pd.Series(challenges).value_counts().sort_values(ascending=False).to_frame()\n",
        "sns.barplot(plt1[0],plt1.index, palette=sns.color_palette('inferno',25))\n",
        "plt.title('Challenges in Data Science')\n",
        "plt.show()"
      ],
      "execution_count": null,
      "outputs": []
    },
    {
      "cell_type": "markdown",
      "metadata": {
        "id": "6IeFViDNvEeT"
      },
      "source": [
        "The main challenge in Data Science is getting the proper Data. The graph clearly shows that dirty data is the bigget challenge. Dirty data is a database record that contains errors. Dirty data can be caused by a number of factors including duplicate records, incomplete or outdated data, and the improper parsing of record fields from disparate systems. Luckily Kaggle datasets are pretty clean and standardised.\n",
        "\n",
        "Some other major challenges are the Lack of Data Science and machine learning talent, difficulty in getting data and lack of tools. Thats why Data Science is the sexiest job in 21st century.With the increasing amount of data, this demand will substantially grow."
      ]
    },
    {
      "cell_type": "markdown",
      "metadata": {
        "id": "cg6-u2qavPW4"
      },
      "source": [
        "### Job Statisfaction"
      ]
    },
    {
      "cell_type": "code",
      "metadata": {
        "id": "Md8X2-fCuHXb"
      },
      "source": [
        "satisfy = response.copy()\n",
        "satisfy['JobSatisfaction'].replace({'10 - Highly Satisfied':'10',\n",
        "                                    '1 - Highly Dissatisfied':'1',\n",
        "                                    'I prefer not to share':np.NaN}, inplace=True)\n",
        "satisfy.dropna(subset=['JobSatisfaction'], inplace=True)\n",
        "satisfy['JobSatisfaction'] = satisfy['JobSatisfaction'].astype(int)\n",
        "satisfy_job=satisfy.groupby(['CurrentJobTitleSelect'])['JobSatisfaction'].mean().sort_values(ascending=False).to_frame()\n",
        "ax = sns.barplot(y=satisfy_job.index, x=satisfy_job.JobSatisfaction, palette=sns.color_palette('inferno',20))\n",
        "fig = plt.gcf()\n",
        "fig.set_size_inches(8,10)\n",
        "for i, v in enumerate(satisfy_job.JobSatisfaction): \n",
        "    ax.text(.1, i, v,fontsize=10, color='white', weight='bold')\n",
        "plt.title('Job Satisfaction out of 10')\n",
        "plt.show()"
      ],
      "execution_count": null,
      "outputs": []
    },
    {
      "cell_type": "markdown",
      "metadata": {
        "id": "NoO-TUeTvvZK"
      },
      "source": [
        "#### Job Satisfication By Country"
      ]
    },
    {
      "cell_type": "code",
      "metadata": {
        "id": "t3XGa5FNuHUk"
      },
      "source": [
        "satisfy = response.copy()\n",
        "satisfy['JobSatisfaction'].replace({'10 - Highly Satisfied':10,\n",
        "                                    '1 - Highly Dissatisfied':1,\n",
        "                                    'I prefer not to share':np.NaN}, inplace=True)\n",
        "satisfy.dropna(subset=['JobSatisfaction'], inplace=True)\n",
        "satisfy['JobSatisfaction'] = satisfy['JobSatisfaction'].astype(int)\n",
        "satisfy_job = satisfy.groupby(['Country'])['JobSatisfaction'].mean().sort_values(ascending=True).to_frame()\n",
        "\n",
        "data = [dict(type='choropleth',\n",
        "             autocolorscale=False,\n",
        "             colorscale='Viridis',\n",
        "             reversescale=True,\n",
        "             locations=satisfy_job.index,\n",
        "             z=satisfy_job['JobSatisfaction'],\n",
        "             locationmode='country names',\n",
        "             text=satisfy_job['JobSatisfaction'],\n",
        "             marker=dict(line=dict(color='rgb(200,200,200)', width=0.5),\n",
        "                         colorbar=dict(autotick=True, tickprefix='', title='Satisfaction')))]\n",
        "\n",
        "layout = dict(\n",
        "    title = 'Job Satisfaction By Country',\n",
        "    geo = dict(\n",
        "        showframe=True,\n",
        "        showocean=True,\n",
        "        projection=dict(\n",
        "            type='chloropleth'\n",
        "        ),\n",
        "        lonaxis = dict(\n",
        "            showgrid=False,\n",
        "            gridcolor='rgb(102,102,102)'\n",
        "        ),\n",
        "        lataxis = dict(\n",
        "            showgrid=False,\n",
        "            gridcolor='rgb(102,102,102)'\n",
        "        )\n",
        "    )\n",
        ")\n",
        "\n",
        "fig = dict(data=data, layout=layout)\n",
        "py.plot(fig, validate=False, filename='worldmap2010')\n",
        "# py.iplot(fig, validate=False, filename='worldmap2010')"
      ],
      "execution_count": null,
      "outputs": []
    },
    {
      "cell_type": "markdown",
      "metadata": {
        "id": "K5c6WKRMi5qX"
      },
      "source": [
        "# Python vs R\n",
        "\n",
        "Python and R are the most widely used Open-Source languages for Data Science and Machine-Learning stuff. For a budding data scientist or analyst, the biggest and trickiest doubt is: Which Language Should I Start With?? While both the languages have their own advantages and shortcomings, it depends on the individual's purpose while selecting a language of his/her choice. Both the languages cater the needs of different kinds of work. Python is a general purpose langauge, thus web and application integration is easier, while R is meant for pure statistical and analytics purpose. The area where R will completely beat Python is visualisations with the help of packages like ggplot2 and shiny. But Python has an upperhand in Machine Learning stuff"
      ]
    },
    {
      "cell_type": "code",
      "metadata": {
        "id": "nxJGLPo_uHSJ"
      },
      "source": [
        "resp = response.dropna(subset=['WorkToolsSelect'])\n",
        "resp = resp.merge(rates, left_on='CompensationCurrency', right_on='originCountry', how='left')\n",
        "python = resp[(resp['WorkToolsSelect'].str.contains('Python'))&(~resp['WorkToolsSelect'].str.contains('R'))]\n",
        "R = resp[(~resp['WorkToolsSelect'].str.contains('Python'))&(resp['WorkToolsSelect'].str.contains('R'))]\n",
        "both = resp[(resp['WorkToolsSelect'].str.contains('Python'))&(resp['WorkToolsSelect'].str.contains('R'))]"
      ],
      "execution_count": null,
      "outputs": []
    },
    {
      "cell_type": "markdown",
      "metadata": {
        "id": "1QfDiClPkJ22"
      },
      "source": [
        "#### Recommended Language For Begineers"
      ]
    },
    {
      "cell_type": "code",
      "metadata": {
        "id": "FplZ7mscjHd3"
      },
      "source": [
        "response['LanguageRecommendationSelect'].value_counts()[:5].plot.bar()\n",
        "plt.show()"
      ],
      "execution_count": null,
      "outputs": []
    },
    {
      "cell_type": "markdown",
      "metadata": {
        "id": "3_6U9YfZkfMT"
      },
      "source": [
        "###Recommendation By Python and R users"
      ]
    },
    {
      "cell_type": "code",
      "metadata": {
        "id": "yyhDmrQCjHa1"
      },
      "source": [
        "labels1 = python['LanguageRecommendationSelect'].value_counts()[:5].index\n",
        "sizes1 = python['LanguageRecommendationSelect'].value_counts()[:5].values\n",
        "\n",
        "labels2 = R['LanguageRecommendationSelect'].value_counts()[:5].index\n",
        "sizes2 = R['LanguageRecommendationSelect'].value_counts()[:5].values\n",
        "\n",
        "fig = {\n",
        "    'data' :[\n",
        "             {\n",
        "              'values' : sizes1,\n",
        "              'labels' : labels1,\n",
        "              'domain' : {'x':[0,.48]},\n",
        "              'name' : 'Language',\n",
        "              'hoverinfo' : 'label+percent+name',\n",
        "              'hole' : .4,\n",
        "              'type' : 'pie'\n",
        "             },\n",
        "             {\n",
        "              'values' : sizes2,\n",
        "              'labels' : labels2,\n",
        "              'text' : 'CO2',\n",
        "              'textposition' : 'inside',\n",
        "              'domain' : {'x':[.54,1]},\n",
        "              'name' : 'Language',\n",
        "              'hoverinfo' : 'label+percent+name',\n",
        "              'hole' : .4,\n",
        "              'type' : 'pie'\n",
        "             }\n",
        "             ],\n",
        "    'layout' : {\n",
        "        'title' : \"Language Recommend By Python and R Users\",\n",
        "        'annotations' : [\n",
        "                         {\n",
        "                          'font': {'size':30},\n",
        "                          'showarrow' : False,\n",
        "                          'text' : 'Python',\n",
        "                          'x' : 0.17,\n",
        "                          'y' : 0.5\n",
        "                         },\n",
        "                         {\n",
        "                          'font': {'size':30},\n",
        "                          'showarrow' : False,\n",
        "                          'text' : 'R',\n",
        "                          'x' : 0.79,\n",
        "                          'y' : 0.5\n",
        "                         }]\n",
        "    }\n",
        "}\n",
        "\n",
        "# py.iplot(fig, filename='donut')\n",
        "py.plot(fig, filename='donut')"
      ],
      "execution_count": null,
      "outputs": []
    },
    {
      "cell_type": "markdown",
      "metadata": {
        "id": "vvENO8Kuodxn"
      },
      "source": [
        "This is a interesting find. About 91.6% Python users recommend Python as the first language for begineers, whereas only 67.2% R users recommend R as the first language. Also 20.6% R users recommend Python but only 1.68% Python users recommend R as the first language. One thing to note is that users of both recommend the same Languages i.e SQL, Matlab and C/C++. I have only considered the Top 5 recommended languages, so the percentage will change if we consider all of them. But the difference would be just 2-3%."
      ]
    },
    {
      "cell_type": "markdown",
      "metadata": {
        "id": "ATbjFQITpwIN"
      },
      "source": [
        "#### Necessary or Not?"
      ]
    },
    {
      "cell_type": "code",
      "metadata": {
        "id": "ZkZpGLQ1jHWI"
      },
      "source": [
        "f, ax = plt.subplots(1,2,figsize=(18,8))\n",
        "response['JobSkillImportancePython'].value_counts().plot.pie(ax=ax[0], autopct='%1.1f%%', explode=[0.1,0,0],\n",
        "                                                             shadow=True, colors=['g','lightblue','r'])\n",
        "ax[0].set_title('Python Necessary')\n",
        "ax[0].set_ylabel('')\n",
        "\n",
        "response['JobSkillImportanceR'].value_counts().plot.pie(ax=ax[1], autopct='%1.1f%%', explode=[0.1,0,0],\n",
        "                                                        shadow=True, colors=['g','lightblue','r'])\n",
        "ax[1].set_title('R Necessary')\n",
        "ax[1].set_ylabel('')\n",
        "plt.show()"
      ],
      "execution_count": null,
      "outputs": []
    },
    {
      "cell_type": "markdown",
      "metadata": {
        "id": "TfsuHlKyqzYg"
      },
      "source": [
        "#### Number Of Users By Language"
      ]
    },
    {
      "cell_type": "code",
      "metadata": {
        "id": "90Xuu397jHTW"
      },
      "source": [
        "f, ax = plt.subplots(1,2,figsize=(18,8))\n",
        "pd.Series([python.shape[0], R.shape[0], both.shape[0]], index=['Python', 'R', 'Both']).plot.bar(ax=ax[0])\n",
        "ax[0].set_title('Number of Users')\n",
        "\n",
        "venn2(subsets = (python.shape[0], R.shape[0], both.shape[0]), set_labels=('Python Users', 'R Users'))\n",
        "plt.title('Venn Diagram for Users')\n",
        "plt.show()"
      ],
      "execution_count": null,
      "outputs": []
    },
    {
      "cell_type": "markdown",
      "metadata": {
        "id": "_XOwvVD3tQjk"
      },
      "source": [
        "The number of Python users are definetely more than R users. This may be due to the easy learning curve of Python. However there are more users who know both the languages. These responses might be from established Data Scientists,as they tend to have a knowledge in multiple languages and tools."
      ]
    },
    {
      "cell_type": "markdown",
      "metadata": {
        "id": "tLMWJsGTtcoZ"
      },
      "source": [
        "### Compensation"
      ]
    },
    {
      "cell_type": "code",
      "metadata": {
        "id": "-IVaNHYOjHQ7"
      },
      "source": [
        "py_sal = (pd.to_numeric(python['CompensationAmount'].dropna()) * python['exchangeRate']).dropna()\n",
        "py_sal = py_sal[py_sal < 1000000]\n",
        "\n",
        "R_sal = (pd.to_numeric(R['CompensationAmount'].dropna()) * R['exchangeRate']).dropna()\n",
        "R_sal = R_sal[R_sal < 1000000]\n",
        "\n",
        "both_sal = (pd.to_numeric(both['CompensationAmount'].dropna()) * both['exchangeRate']).dropna()\n",
        "both_sal = both_sal[both_sal < 1000000]\n",
        "\n",
        "trying = pd.DataFrame([py_sal, R_sal, both_sal])\n",
        "trying = trying.T\n",
        "trying.columns = ['Python', 'R', 'Both']\n",
        "\n",
        "print('Median Salary For Individual using Python', trying['Python'].median())\n",
        "print('Median Salary For Individual using R', trying['R'].median())\n",
        "print('Median Salary For Individual knowing both language', trying['Both'].median())"
      ],
      "execution_count": null,
      "outputs": []
    },
    {
      "cell_type": "code",
      "metadata": {
        "id": "M86_ZFAIjHOX"
      },
      "source": [
        "trying.plot.box()\n",
        "plt.title('Compensation By Language')\n",
        "fig = plt.gcf()\n",
        "fig.set_size_inches(10,6)\n",
        "plt.show()"
      ],
      "execution_count": null,
      "outputs": []
    },
    {
      "cell_type": "markdown",
      "metadata": {
        "id": "hNRtuj-duwy3"
      },
      "source": [
        "### Language Used By Professionals"
      ]
    },
    {
      "cell_type": "code",
      "metadata": {
        "id": "QSnO8tOwjHLo"
      },
      "source": [
        "py1 = python.copy()\n",
        "r = R.copy()\n",
        "py1['WorkToolsSelect'] = 'Python'\n",
        "r['WorkToolsSelect'] = 'R'\n",
        "r_vs_py = pd.concat([py1,r])\n",
        "r_vs_py = r_vs_py.groupby(['CurrentJobTitleSelect','WorkToolsSelect'])['Age'].count().to_frame().reset_index()\n",
        "r_vs_py.pivot('CurrentJobTitleSelect','WorkToolsSelect','Age').plot.barh(width=0.8)\n",
        "fig = plt.gcf()\n",
        "fig.set_size_inches(10,15)\n",
        "plt.title('Job Title vs Language Used',size=15)\n",
        "plt.show()"
      ],
      "execution_count": null,
      "outputs": []
    },
    {
      "cell_type": "markdown",
      "metadata": {
        "id": "Mp8S1UcIvMG5"
      },
      "source": [
        "### Job Function vs Language"
      ]
    },
    {
      "cell_type": "code",
      "metadata": {
        "id": "eqk03D4VjHJM"
      },
      "source": [
        "r_vs_py = pd.concat([py1, r])\n",
        "r_vs_py = r_vs_py.groupby(['JobFunctionSelect', 'WorkToolsSelect'])['Age'].count().to_frame().reset_index()\n",
        "r_vs_py.pivot('JobFunctionSelect', 'WorkToolsSelect', 'Age').plot.barh(width=0.8)\n",
        "fig = plt.gcf()\n",
        "fig.set_size_inches(10,15)\n",
        "plt.title('Job Description vs Language Used')\n",
        "plt.show()"
      ],
      "execution_count": null,
      "outputs": []
    },
    {
      "cell_type": "markdown",
      "metadata": {
        "id": "JSGAAdT8v-bu"
      },
      "source": [
        "### Tenure vs Language Used"
      ]
    },
    {
      "cell_type": "code",
      "metadata": {
        "id": "EBSSLna5jHGi"
      },
      "source": [
        "r_vs_py = pd.concat([py1, r])\n",
        "r_vs_py = r_vs_py.groupby(['Tenure', 'WorkToolsSelect'])['Age'].count().to_frame().reset_index()\n",
        "r_vs_py.pivot('Tenure', 'WorkToolsSelect', 'Age').plot.barh(width=0.8)\n",
        "fig = plt.gcf()\n",
        "fig.set_size_inches(10,10)\n",
        "plt.title('Job Tenure vs Language Used')\n",
        "plt.show()"
      ],
      "execution_count": null,
      "outputs": []
    },
    {
      "cell_type": "markdown",
      "metadata": {
        "id": "CPjOIMBMwYj-"
      },
      "source": [
        "### Industry vs Language Used"
      ]
    },
    {
      "cell_type": "code",
      "metadata": {
        "id": "xc1KyTFyjHEN"
      },
      "source": [
        "r_vs_py = pd.concat([py1, r])\n",
        "r_vs_py = r_vs_py.groupby(['EmployerIndustry', 'WorkToolsSelect'])['Age'].count().to_frame().reset_index()\n",
        "r_vs_py.pivot('EmployerIndustry', 'WorkToolsSelect', 'Age').plot.barh(width=0.8)\n",
        "fig = plt.gcf()\n",
        "fig.set_size_inches(10,10)\n",
        "plt.title('Industry vs Language Used')\n",
        "plt.show()"
      ],
      "execution_count": null,
      "outputs": []
    },
    {
      "cell_type": "markdown",
      "metadata": {
        "id": "or-0DquWwsDQ"
      },
      "source": [
        "### Common Tools with Python and R"
      ]
    },
    {
      "cell_type": "code",
      "metadata": {
        "id": "der_sX5LjHBn"
      },
      "source": [
        "f, ax = plt.subplots(1,2,figsize=(20,15))\n",
        "py_comp = python['WorkToolsSelect'].str.split(',')\n",
        "py_comp1 = []\n",
        "for i in py_comp:\n",
        "  py_comp1.extend(i)\n",
        "plt1 = pd.Series(py_comp1).value_counts()[1:15].sort_values(ascending=False).to_frame()\n",
        "sns.barplot(plt1[0], plt1.index, ax=ax[0], palette=sns.color_palette('flare', 15))\n",
        "\n",
        "R_comp = R['WorkToolsSelect'].str.split(',')\n",
        "R_comp1 = []\n",
        "for i in R_comp:\n",
        "  R_comp1.extend(i)\n",
        "plt1 = pd.Series(R_comp1).value_counts()[1:15].sort_values(ascending=False).to_frame()\n",
        "sns.barplot(plt1[0], plt1.index, ax=ax[1], palette=sns.color_palette('flare', 15))\n",
        "\n",
        "ax[0].set_title('Commonly Used Tools with Python')\n",
        "ax[1].set_title('Commonly Used Tools with R')\n",
        "\n",
        "plt.subplots_adjust(wspace=0.8)\n",
        "plt.show()"
      ],
      "execution_count": null,
      "outputs": []
    },
    {
      "cell_type": "markdown",
      "metadata": {
        "id": "83Hd9XLA0nTt"
      },
      "source": [
        "# Asking the Data Scientists"
      ]
    },
    {
      "cell_type": "code",
      "metadata": {
        "id": "lvtabSU-jG_D"
      },
      "source": [
        "response['DataScienceIdentitySelect'].value_counts()"
      ],
      "execution_count": null,
      "outputs": []
    },
    {
      "cell_type": "code",
      "metadata": {
        "id": "jymV210ujG8o"
      },
      "source": [
        "plt.subplots(figsize=(10,8))\n",
        "scientist = response[response['DataScienceIdentitySelect'] == 'Yes']\n",
        "scientist['CurrentJobTitleSelect'].value_counts().sort_values(ascending=True).plot.barh(width=0.9,color=sns.color_palette('light:#5A9',15))\n",
        "plt.title('Job Titles', size=15)\n",
        "plt.show()"
      ],
      "execution_count": null,
      "outputs": []
    },
    {
      "cell_type": "markdown",
      "metadata": {
        "id": "rKMrHoRZ5cn_"
      },
      "source": [
        "Surprisingly there is no entry for the Job Title Data Scientist. There reasons for this could be that the people with CurrentJobTitleSelect as Data Scientist(who might be working as Data Scientist) might have not answered the question: \"Do you currently consider yourself a Data Scientist?\"\n",
        "\n",
        "There are many overlapping and common skills between the jobs like Data Analyst,Data Scientist and Machine Learning experts, Statisticians,etc. Thus they too have similar skills and consider themselves as Data Scientists even though they are not labeled the same. Now lets check if the previous assumption was True."
      ]
    },
    {
      "cell_type": "code",
      "metadata": {
        "id": "y4-_ap-hjG6v"
      },
      "source": [
        "true = response[response['CurrentJobTitleSelect'] == 'Data Scientist']"
      ],
      "execution_count": null,
      "outputs": []
    },
    {
      "cell_type": "markdown",
      "metadata": {
        "id": "ie2tsWjc6gnt"
      },
      "source": [
        "It was indeed True. People with their CurrentJobTitle as Data Scientist did not answer the question \"Do you currently consider yourself a Data Scientist?\". So I am considering them also to be real Data Scientists."
      ]
    },
    {
      "cell_type": "code",
      "metadata": {
        "id": "gDEhIiMpjG3d"
      },
      "source": [
        "scientist = pd.concat([scientist, true])\n",
        "scientist['CurrentEmployerType'].shape[0]"
      ],
      "execution_count": null,
      "outputs": []
    },
    {
      "cell_type": "markdown",
      "metadata": {
        "id": "YTj2KetL6km6"
      },
      "source": [
        "So out of the total respondents, about 40% of them are Data Scientists or have skills for the same.\n",
        "\n"
      ]
    },
    {
      "cell_type": "markdown",
      "metadata": {
        "id": "JX2o43A96ln5"
      },
      "source": [
        "### Country-Wise Split"
      ]
    },
    {
      "cell_type": "code",
      "metadata": {
        "id": "on-0jtTGjGyN"
      },
      "source": [
        "plt.subplots(figsize=(10,8))\n",
        "coun = scientist['Country'].value_counts()[:15].sort_values(ascending=False).to_frame()\n",
        "sns.barplot(coun.Country, coun.index, palette='inferno')\n",
        "plt.title('Countries By Number Of data Scientists', size=15)\n",
        "plt.show()"
      ],
      "execution_count": null,
      "outputs": []
    },
    {
      "cell_type": "markdown",
      "metadata": {
        "id": "W4TdNtzd7Qf_"
      },
      "source": [
        "The graph is similar to the demographic graph where we had shown number of users by country. The difference is that the numbers have reduced as we have only considered Data Scientists.\n",
        "\n"
      ]
    },
    {
      "cell_type": "markdown",
      "metadata": {
        "id": "i3DdBY4j7Rje"
      },
      "source": [
        "### Employment Status & Education"
      ]
    },
    {
      "cell_type": "code",
      "metadata": {
        "id": "f6ybyu5CjGtq"
      },
      "source": [
        "f, ax = plt.subplots(1,2,figsize=(25,10))\n",
        "sns.countplot(y=scientist['EmploymentStatus'], ax=ax[0])\n",
        "ax[0].set_title('Employment Status')\n",
        "ax[0].set_ylabel('')\n",
        "\n",
        "sns.countplot(y=scientist['FormalEducation'], \n",
        "              order=scientist['FormalEducation'].value_counts().index, \n",
        "              ax=ax[1], palette=sns.color_palette('viridis_r', 15))\n",
        "ax[1].set_title('Formal Education')\n",
        "ax[1].set_ylabel('')\n",
        "\n",
        "plt.subplots_adjust(wspace=0.5)\n",
        "plt.show()"
      ],
      "execution_count": null,
      "outputs": []
    },
    {
      "cell_type": "markdown",
      "metadata": {
        "id": "Tr0Z1AAN8ZxL"
      },
      "source": [
        "About **67%** of the data scientists are employed full-time, while about **11-12%** of them are unemployed but looking for job. On the education side it is evident that about 45-46% of the data scientists hold a **master's degree**, while about **23-24%** of them have **a bachelor's degree or a doctoral degree**. Thus education seems to be an important factor for becoming a data scientist. Let's see how does the salary vary according to the education.\n",
        "\n"
      ]
    },
    {
      "cell_type": "markdown",
      "metadata": {
        "id": "xnOogARY8l_u"
      },
      "source": [
        "### Compensation By Formal Education"
      ]
    },
    {
      "cell_type": "code",
      "metadata": {
        "id": "fy-PtQ0ejGq_"
      },
      "source": [
        "plt.subplots(figsize=(25,12))\n",
        "comp_edu = scientist.merge(salary, left_index=True, right_index=True, how='left')\n",
        "comp_edu = comp_edu[['FormalEducation','Salary']]\n",
        "sns.boxplot(x='FormalEducation', y='Salary', data=comp_edu)\n",
        "plt.title('Compensation vs Education')\n",
        "plt.xticks(rotation=90)\n",
        "plt.show()"
      ],
      "execution_count": null,
      "outputs": []
    },
    {
      "cell_type": "markdown",
      "metadata": {
        "id": "F6wkImos81uR"
      },
      "source": [
        "This is surprising as the salary ranges for Bachelor's, Master's and Doctoral degree look to very similar. The median for Bachelor's degree seems to be a bit high as compared to Master's and doctoral degree. I didn't expect this as many of the Data Scientists hold a masters degree. But I think Work Experience matters more than any degree. Maybe the Bachelor's degree holders have more experience as compared than the other two."
      ]
    },
    {
      "cell_type": "markdown",
      "metadata": {
        "id": "KpueiR_H89LF"
      },
      "source": [
        "### Previous Job and Salary Change"
      ]
    },
    {
      "cell_type": "code",
      "metadata": {
        "id": "8S1BJYQQjGoV"
      },
      "source": [
        "f,ax = plt.subplots(1,2,figsize=(30,15))\n",
        "past = scientist['PastJobTitlesSelect'].str.split(',')\n",
        "past_job = []\n",
        "for i in past.dropna():\n",
        "    past_job.extend(i)\n",
        "pd.Series(past_job).value_counts().sort_values(ascending=True).plot.barh(width=0.9, color=sns.color_palette('summer',25),ax=ax[0])\n",
        "ax[0].set_title('Previous Job')\n",
        "\n",
        "sal = scientist['SalaryChange'].str.split(',')\n",
        "sal_change = []\n",
        "for i in sal.dropna():\n",
        "    sal_change.extend(i)\n",
        "pd.Series(sal_change).value_counts().sort_values(ascending=True).plot.barh(width=0.9, color=sns.color_palette('summer',10),ax=ax[1])\n",
        "ax[1].set_title('Salary Change')\n",
        "plt.subplots_adjust(wspace=0.9)\n",
        "plt.show()"
      ],
      "execution_count": null,
      "outputs": []
    },
    {
      "cell_type": "markdown",
      "metadata": {
        "id": "H8Z_tbEI9Jei"
      },
      "source": [
        "Clearly majority of people switching to Data Science get a salary hike about 6-20% or more. With this increasing demand for Data Scientists, the salary may also increase with time.\n",
        "\n"
      ]
    },
    {
      "cell_type": "markdown",
      "metadata": {
        "id": "ytMZgs34Jkhc"
      },
      "source": [
        "### Tools used at Work"
      ]
    },
    {
      "cell_type": "code",
      "metadata": {
        "id": "Whg_p-FNjGlz"
      },
      "source": [
        "plt.subplots(figsize=(8,8))\n",
        "tools = scientist['WorkToolsSelect'].str.split(',')\n",
        "tools_work = []\n",
        "for i in tools.dropna():\n",
        "  tools_work.extend(i)\n",
        "pd.Series(tools_work).value_counts()[:15].sort_values(ascending=True).plot.barh(width=0.9, color=sns.color_palette('RdYlGn', 15))\n",
        "plt.show()"
      ],
      "execution_count": null,
      "outputs": []
    },
    {
      "cell_type": "markdown",
      "metadata": {
        "id": "zebUt14lKN0G"
      },
      "source": [
        "### Where Did they Learn From?"
      ]
    },
    {
      "cell_type": "code",
      "metadata": {
        "id": "0A0uyXY6jGj8"
      },
      "source": [
        "course = scientist['CoursePlatformSelect'].str.split(',')\n",
        "course_plat = []\n",
        "for i in course.dropna():\n",
        "  course_plat.extend(i)\n",
        "course_plat = pd.Series(course_plat).value_counts()\n",
        "\n",
        "blogs = scientist['BlogsPodcastsNewslettersSelect'].str.split(',')\n",
        "blogs_fam = []\n",
        "for i in blogs.dropna():\n",
        "  blogs_fam.extend(i)\n",
        "blogs_fam = pd.Series(blogs_fam).value_counts()\n",
        "\n",
        "labels1 = course_plat.index\n",
        "sizes1 = course_plat.values\n",
        "\n",
        "labels2 = blogs_fam[:5].index\n",
        "sizes2 = blogs_fam[:5].values\n",
        "\n",
        "fig = {\n",
        "    'data' : [\n",
        "              {\n",
        "               'values':sizes1,\n",
        "               'labels':labels1,\n",
        "               'domain': {'x':[0,.48]},\n",
        "               'name':'MOOC',\n",
        "               'hoverinfo':'label+percent+name',\n",
        "               'hole':.4,\n",
        "               'type':'pie'\n",
        "              },\n",
        "              {\n",
        "               'values':sizes2,\n",
        "               'labels':labels2,\n",
        "               'text':'CO2',\n",
        "               'textposition':'inside',\n",
        "               'domain': {'x':[.54,1]},\n",
        "               'name':'MOOC',\n",
        "               'hoverinfo':'label+percent+name',\n",
        "               'hole':.4,\n",
        "               'type':'pie'\n",
        "              }\n",
        "    ],\n",
        "    'layout' : {\n",
        "        'title' : 'Blogs and Oline Platforms',\n",
        "        'showlegend' : True,\n",
        "        'annotations': [\n",
        "                        {\n",
        "                         'font': {'size':12},\n",
        "                         'showarrow' : False,\n",
        "                         'text':'MOOC s',\n",
        "                         'x':0.18,\n",
        "                         'y':0.5\n",
        "                        },\n",
        "                        {'font':{'size':12},\n",
        "                         'showarrow':False,\n",
        "                         'text':'BLOGS',\n",
        "                         'x':0.83,\n",
        "                         'y':0.5\n",
        "                         }\n",
        "        ]\n",
        "    }\n",
        "}\n",
        "\n",
        "py.plot(fig, filename='donut2')"
      ],
      "execution_count": null,
      "outputs": []
    },
    {
      "cell_type": "markdown",
      "metadata": {
        "id": "PPuP0FW4NwCk"
      },
      "source": [
        "Coursera is the most favoured platform by Data Scientists for learning Data Science. My personal vote also goes for Coursera, where you can learn things from scratch to advanced on the same platform. It is not limited to a single language like Python or R, but also has courses covering other languages like Scala,etc. Similarly KDNuggets is the most preferred blog.\n",
        "\n"
      ]
    },
    {
      "cell_type": "markdown",
      "metadata": {
        "id": "b-RrW8j_NxqA"
      },
      "source": [
        "### Time Spent on Tasks\n",
        "\n",
        "A Data Scientist is not always building predictive models, he is also responsible for the data quality, gathering the right data, analytics, etc."
      ]
    },
    {
      "cell_type": "code",
      "metadata": {
        "id": "kiAkiKVMjGg1"
      },
      "source": [
        "import itertools\n",
        "\n",
        "plt.subplots(figsize=(22,10))\n",
        "time_spent = ['TimeFindingInsights', 'TimeVisualizing', 'TimeGatheringData', 'TimeModelBuilding']\n",
        "length = len(time_spent)\n",
        "\n",
        "for i, j in itertools.zip_longest(time_spent, range(length)):\n",
        "  plt.subplot((length/2),2,j+1)\n",
        "  plt.subplots_adjust(wspace=0.2, hspace=0.5)\n",
        "  scientist[i].hist(bins=10, edgecolor='black')\n",
        "  plt.axvline(scientist[i].mean(), linestyle='dashed', color='r')\n",
        "  plt.title(i, size=20)\n",
        "  plt.xlabel('% Time')\n",
        "\n",
        "plt.show()"
      ],
      "execution_count": null,
      "outputs": []
    },
    {
      "cell_type": "markdown",
      "metadata": {
        "id": "vghhpweZPMEp"
      },
      "source": [
        "* **TimeGatheringData**: It is undoubtedly the most time consuming part. Getting the data is the most painstaking task inthe entire process, which is followed by Data Cleaning(not shown as data not available) which is yet other time consuming process. Thus gathering right data and scrubing the data are the most time consuming process.\n",
        "\n",
        "* **TimeVisualizing**: It is probably the least time consuming process(and probably the most enjoyable one..:p), and it reduces even further if we use Enterprise Tools like Tableau,Qlik,Tibco,etc, which helps in building graphs and dashboards with simple drag and drop features.\n",
        "\n",
        "* **TimeFindingInsights**: It is followed after visualising the data, which involves finding facts and patterns in the data, slicing and dicing it to find insights for business processes.It looks to a bit more time consuming as compared to TimeVisualizing.\n",
        "\n",
        "* **TimeModelBuilding**: It is where the data scientists build predictive models, tune these models,etc. It is the 2nd most time consuming process after TimeDataGathering."
      ]
    },
    {
      "cell_type": "markdown",
      "metadata": {
        "id": "YDyO-UcyrxZp"
      },
      "source": [
        "### Cloud Servies\n",
        "\n",
        "With the increasing size of the data, it is not possible to process the data and perform predictive anaytics on the physical srver infrastructures. Cloud thus takes predictive analyics to a next level, with scalability its main advantage. They manage srvice that enables you to easily build machine learning model that work on any type of data, of any size. "
      ]
    },
    {
      "cell_type": "code",
      "metadata": {
        "id": "yeM7B8g7jGbv"
      },
      "source": [
        "cloud = ['WorkToolsFrequencyAmazonML', 'WorkToolsFrequencyAWS', 'WorkToolsFrequencyCloudera',\n",
        "         'WorkToolsFrequencyHadoop', 'WorkToolsFrequencyAzure']\n",
        "\n",
        "plt.subplots(figsize=(30,15))\n",
        "length = len(cloud)\n",
        "\n",
        "for i, j in itertools.zip_longest(cloud, range(length)):\n",
        "  plt.subplot((length/2+1), 3, j+1)\n",
        "  plt.subplots_adjust(wspace=0.2, hspace=0.5)\n",
        "  sns.countplot(i, data=scientist)\n",
        "  plt.title(i, size=20)\n",
        "  plt.xlabel('')\n",
        "  plt.ylabel('')\n",
        "\n",
        "plt.show()"
      ],
      "execution_count": null,
      "outputs": []
    },
    {
      "cell_type": "markdown",
      "metadata": {
        "id": "DdCmtQQYtIaS"
      },
      "source": [
        "It is evident that AmazonAWS, which is a public cloud service provider is the most used cloud platform, followed by Hadoop. Hadoop is an open-source software framework used for distribued storage and processing of dataset of big data."
      ]
    },
    {
      "cell_type": "markdown",
      "metadata": {
        "id": "wu9fl_kXtd8Q"
      },
      "source": [
        "### Importance Of Visualisations"
      ]
    },
    {
      "cell_type": "code",
      "metadata": {
        "id": "PhFcNXaltk68"
      },
      "source": [
        "f, ax = plt.subplots(1,2, figsize=(25,12))\n",
        "\n",
        "sns.countplot(scientist['JobSkillImportanceVisualizations'], ax=ax[0])\n",
        "ax[0].set_title('Job Importance For Visuals')\n",
        "ax[0].set_xlabel('')\n",
        "\n",
        "scientist['WorkDataVisualizations'].value_counts().plot.pie(autopct='%2.0f%%', colors=sns.color_palette('Paired', 10), ax=ax[1])\n",
        "ax[1].set_title('Use Of Visualizations in Projects')\n",
        "my_circle = plt.Circle((0,0), 0.7, color='white')\n",
        "p = plt.gcf()\n",
        "p.gca().add_artist(my_circle)\n",
        "plt.ylabel('')\n",
        "\n",
        "plt.show()"
      ],
      "execution_count": null,
      "outputs": []
    },
    {
      "cell_type": "markdown",
      "metadata": {
        "id": "PLmzVGRFvAa0"
      },
      "source": [
        "Visualizations ar a very integral part of Data Science Projects, and the above graph also show the same. Almost all data science project i.e99% of the projects have visualizations in them, doesn't matter how big or small. About 95% of data Scientists say that Visualizations skills are nice to have or necessary. Visuals help to understand and comprehend the data fater not only to the professionals but also to target customers, who may not be technically skilled."
      ]
    },
    {
      "cell_type": "markdown",
      "metadata": {
        "id": "cJwomihFwJye"
      },
      "source": [
        "### BI Tools\n",
        "\n",
        "Business intelligence software is a type of application software designed to retrivev, analyze, transform and report data for buness intelligence. They make data visualization and analytics vety imple as compared to normal coding way in Python or R. The only drawback is that they are proprietory and costly. Lets check wich are the most frequently used enterprise BI tolls used by Data Scientists."
      ]
    },
    {
      "cell_type": "code",
      "metadata": {
        "id": "mbiAatoDuHPp"
      },
      "source": [
        "BI = ['WorkToolsFrequencyQlik','WorkToolsFrequencySAPBusinessObjects',\n",
        "      'WorkToolsFrequencyTableau','WorkToolsFrequencyTIBCO',\n",
        "      'WorkToolsFrequencyAngoss','WorkToolsFrequencyIBMCognos',\n",
        "      'WorkToolsFrequencyKNIMECommercial','WorkToolsFrequencyExcel']\n",
        "   \n",
        "plt. subplots(figsize=(30,25))\n",
        "length = len(BI)\n",
        "\n",
        "for i, j in itertools.zip_longest(BI, range(length)):\n",
        "  plt.subplot((length/2+1), 3, j+1)\n",
        "  plt.subplots_adjust(wspace=0.2, hspace=0.5)\n",
        "  sns.countplot(i, data=scientist)\n",
        "  plt.title(i, size=20)\n",
        "  plt.xlabel('')\n",
        "  plt.ylabel('')\n",
        "\n",
        "plt.show()"
      ],
      "execution_count": null,
      "outputs": []
    },
    {
      "cell_type": "markdown",
      "metadata": {
        "id": "7HX8aMM7xLLP"
      },
      "source": [
        "Excel is the bread and butter for analysts. This thing still somewhat holds true, as Excel is still popular among Data Scientists. However, the most frequently used BI tool looks to be Tableau."
      ]
    },
    {
      "cell_type": "markdown",
      "metadata": {
        "id": "J_RTPTGuxPuS"
      },
      "source": [
        "### Knowledge Of Algorithms (Maths and Stats)"
      ]
    },
    {
      "cell_type": "code",
      "metadata": {
        "id": "XtQa_KwwuHNp"
      },
      "source": [
        "f,ax = plt.subplots(1,2,figsize=(25,12))\n",
        "sns.countplot(y=scientist['AlgorithmUnderstandingLevel'],\n",
        "              order=scientist['AlgorithmUnderstandingLevel'].value_counts().index,\n",
        "              ax=ax[0],palette=sns.color_palette('summer',15))\n",
        "sns.countplot(scientist['JobSkillImportanceStats'], ax=ax[1])\n",
        "ax[0].set_title('Algorithm Understanding')\n",
        "ax[0].set_ylabel('')\n",
        "ax[1].set_title('Knowledge of Stats')\n",
        "ax[1].set_xlabel('')\n",
        "plt.show()"
      ],
      "execution_count": null,
      "outputs": []
    },
    {
      "cell_type": "markdown",
      "metadata": {
        "id": "ZKAXEkSexn_G"
      },
      "source": [
        "Data Scientists have a good knowledge of mathematical concepts like Statistics and Linear Algebra, which are the most important part of Machine Learning algorithms. But is this maths really required, as many standard libraries like scikit,tensorflow,keras etc have all these things already implemented. But the experienced data scientists say that we should have a good understanding of the maths behind the algorithms. About 95% of the data scientists say the stats is an important asset in Data Science."
      ]
    },
    {
      "cell_type": "markdown",
      "metadata": {
        "id": "UiHs7l55x0Xd"
      },
      "source": [
        "### Learning Platform Usefullness"
      ]
    },
    {
      "cell_type": "code",
      "metadata": {
        "id": "xIYNqNICuHLE"
      },
      "source": [
        "plt.subplots(figsize=(25,35))\n",
        "useful = ['LearningPlatformUsefulnessBlogs', 'LearningPlatformUsefulnessCollege',\n",
        "          'LearningPlatformUsefulnessCompany','LearningPlatformUsefulnessKaggle', \n",
        "          'LearningPlatformUsefulnessCourses','LearningPlatformUsefulnessProjects', \n",
        "          'LearningPlatformUsefulnessTextbook','LearningPlatformUsefulnessYouTube']\n",
        "length = len(useful)\n",
        "\n",
        "for i, j in itertools.zip_longest(useful, range(length)):\n",
        "  plt.subplot((length/2), 3, j+1)\n",
        "  plt.subplots_adjust(wspace=0.2, hspace=0.2)\n",
        "  scientist[i].value_counts().plot.pie(autopct='%1.1f%%', colors=['g', 'lightblue', 'r'],\n",
        "                                       wedgeprops={'linewidth':2, 'edgecolor':'white'})\n",
        "  plt.title(i, size=25)\n",
        "  my_circle = plt.Circle((0,0), 0.7, color='white')\n",
        "  p = plt.gcf()\n",
        "  p.gca().add_artist(my_circle)\n",
        "  plt.xlabel('')\n",
        "  plt.ylabel('')\n",
        "\n",
        "plt.show()"
      ],
      "execution_count": null,
      "outputs": []
    },
    {
      "cell_type": "markdown",
      "metadata": {
        "id": "MZv0se3Ly_jl"
      },
      "source": [
        "The above dount charts shows the opinion of Data Scientists about the various platforms to learn Data Science. The plot looks best for Projects, where the percentage for not useful is almost 0%. Project are the best platform or way for learning anything in the IT industry. The other excellent platforms are Online Courses and Kaggel. The graphs for other platforms are quit similar to each other."
      ]
    },
    {
      "cell_type": "markdown",
      "metadata": {
        "id": "WIFWBds3zig6"
      },
      "source": [
        "What should the Resume Have?"
      ]
    },
    {
      "cell_type": "code",
      "metadata": {
        "id": "CbPlslWNuHH2"
      },
      "source": [
        "f, ax = plt.subplots(1,2, figsize=(22,8))\n",
        "sns.countplot(y=scientist['ProveKnowledgeSelect'],\n",
        "              order=scientist['ProveKnowledgeSelect'].value_counts().index,\n",
        "              ax=ax[0], palette=sns.color_palette('inferno',15))\n",
        "ax[0].set_title('How to prove my knowledge')\n",
        "sns.countplot(scientist['JobSkillImportanceKaggleRanking'],ax=ax[1])\n",
        "ax[1].set_title('Kaggle Rank')\n",
        "plt.show()"
      ],
      "execution_count": null,
      "outputs": []
    },
    {
      "cell_type": "markdown",
      "metadata": {
        "id": "9GKeHEFvz6A3"
      },
      "source": [
        "It is evident that Work experience in ML projects and Kaggle competitions reflects the knowledge of Data Science. Also a kaggle rank can be a good thing in one's resume. As I had mentioned earlier that relevant work experience might have a higher value as compared to any Master's or Doctoral degree. This statement thus holds good, as Data Scientists prefer work experience over degree, as seen in the above graph."
      ]
    },
    {
      "cell_type": "markdown",
      "metadata": {
        "id": "6cDZJ4qo0D9Y"
      },
      "source": [
        "### How did they search for Jobs?"
      ]
    },
    {
      "cell_type": "code",
      "metadata": {
        "id": "2cu2e9rkuHFR"
      },
      "source": [
        "plt.subplots(figsize=(10,8))\n",
        "scientist.groupby(['EmployerSearchMethod'])['Age'].count().sort_values(ascending=True).plot.barh(width=0.8, color=sns.color_palette('winter',10))\n",
        "plt.title('Job Search Method',size=15)\n",
        "plt.ylabel('')\n",
        "plt.show()"
      ],
      "execution_count": null,
      "outputs": []
    },
    {
      "cell_type": "markdown",
      "metadata": {
        "id": "Lzrjn-hS0Tax"
      },
      "source": [
        "### Checking the Free Responses\n",
        "\n",
        "This file contains the free form responses answered by the repondents. The problem with this one is that being a free form response, every user will answer in their own way. An example of this that I observed is the library Pandas is written as pandas, Pandas, panda and in many such differnt forms. Thus I will try to analyse this file using nltk(Natural Language Toolkit)."
      ]
    },
    {
      "cell_type": "code",
      "metadata": {
        "id": "FE-zFWZiuHCq"
      },
      "source": [
        "from wordcloud import WordCloud, STOPWORDS\n",
        "import nltk\n",
        "from nltk.corpus import stopwords\n",
        "nltk.download('stopwords')\n",
        "nltk.download('punkt')\n",
        "\n",
        "free = pd.read_csv('/content/drive/My Drive/kaggle_survey/freeformResponses.csv')\n",
        "stop_words = set(stopwords.words('english'))\n",
        "stop_words.update(',',';','!','?','.','(',')','$','#','+',':','...')"
      ],
      "execution_count": null,
      "outputs": []
    },
    {
      "cell_type": "markdown",
      "metadata": {
        "id": "9XIcyDyC1YNn"
      },
      "source": [
        "### Motivation Behind Working on Kaggle"
      ]
    },
    {
      "cell_type": "code",
      "metadata": {
        "id": "prA_8wf32qIE"
      },
      "source": [
        "kaggle=b'/9j/4AAQSkZJRgABAQAAAQABAAD//gA7Q1JFQVRPUjogZ2QtanBlZyB2MS4wICh1c2luZyBJSkcgSlBFRyB2ODApLCBxdWFsaXR5ID0gOTAK/9sAQwADAgIDAgIDAwMDBAMDBAUIBQUEBAUKBwcGCAwKDAwLCgsLDQ4SEA0OEQ4LCxAWEBETFBUVFQwPFxgWFBgSFBUU/9sAQwEDBAQFBAUJBQUJFA0LDRQUFBQUFBQUFBQUFBQUFBQUFBQUFBQUFBQUFBQUFBQUFBQUFBQUFBQUFBQUFBQUFBQU/8AAEQgCcgJyAwEiAAIRAQMRAf/EAB8AAAEFAQEBAQEBAAAAAAAAAAABAgMEBQYHCAkKC//EALUQAAIBAwMCBAMFBQQEAAABfQECAwAEEQUSITFBBhNRYQcicRQygZGhCCNCscEVUtHwJDNicoIJChYXGBkaJSYnKCkqNDU2Nzg5OkNERUZHSElKU1RVVldYWVpjZGVmZ2hpanN0dXZ3eHl6g4SFhoeIiYqSk5SVlpeYmZqio6Slpqeoqaqys7S1tre4ubrCw8TFxsfIycrS09TV1tfY2drh4uPk5ebn6Onq8fLz9PX29/j5+v/EAB8BAAMBAQEBAQEBAQEAAAAAAAABAgMEBQYHCAkKC//EALURAAIBAgQEAwQHBQQEAAECdwABAgMRBAUhMQYSQVEHYXETIjKBCBRCkaGxwQkjM1LwFWJy0QoWJDThJfEXGBkaJicoKSo1Njc4OTpDREVGR0hJSlNUVVZXWFlaY2RlZmdoaWpzdHV2d3h5eoKDhIWGh4iJipKTlJWWl5iZmqKjpKWmp6ipqrKztLW2t7i5usLDxMXGx8jJytLT1NXW19jZ2uLj5OXm5+jp6vLz9PX29/j5+v/aAAwDAQACEQMRAD8A/VKiiigAooooAKKKKACiiigAooooAKWiigBKKWkoAWikpaACikpaACkoooABS0lFABS0lFAC0lFFAFLW9bsPDekXmqapdxWGnWcTTT3M7bUjRRkkmvgf4sf8FlPhn4N1ybTfCXh7VfGiQ5Vr8MtpbO2cYQtlyPcqPxryn/gsJ+1Hef2jY/Bzw7qTQWiIt5r4t3GZWOGigYjnA+8R3IX0r8taaQH6wWH/AAXB053xe/Cm6hXPWDWFkOPxiWt6P/gtv4GMBMnw78QrN2VZ4Cv57h/KvyBop2A/S34of8Fq/FGrRTW3gPwRaaCGQqt7qtx9plDEfe8sKFGPQk18h/Ef9tj41fFOcPrfj7VVhUkraWUxggBP+wpxXh1FFgNbV/Futa+xbUtVu75j1M8zP/OrGk+PPEehY/s7XL+yx08idlx+RrBooA9p8E/tm/Gv4fOf7H+I2uxwkgm3nu2liP8AwFiRX0F4C/4LCfGnwxtj1220bxTbgjieAwSY9N6f1Br4UoosB+yfw0/4LRfDfXjDb+M/Cmt+F7hgA1xZ+XeW6n1Jyr4+iGvr34X/ALVHwn+Mqxf8Ij450rU55Vytq8hgnPGcCOQKxI9h2r+a+rFjqF1pd0lzZ3M1pcxnKTQSFHU+xHIosB/U6ORS1/Pt8IP+Cj/x3+D2yG18WnxJpq4/0DxHF9rTA7b8iUfg9ffvwC/4LDeBPGxtNN+I+mN4M1N8K1/blpbJmx1IOWjGfUt9aVgP0LorB8F+PfDvxF0SHV/DOs2WuabKAVubGZZF/HHQ+xrepAFFFFABR3oooAKKKKAFpKKO9ABRRRQAtJRRQAUUUUAFFFFABS0lFABS0UlABS0lFABRRRQAUUUUALSUUUAFBoooAWkpaSgBaSiigBaKSigBaKT8KKACiiigBaKKSgAooooAWkoooAKKKKAClpKKAClpKKAFopKKAFpKKKAFpKKKACiiigBaKKKACvPvjz8ZdG+AXwr17xtrbg2unQFo4N2GuJSPkjX3J/rXoFfjF/wVt/amf4i/EuH4YaDdZ8O+G/mv2Q8XF8eoPqqLsA9y1AHwt498bar8SPGmteKNcuGutV1a7lvLmVjnLuxYgeg54FYFFFWAUUUUAFFFFABRRRQAUUUUAFFFFABRRRQB1fw5+Kvi74Sa4useD/EOoeHtQGN0thcNFvA7MARuHJ4NffnwG/4LLeJvDcNtpvxQ8PjxNbIAp1XTCsV0Bnq0Zwrce4PFfmxRSA/o9+Bn7Ynwm/aIgA8H+K7ebUQAZNLvla1ukPoEkA3/AFQsPevaK/ll0vVr7Q76K9068nsLyIho57aQxup9QRyK+0PgB/wVg+LXwlWz03xObfx/oEJ2lNR/d3ipnOFnXqfd1alYD9y6Svm79nj9v34S/tE+RZaZraaJ4hkXJ0bVnEUrHIBEZPD8kdOfavpEHIyDkUgCiiloAKSiigAo7UUUAFFFFAC0UUlABS0lFABRRRQAUUUUALSUUUAFFFFABRRRQAUUUtACUUUUALSUUUAFFFFABRRRQAYooooAKKKKACiiigAooooAKKWigBKKKWgBKKKKAFopKKAFopKKAFoopKAFpKKKAClpKKAFpKKKAPIv2sPjfZ/s9fAbxT4yuZALm3g+z2Me7DS3Mh2RhfcE7j7Ka/nD1nVrnXtXvdSvZWmu7yZ55pGOSzsxJP5mv08/4LXfFeSa/wDAvw6t2YQxCTWLvD8M+PLiGPYNIc+9flvVIAooopgFFFFABRRRQAUUUUAFFFFABRRRQAUUUUAFFFFABRRRQA5HaN1dGKspyGBwQa+tv2Yf+Ck/xP8A2fJoNO1LULnxt4UDKG03VrlpZIUHUQyMSUGOi/d9q+R6KQH9HP7Nf7X/AMOf2o9GM/hLVtmsQxCW80O8Ux3dtzgkqeHUHA3ISORnGa9sr+YT4Y/E/wASfB7xpp3irwpqUul6zYSb45Yzww7qw/iUjgj3r97P2HP2vbH9rf4Xy6pLaxaX4p0mVbXVdPjk3KGKgrMmRnY/PHYqw56lAfR9LSUUgFpKKKACiiigBaSiigBaSiigApaSigBaSiigBaKSigAooozQAtJRRQAtJRRQAtJRRQAtJRRQAtIKKKAFpO1FFAC0UmfaigAooooAKKKWgBKKKWgAoopKAClpKWgBKKWigBKWiigBKWiigAooooAKSlpKACiijFABRRRQB+B3/BUfxHc+If2xfFazytJHYRQWcSE5CKi9AO3JJ/GvkuvqX/gplpL6T+2P44V8/wCkPFcjPo65FfLVUAUUUUwCiiigAooooAKKKKACiiigAooooAKKKKACiiigAooooAKKKKACvbP2Qf2hdV/Zu+NmieJbO8lg0uWVLfVbdSSlxbFhuDL3I6g9R2rxOlBwaQH9UFrcxXttFcW8iTQSoHjkjYMrqRkEEdQRUlfk7+yZ/wAFctN8HeFPDPgb4leHbr7JpdpDp8fiOwuBK5SNAiGWFlXsBlg5Psa/TH4ZfGDwd8Y9Aj1nwd4gs9csXAJNvIC6Z7Mp5U/UVIHY0UUUAFAoooAKKKKACiiigAooooAKKKKACiiigAooooAKKKKACiiigAooooAKKKKACiiigAooooAWikooAKKKKACiiigAopaKACkpaKAEpaKKAEpaKKAEopaKAEopaKAEopaKAEopaSgAooooAKKKKAPyR/4LU/CE6b4r8GfEe1gAg1GN9KvZVTH71BuiyfdA/wD3zX5kV/R5+2L8D4f2hP2efFfhHan9oPCLywlcH93cRHeuMf3gGT6Oa/nM1LTrjSNRurG7jMN1bStDLG3VWU4I/MVSArUUUUwCiiigAooooAKKKKACiiigAooooAKKKKACiiigAooooAKKKKACiiigArr/AIZfFvxh8G/EkOu+DPEF7oGpRMD5lrJhXx2dDlXHswIrkKKAP2K/ZL/4K2eH/HTaf4b+Ln2fw1rbgRLryLss7h+gMgHERPc8Lk9hX6K2V7b6lZw3VpPHdW0yCSKaFw6Op5BUjgg+tfywV9X/ALIX/BQvxx+y/dppd0X8UeCpCBJpFzKQ1vzy0DH7px1HQ8elTYD99qO1eY/AP9o3wP8AtIeDbbxD4N1RbhXQG4sJ8LdWjd0kQE4IPcEg9jXp3akAUUUUAFA6UUUAFFFFABRRRQAUd6KKACiiigAooxRQAUUUUAFFFFABRRRQAUCiigAooooAKKMUUAFFLRQAlFLRQAlFLRQAlFLRQAUUlLQAUUUUAFJS0UAJS0UUAFJS0UAFFFIaACiiigApaSigAr8UP+Cs/wCzCvwq+LsPxA0Gx8jwz4pXfcLEv7u3vl4kHsHXYw/2i9ftfXnnx9+CWg/tB/C3WfBfiCFXtb2I+TPjLW04B2Sr7qT/ADoA/mdoru/jb8GPEvwD+I2reDfFNmbXUbGVlSUA+Xcx5O2WM91YYI788gGuEqwCiiigAooooAKKKKACiiigAooooAKKKKACiiigAooooAKKKKACiiigAooooAKKKKAO5+D/AMa/GXwI8Y2niXwXrc+kajA4ZlQ7op17pIh+V1I4wR9MGv2w/Yt/4KGeE/2nbKHQtYkt/Dvj+NBv0122x3nHLwE9enK5JGa/BarOnajdaRf297ZTyWt3buJIpom2sjDkEGlYD+p2kr81/wBg3/gqBp3jCz0vwB8Wrw2PiIMttZeI5ceReA8Ks56o/QbuQepI5r9JkdZFV1YMpGQwOQRUgOooooAKKKKACiiigBaSijtQAUUUdqAA0UUYoAKKKKAFpKKKACiiigAooFFABRRiigBaKbiigB1FFFABSUtJQAUUtJQAUUtFACUUUtABRSUtABRRSUALSUtFABRRSUAFFLRQAlFFFAC0UlLQAlFLRQB+Tv8AwWk8WeBbnV/Cfh+Gx834gWw+0T30Z2+VaMDtjcY+bcTkdxivy7r6f/4KVR3sX7ZPj4X3mbzNG0fmHJ8ooNmPbbjFfMFUgCiiimAUUUUAFFFFABRRRQAUUUUAFFFFABRRRQAUUUUAFFFFABRRRQAUUUUAFFFFABRRRQAqsUYMpIYHII6iv0Z/YP8A+Cnmp/DybT/AfxVu21TwtgQ2WuS5NzY8gBZG/jj9zyPU9K/OWikB/Uzo2s2PiHSrTU9Nu4b7T7uNZoLmBw6SIRkMCOoNXK/Bf9iL/goN4k/Zau4vD+rifXvh9NPvl08tuks8n53gycDOcleAT9a/cT4efEbw58VvCVh4m8K6rBrGi3yCSG5gJ/JlOCrDuCARUgdJmiiigAooooAKKDRQAUUUUAFFFFABRRRQAUUUdqACiiigAooooAP50UUUAHNFGKKAFooooASilpKAFpKWkoAKWiigBKWiigBKWikoAKWiigBKWiigAopKWgBKKWigBKKWkoAKKKKAFpKWkoA/JL/gtH8FX07xT4V+J1opa31BP7KvsJ92VF3REn3UMOfSvzHr+mD9oL4I6H+0P8J9d8Da+mLXUIgYbgDL206kNHKvuGA+oyO9fgD+0d+yv49/Zm8X3Ok+KdHuBp28/YtZijLWt3HnhlccA+qnBHpTQHjtFFFUAUUUUAFFFbuh+A/E3iYqNH8O6tqxbp9hsZZs/wDfKmgDCor2zwv+xR8dvGEaSad8K/Ewjf7r3lg9qp/GXaK9d8Lf8Em/2hNe2Nf+HrDQI2/ivNUtnIHuI5GNK4HxtRX6WeEv+CJvjC6hEniPx9pFixP+psIJJSB7swAz16V32nf8ERNB4+3/ABK1H3+z2Uf9aLgfkrRX7R6Z/wAEX/hBaIouvEnii/YDkvPCgJ+ixitS5/4I4/BGWMLHe+IoGx95b0E/qpouB+JFFfr142/4In+ELsb/AAr471bT3248rUoo5lz67lAP4V8N/tO/sB/FD9mKKbVNVsE1vwosmxdd0074lGePMTO6PPqwAz3NFwPmmiiimAUUUUAFFFFABRRRQAUUUUAFFFFABRRRQAV9KfsZfts+Kf2T/GUZjd9X8F3rhNS0WVjjaT/rYj/DIv4gjII5BHzXRSA/p1+E3xZ8M/GzwNp3izwlqUWp6ReLw8bDdG4+9G4/hYdwa7Cv50/2TP2vvGH7J/jF7/RJ3vdBvWX+0tFlc+RcAfxBc4DgcBuvav3n+BPx88H/ALRPgS08UeD9SS8tZFAntmOJ7SQjmOROoI556HHGakD0WiiigAooooAKKKKADNFFFABRRRQAUUUUAFFFFABRRRQAZozRRQAZFFFFABS0UUAFJS0lAC0UUlAC0lLRQAlLSUtABRRRQAUUUlAC0lFLQAUUUUAFFFFACUUUUAFLRRQAUlFLQAlZ2v8AhvSvFWnSafrGnWuqWUgw1vdxLIh/AitGigD5k8df8E3fgB48nlnm8EQ6PcS8vJo8ht8n1xyB+Ved3P8AwR6+AVxIjqfFMIVslY9UTDD0OYj+lfb9FAHxxpv/AASc/Z+07bu0jV7zH/PzqG7P5IK6vSf+CbP7PGlOjf8ACvrW8KEEfa5pHB+oyM19OUUAea+Hv2aPhT4UCDSfh94fsQvTy7BOPzFegWmk2OnwpFa2VvbRIMKkMSqqj0AA4q1RQAYxS0lFAB0opaSgAooooAKwvHfgrSviP4M1rwvrduLrSdXs5bK5jIGSjqVJGehGcg9jW9SUAfzS/tG/BfUP2f8A4x+I/BOoEyHT5z5E5TaJoW5RwMngj37V5pX6tf8ABar4LxNZeCvifYWe2ZZJNG1OdE+8CPMtyxHptmGT6gV+UtUgCiiimAUUUUAFFFFABRRRQAUUUUAFFFFABRRRQAV7B+zL+0/4v/Zd+IFr4j8Nz+faE7L7SZ2PkXkR6q2Oh7hh0IHXpXj9FID+k79m39pLwn+098O7fxR4XuArKRFfadIwM1nNgEo/tzwe4r1ev5sf2bv2kPFv7MnxCt/E/he8dUYql9pzOfIvYgfuSL0OOcHqMnGM1+/f7Of7RvhH9pj4d2Xinwteo7Mire6c7Dz7GbHzRyL14OcHoRyKQHqdFFFIAooooAKKDRQAUUUUAFFFFABRRRQAUUUUAFFFFAC0UlFABS0lFAC0UlFAC0lFFAC0lFFAC0lFFAC0UUlABS0lLQAUUlLQAUUUUAFJRS0AJRS0UAFJRS0AJS0UlABRRRQAtJRS0AJRS0UAJRS0lABRS0lABRRRQAUUtJQAUUUUAeI/tofCRfjV+zZ408OKub37Ibu0bbuKzRfMMD3AYfjX85UkbRSMjqVdSVZT1B9K/qhkjWWNkYZVgQR6g1/OH+2X8N0+Ev7UPxH8MxRmK2t9Ve4t0IxiGdVnjA9gsqj8KaA8YoooqgCiiigAooooAKKKKACiiigAooooAKKKKACiiigAr179mX9pjxV+y/8AEey8T+HZjNbBgl/pcjkQ3sJ+8jehxyG7EA89K8hopAf0rfs8ftC+FP2k/h7aeKvC11uRsJd2UjDzrSXGSjj+R7j8a9Pr+b79l79qDxb+y38QYvEHhy7drGYrHqWlucwXkQPRl9Rk4YcjJ55Nfvz8APj74U/aN+Hen+LfCt9HPDOii5sy4M1nNj5opF6gg5+o5HFSB6RRRRQAUUUUAFFFFABRS0lABRRRQAUUUUAFFFFABmilooASilooASiiigAxRS0lABRRRQAUUUUAFFFFABRRRQAUUUUAFFFFABRRRQAtFFFACUtJS0AFFFJQAUtFJQAtFFFABRRRQAUUUUAJS0lLQAlLRRQAlLSUUAFFLSUAFfjT/wAFnPhmdA+N3h7xlAii217TVinbHJniyn/osJ+tfsvXwn/wWD+G6eK/2ZYfEkdsZbvw3qUU/mLnKRSkRPn2yy0AfiLRRRVgFFFFABRRRQAUUUUAFFFFABRRRQAUUUUAFFFFABRRRQAV7b+yj+1N4l/ZY+JFn4g0iSS60iSRU1PSt+Eu4M/MPQMByD2IFeJUUgP6c/hH8W/DXxu8Cab4t8KX632k30YZTwHibHKOuTtYdxXZ1/Pl+w9+2Zrv7KHxAy8sl94J1R1TVdKY5UYPE0f911yenBB5zgY/e7wJ450T4leEdK8TeHb6LUtG1KBZ7e5ibIZT2PoQcgjsQRUgb1FFFABRRRQAtJS0lABS0UlABRS0lABRS0lAC0UUUAFJRRQAtJS0UAJRS0lABRRRQAUUUUAFFLSUALSUtJQAUUUUAFLRSUAFFFLQAlLSUtACUUtJQAUtFFABRRRQAUlLSUAFLRRQAlLRRQAlLSUtABRSUtACUYoooAKKKO9AC15X+1R4F/4WT+zj8SPDqpvnvNBvBbjGf3yxM0X/AI+q16nSSRrKjI6h0YYZSOCKAP5XZEMUjI3VSQabXon7Q/w+f4V/G/xr4UaFoBpmpywoj/3M5U/QgivO6oAooopgFFFFABRRRQAUUUUAFFFFABRRRQAUUUUAFFFFABRRRQAV9n/8E9v28bv9mTxHH4V8TPLd/DrVLkGYL8zadIxAM6DuvQso5wMjJ4r4wopAf1M6PrFj4h0u11LTbuK+sLqNZYLiBgySIRkEEdRVw1+Mv/BND9va5+FfiG0+Gfj3Ug3gu/cR6dfXTHOnTn7q7v8Anm3TB6HBGOc/sxFKk8SSRuHjcBlZTkEHoQakB1FFLQAlFFFABRS0lAAKKKKACiiigAxRS0UAFFJRQAUUUUALSUUUAFFFFABRRRQAtFJRQAdKWkooAKKKWgBKWikoAWiiigAooooASlpKKAFpKKKAFopKKAFoopKAFooooAKKKSgBaKKKACikooAWikooAWikooAWkoooA/Db/grp8Pn8IftUyauqqLTxBpsN4jDvIpZHB9+F/MV8R1+tv/BbnwGlx4L+G/jOOLElnqFxpM0gH3hNGJUB+n2d8fU1+SVUgCiiimAUUUUAFFFFABRRRQAUUUUAFFFFABRRRQAUUUUAFFFFABRRRQAV+uH/AASy/bng17SbL4PeO9TK6va/u9Avrk5FxHk4t2c/xLnC56jAHQCvyPq1pmp3ejahbX9hcSWl5bSLLDPC2143ByGB7EGkB/U3RXyH/wAE+P22bP8Aah8DLouuSw23xB0a3X7dCpwLyMYX7QgPqSNw7FvevrypAKKKKACiiigApaSigAooooAWikzRQAUUtJQAUUUUAFFLSUAFFFFABmiiigAooooAKKKKACiiigAooooAKKKKACloooASlopKAFpKWkoAWkoooAWkpaKACiiigBKWkooAWikooAKWkooAWkpaSgAoopaAEopaSgD5a/4KYfDt/iJ+yF4uSCET3ekNDqsCcZ3I2xiM+iSOfwr+f+v6h/H3hm38Z+B9e0K6Uvb6jYzWzgdfmQjj35r+Y3xXoM3hXxRrGi3AIn068ms5Awwd0blD+opoDKoooqgCiiigAooooAKKKKACiiigAooooAKKKKACiiigAooooAKKKKACiiigDsvhB8V/EPwR+ImjeMvDF49lq2my71KsQsqHh43HdWUkEe9f0Hfsp/tM+Hf2pfhZZ+KNFlWG/i/0fVNNJ/eWdwBypHdSPmUjgg+oIH839e7fsf8A7VWvfsqfFC212wZ7vQbpli1bS92FuYc9R6OATg/zpMD+jCisXwb4x0f4geF9M8RaBfR6jo+pQJc21zEcq6MMg+x56Vs1IC0lLSUAFFFFABRRRQAUUtFACUUtJQAUUUtABSUtJQAUUtIKACiiigAopaSgAoopaAEoopaAEooooAKKKWgApKWkoAWikooAWkpaSgAooooAKWikoAWiiigAoopKAFpKKKAClpKWgBKKKKAFopKKACiiigAr+fL/AIKO/D5vh5+2L8QbdIvLtNSuY9VgYDAfz4kkkI/7aNIPqK/oNr8kv+C2Hw3Fp4y8CeOYoyBe2T6VMwHBaJ2kUn3xJj8KaA/MeiiiqAKKKKACiiigAooooAKKKKACiiigAooooAKKKKACiiigAooooAKKKKACiiigD9D/APgld+2k3wz8WW/wp8XX4TwtrMxGmXVw+FsrpuiZPRHPH+8Vr9lgQQCOQec1/K9BPJazxzQu0csbB0dTgqwOQRX7sf8ABNL9rpP2ifhMfD+uTonjXwyEtrhS+Wu7fH7ucA854ZWHP3Qc/NgSwPsmiiikAUUUUALSUUUALRRRQAlFFFABRRRQAUUUUAFFFFABRRRQAUUUc0AFFFFABRRRQAtJS0lABRRS0AFFFFACUtFIaAFpOlLSUALRSUtABRRRQAUUUUAFJS0lABRRS0AJS0lFAC0UUUAFFJS0AJS0UUAJXx5/wVW+G7ePP2Sdcv4U33fh6eLU1+XJEasBJ9PlJP4V9h1gfEHwbZfETwNr/hjUFD2OsWM1jMGGRtkQqTj2zmgD+XmitLxJ4fvfCmv6ho2ox+Tf2E7288f911OCKzasAooooAKKKKACiiigAooooAKKKKACiiigAooooAKKKKACiiigAooooAKKKKACvS/2dvjlrn7O/wAV9F8Z6HOySWkoW5gH3biAn542HoRXmlFAH9Qnw88e6P8AFDwRonivQLkXej6vaR3ltKOux1BwR2YdCOxBFdDX5S/8Eef2ovJu7n4La3MxE/m3uhO3OGCl5oevorOPoa/VqoAKKKKAClpKKAFooooASiiloASiiigAooooAKKKKACiiigAooooAKWkpaAEoopaAEopaSgApaSloAKKSloASloooASilooASlopKACilpKAFpKKWgApKKWgBKKWkoAWiop7qG1QvPNHCn96Rgo/WuJ8TfHf4deDZzDrXjbQ9PmAyYpb6PePqASRQB3dFeIah+218C9Lz9p+JuhpjrtkZv5KapWv7eXwAvWxD8UdFY+/mr/NKAPe6K8v8PftRfCXxVII9M+IWgXDk4CteLGSf+BYr0Wx1ex1MZs723u++YJVf+RoAt0tFJQAUUtJQB+C3/BUr4Vn4bftX67eQ24hsPEca6tEyDCs7ZEn0ww/WvkOv2A/4LVfC/8Atb4Y+CfHVtbh59I1F9OuZFHzCGeMsCT6B4QPq/vX4/1SAKKKKYBRRRQAUUUUAFFFFABRRRQAUUUUAFFFFABRRRQAUUUUAFFFFABRRRQAUUUUAdT8LfiHqfwn+I3hzxjo0rQ6lot9FeREfxbW+ZD7MuVI9Ca/pR+FPxF0v4t/DrQPF+jTLPp+rWqXCMjBtpI+ZTjuCCD9K/mFr9ev+CL3xrOueBvFvw0vpma60edNUsQ5zmCUbJFHsrIh/wC2lSwP0rooopAFFFFAC0UlFABRRRQAUUUUALSUUUAFFFH40AFFFFAC0lFLQAlFFFABRRRQAtJRRQAUtJRQAtFFFACUtFFABRRRQAlLRSUALSUtFABSUtcV8VvjL4N+CPhiXX/GmvW2h6anAaYlnkb+6iKCzHjsKAO0rm/HvxI8LfC7Q31nxbr+n+HtMQ4+06hcLCpPoNx5PsK/LX9pH/gsdq2sS3Wj/CHSW0my5T+3dVRTPJzy0cQJCg9iTn2FfnX47+Ivib4na7JrPirXL7XtTkzm5vpmlfnsCT0p2A/Yf40f8FhPhh4Ia5svBNhd+N7+PCrcKDBaZ9dzDLAewr4r+J//AAVu+OvjoTwaLe6X4Ks3OANJsleXb7vN5hB91xXxTRTsB6D4v/aD+Jvj26M/iDx74h1Ryu3E2oy7AMk4ChgoHJ7VwU88lzK0k0jyyMcs7sST9SajopgFFFFABXV+Evix418BXcV14c8W63oc8f3WsL+WHHthWAI9jXKUUAfXvwu/4KnfHz4dXKC/8RW3jHTxgG0120R+O+JIwkmfqxr7i+CP/BYn4d+NJLWw8eaTceDL+RhG15GfPtCT/ET1QfXNfjBRSsB/UX4P8baB8QNDg1nw1rNlrmlzgGO7sJ1ljb8VJ59q2q/mQ+E/xn8Z/BDxNHr3gvXrrQ9QXhzbuQkq/wB116Mvsa/Un9l7/gsB4f8AFTWWgfFyx/4R3U3IjXXrJC9nJwMGRB80ZJz0DD6UrAfaP7Uvwlt/jh8AvGXg+aISS3ti0ltnqs8ZEkZB7fMoH0Jr+bjU9Pn0jUruxuUMdzayvBKh/hdSQR+YNf1IaPrVh4h0231DS7231GwuEDxXNrIJI3UjIIYcEV+Cn/BTf4PN8JP2svEjwxFNL8RpHrtqwHBMuVlH182OU/Qj1oQHyjRRRVAFFFFABRRRQAUUUUAFFFFABRRRQAUUUUAFFFFABRRRQAUUUUAFFFFABRRRQAV9DfsEfGG4+C37UHhDVUnEVhfzjS79WJCvBKQCD9GCke4r55qW2uHtLmKdDh43DqfcHIpAf1QUV5T+yn8R/wDhbX7OPw78VPIZbm+0a3F05Oc3CII5v/IiPXq9SAlFLRQAlFLRQAlFFGaACiiigBaSiigAooooAKKWkoAWkoooAKKKWgBKKKKACiiigAooooAKWiigApKWigAoopKAFpKWigApCQoJJwB1Jqtqmq2eh6bdahqF1DZWNrG009zcOEjiRRkszHgADvX5G/t7/wDBT2XxzHe+APhJe3FnoeXh1DxDGWikvB02Q9GVOuW4JyO3UA+nv2wv+CnXg/4BrqPhvwYbXxf45jQphJN9lZSf9NWQ5YjugIPYkV+O/wAZvjz44+P/AIpl1/xvrs+r3rf6uM4SCBf7scY+VR+vrXAEkkknJPekqrAFFFFMAooooAKKKKACiiigAooooAKKKKACiiigD6L/AGW/25/iP+y9q8KaVf8A9s+F3YC50HUSXhZfWM5BjYDoQceoNfVn7fHxF8A/tn/s3aF8UfBlzjxF4Yn8jU9KcgXFvDLyQ4xkqpDEMODuNfmRVmy1O700Ti0uprYTxNDL5TlfMjb7ytjqD6UrAVqKKKYBRRRQAUUUUAFFFFABRRRQAUUUUAFFFFABRRRQAUUUUAFFFFABRRRQAUUUUAFFFFAH7Zf8Ec/iEviX9mi+8NSSs0/h3VZolRu0Up80Y9tzvX3nX46f8EW/iKNG+L3izwfM37vWdPFxAM/8tYjk8f7mfyr9jKlgJRRRSAKKWigApKWkoAKKKWgApKKKACiiigAooooAPxooooAKKqanq9jotsbjUb23sLcdZbqVY0H4sQK8m8aftkfBH4f7xrXxO8OxOn3orS8F3IPqkO9v0oA9kor491//AIKw/s6aO7ra+KNQ1kr3stHulB+hkRK466/4LMfBGAny9I8W3OP+edjCM/8AfUooA+86K+AI/wDgtL8GHchvDHjSMf3mtLXH6XFa2n/8FjPgVeSqs9t4nsVPV5tOVgP++JGNAH3TRXyx4Z/4Kd/s4+JmEa+Pxp0xx+71DTLuEf8AfRi2/rXt3g/47fDn4gRRv4c8deHtaL8CO01OF5M+hQNuB9iKAO6opAcjI5FFAC0UlFAC0UUlAC1Be3kGnWk11dTJb28KGSSWRtqooGSSewqavyT/AOCp37c0+sazcfCDwHqrx6ZaAp4gvrRyvnzZ/wCPYMOqqPvY4JbHO3gA87/4KJ/8FBr/AOOGtX/w/wDAt49n4BspjFc3cLEPqzqcZJ7RZHA/iwCfSvgqiiqAKKKKYBRRRQAUUUUAFFFFABRRRQAUUUUAFFFFABRRRQAUUUUAFFFFABRRRQAUUUUAFFFFABRRRQAUUUUAFFFFABRRRQAUUUUAFFFFABRRRQAUUUUAFFFFAH0T/wAE+PGLeCf2w/hldrIY1u9TXTW5wGFwpgwf+/lf0O1/L78NfEX/AAiHxG8K69v8v+y9VtL7f/d8uZXz/wCO1/T1YXKXljb3EbrJHLGrq6nIYEZBBqWBPRRRSAWiiigBKKWkoAKKWkoAKM0tIaACiisnxV4u0TwNoVzrXiHVrLRNJthumvb+dYYk+rMQM+1AGtWX4j8UaP4Q0yTUdb1O10mxj5e4vJljQfiTX5yftLf8FiND8PvfaJ8ItO/t29TMQ1++jK2qtnG6JDy/sWGD7ivzJ+LPx++IXxy1V7/xv4s1PXnLb0t7ic/Z4jz/AKuEYROv8IFOwH6/fG7/AIK5/Cf4Z3Vzp/ha0u/H+pw5BazlFvZlgcYExVifwQiviH4pf8FdvjX45lni8Pf2X4HsHBVFsIfPuFHvLJkE+4UV8P0U7Adt43+Nnj74kXX2jxN4v1fWZOSPtN2xUZ64UEAflXFs7OxZiWY9STkmm0UwCiiigAooooAKs2eo3enPvtLqa2f+9DIUP6VWooA97+FH7dHxr+DbRR6D42vJ7GNdgsNTAuYCOOzcjp2Ir7Y+C/8AwWrdmt7H4oeCY1HAk1fw7MRx6/Z5M8/9tB9BX5WUUrAf0ufBz9oz4d/HrTPtngnxPZ6wVXdLaq4WeEZx88Z5HNek1/Ld4Z8U6z4M1m31fQNVvdF1S3bdFeWE7QyofZlIIr9Cv2Wv+CvPiXwe9tofxdjl8UaSCqLrcCKLyFfVwAPNHv8Ae9zSsB+xFJXIfC/4veDvjP4ag17wX4hsdf02VQS9nMrNET/DInVG/wBlgDWt408YaV4A8J6t4j1u7jsdJ0y2e6ubiVgqoijJ5NID5U/4KR/tgj9m34Utonh+4UeO/ESm3s8NzZwHiS4I9QPlX3YHtg/hLfXtxqV5Pd3Uz3FzO5kllkOWdickk+pNenftN/HzV/2kfjDrvjPVJJVguZmWws5HyLW2BPlxgdBhcZx1OTXlVUgCiiimAUUUUAFFFFABRRRQAUUUUAFFFFABRRRQAUUUUAFFFFABRRRQAUUUUAFFFFABRRRQAUUUUAFFFFABRRRQAUUUUAFFFFABRRRQAUUUUAFFFFABRRRQAUUUUAFf0q/sveLY/Hf7PPw+12KUTC80a3YsDn5ggVh+BBFfzVV+9H/BKvxYvij9j3w9EJlkfSru409lDZKbSrAEduHz+NSwPr6koopALRSZ96KACiiigAooooAKKK/On9v/AP4KYW/wta58A/CnUbbUPFLIU1DXICs0Wn5/gjPKtL1z1C/XoAe9ftcft7eBP2VtPmsZz/wkXjN4i1toVpKFKkj5WmfnYvToCfavxd/aI/a2+Iv7TOuNd+LNYkGnIxNtpFqSlrAOei9zz1PNeTa5rmo+JtXu9U1a9n1HUruQyz3VzIXkkcnJLMeTVGqsAUUUUwCiiigAooooAKKKKACiiigAooooAKKKKACiiigD0z4CftEeNf2cfG1r4l8H6k1vLGcT2UxLW91H3jkXPIPtyDg19Y/te/8ABTUftHfs/aR4P0jRrnw7q99MT4gTzA0JRNpRYm6srksSCBjaBz1r4CopAFFFFMAooooAKKKKACiiigAooooAKKKKACiiigAooooAKKKKACiiigAooooAKKKKACiiigAooooAKKKKACiiigAooooAKKKKACiiigAooooAKKKKACiiigAooooAKKKKACv10/4Ij+L/ALd4F+JXhpn5069s7xEJ6+csykj/AL8j9K/Iuvvv/gjR46/4R79pDXfD0rlbfXtDcKM9ZoZUZP8Ax1paTA/aqiloqQCiiigBKKKKACiivj//AIKNftjx/szfDYaLoV0q+PdfhYWIXDNaQ52tOQffIXPUg+lAHiP/AAUy/wCCgS+D7fUPhP8ADrUSdclDQa3qtuRi1Q8NAjA/fPIb0GRX5FyyvPK8kjF5HJZmY5JJ7mpL29uNSvZ7u7nkubq4kaWWaVizyOxyzMTySSSSagqgCiiimAUUUUAFFFFABRRRQAUUUUAFFFFABRRRQAUUUUAFFFFABRRRQAUUUUAFFFFABRRRQAUUUUAFFFFABRRRQAUUUUAFFFFABRRRQAUUUUAFFFFABRRRQAUUUUAFFFFABRRRQAUUUUAFFFFABRRRQAUUUUAFFFFABRRRQAUUUUAFFFFABRRRQAV7H+yF8Xbf4GftGeC/GV87JptjdlLwou4+TIjI3GR03Z/CvHKKQH9SfhvxHpni/QLDW9GvYtR0q/hW4trqE5SRGGQR/h2rSr8rP+COn7TN9c3epfB7XtSe4t0ja90GOdwTHjLTQp3x1fHb5q/VSpATNFLRQAlFFFAGB4/8caT8NfBes+KdduRaaTpVs9zcSt/dA4A9STgAepFfzkftJ/G/U/2h/jJ4g8bamzgXk2y0gZsiC2UkRxj0wOfqTX6cf8Fk/j6/hj4a6L8LtNm2XXiKZbzUSuc/ZYWDKmf9qQIfonvX48U0AUUUVQBRRRQAUUUUAFFFFABRRRQAUUUUAFFFFABRRRQAUUUUAFFFFABRRRQAUUUUAFFFFABRRRQAUUUUAFFFFABRRRQAUUUUAFFFFABRRRQAUUUUAFFFFABRRRQAUUUUAFFFFABRRRQAUUUUAFFFFABRRRQAUUUUAFFFFABRRRQAUUUUAFFFFABRRRQAUUUUAeofsxfExvhB8f8AwF4saUxWun6xbPeMDgm2MqiYfihYV/SnDMlxCksbB0dQyspyCDX8rlf0lfsleMx8QP2avhxrrStNNc6JbeczdfNVAr/qDUsD1yikopALSUVQ8QaxD4e0LUNUueLeyt5LiTnHyqpY/wAqAPwA/wCCinxWk+K37WPja4WdprHSLptHtgT8oWAmMlR6EqT75r5orR8R65ceJ/EGpavdnddX9xJcyn/adix/U1nVQBRRRTAKKKKACiiigAooooAKKKKACiiigAooooAKKKKACiiigAooooAKKKKACiiigAooooAKKKKACiiigAooooAKKKKACiiigAooooAKKKKACiiigAooooAKKKKACiiigAooooAKKKKACiiigAooooAKKKKACiiigAooooAKKKKACiiigAooooAKKKKACiiigAr9/wD/AIJlmc/sb+B/PYt8suzPZN5wK/AEAkgAZJ7V/SB+x78Nrj4Tfs1+AfDV6xa+ttMie4yu3bI43MuPYnH4VLA9lopKKQBXin7anjFvAn7K3xN1WNgs/wDYlzbwknGJJEKKfwLV7XXxP/wVz8Zv4b/ZNutNhZRLrWpW9sxPXy1be2PyH60AfhlRRRVgFFFFABRRRQAUUUUAFFFFABRRRQAUUUUAFFFFABRRRQAUUUUAFFFFABRRRQAUUUUAFFFFABRRRQAUUUUAFFFFABRRRQAUUUUAFFFFABRRRQAUUUUAFFFFABRRRQAUUUUAFFFFABRRRQAUUUUAFFFFABRRRQAUUUUAFFFFABRRRQAUUUUAFFFFABRRRQAUUqqXYKoLMTgADkmvrv8AZF/4Jx+PP2kb6LVdXjl8H+Co9rvqV5ATLdAn7sCcZ4ByxIA465pAVv8AgnX+ybe/tG/GXT9S1KzlHgnw/cR3moXDxnyp2Rgy24PQliACP7pNfvkF2qAOAOBXF/CD4Q+Gfgb4B0vwh4UsFstKsIwgPBkmf+KSQ/xMxySffjA4rtKkBaKTFFABX5k/8FuPFCW/gz4beH0Y+bcXl1dyDPG1VRV/Un8q/Tavx0/4LYeIfP8Ajf4I0MNkW3h5bwj0MlzOn/tKgD85aKKKsAooooAKKKKACiiigAooooAKKKKACiiigAooooAKKKKACiiigAooooAKKKKACiiigAooooAKKKKACiiigAooooAKKKKACiiigAooooAKKKKACiiigAooooAKKKKACiiigAooooAKKKKACiiigAooooAKKKKACiiigAooooAKKKKACiitrwx4K1/xpfRWeg6LfavdSsESOzt2kJb04FAGLRX2b8JP+CUPxx+JJt7jVrGw8E6bJy0uszkzBfVYowxJ9iVr7X+D3/BHL4Z+DPKuvG2t3/je9UZMSR/Y7YH0KhmLfmPpSuB+NWh6BqnifU4dO0fTbvVtQmO2K0sYGmlkPoqKCT+Ar7J+A/8AwSi+L3xUeC88TWo8AaKxBMmqr/pTL3xBncp6feA61+znw8+Dvgn4Uaclj4Q8MaZoFuqCPFlbqjMB03NjJPua7GlcD5F+AX/BMT4NfBOWz1K90k+NfEVvhxfa5+8iR+uVg/1fHYlSRjNfW8MMdvEkUSLHEgCqiDCqB0AA6VJSUgClpKKACilooASvwt/4K667/a/7YuoWu7d/ZmjWVnj+7kPNj/yNn8a/dKv56P8Agopqr6x+2h8T55JDJtvYYVJPQJbQoB+G2mgPnGiiiqAKKKKACiiigAooooAKKKKACiiigAooooAKKKKACiiigAooooAKKKKACiiigAooooAKKKKACiiigAooooAKKKKACiiigAooooAKKKKACiiigAooooAKKKKACiiigAooooAKKKKACiiigAooooAKKKKACiiigAoorofB3w88UfELUYrDwz4f1LXbuVtqxWFq8pz74GB9TQBz1FfbHwn/AOCSXxv+IAt7rXbfS/BGnSYYnVbrfcFT/djiD8+zFa+2/g7/AMEgPhT4F+zXXi++vfHGoR8sko+z2rH0MYLEge559O1K4H4y+FPBmv8AjvV4tK8OaLf69qUn3LTTrZ55Tzj7qgmvsb4L/wDBJT4wfEhLa88Srb+A9Lkcbv7RBe6C9z5IIIPs2K/aHwN8NPCnwz0qPTfCvh/TtAskUKIrG3WMED1wMn8a6alcD4d+E3/BIn4KeBBBceJU1Px1qCcn7fdNBbhvaOEoT9GZhX134J+GPhH4badFY+FvDWl6BbRrtVLC1SIke7AZJ9ySa6ekpAFFFFAC0UlFAC0lLSUALRSUtABRRRQAlfziftp339o/tW/FGfOf+J3Mmf8Adwv9K/o6LBVJPQcmv5nf2h9ZTxD8e/iLqUYYR3PiG/kQP1C/aHxn8MU0B57RRRVAFFFFABRRRQAUUUUAFFFFABRRRQAUUUUAFFFFABRRRQAUUUUAFFFFABRRRQAUUUUAFFFFABRRRQAUUUUAFFFFABRRRQAUUUUAFFFFABRRRQAUUUUAFFFFABRRRQAUUUUAFFFFABRRRQAUVYsNOu9UuVt7K1mu7h/uxQRl3P0A5r334X/sB/Hb4stbyaV4Bv7CxmAYX2sFbKIKejYkIYj6KaQHz1RX6j/Cb/gilfyeVcfEfxvbW4xk2Xh9Glz7GSRUx+ANfZHwo/4J1fAn4TG3mtfBdpruoQ5IvNdAvG3eoVwVHtgcUXA/CH4d/B3xt8Wr4Wfg/wAL6p4im3bWGn2ryhD/ALRAwPxr6/8AhN/wR++LnjVoLjxVeaf4KsHYFhMftFxt7/u1IwfYmv2s07TLTR7OO0sbWGztYxhIYECIo9ABwKs0rgfD/wAI/wDgkV8FfAPlXPiQap471BTu/wCJjcmC3U/7McO0/wDfTNX194N+HPhf4eabDYeGfD+naHaRLsSOxtlj49yBk/UmujpKQBRRRQAUUUUAFFFFABRRRQAUUUUAFFFFAC0UlFAC0UlFAFPWp/s2jX03Ty4JH/JSa/mG+IVx9r8feJZ8583U7l8/WVjX9N/i448Ka0fSyn/9FtX8wnig7vE2rn1vJj/4+aaAy6KKKoAooooAKKKKACiiigAooooAKKKKACiiigAooooAKKKKACiiigAooooAKKKKACiiigAooooAKKKKACiiigAooooAKKKKACiiigAooooAKKKKACiiigAooooAKKVVZ2CqCzE4AAySa9H8C/s3/FP4lyBfDPw/8Q6unH76HT5BCM9MyMAo/E0Aeb0V9tfDb/gkb8dfGUkD67ZaX4LtHILNqd8ksgX2SAyHOOxx74r6y+GH/BF/wDoe2fxv4o1HxLLlSbWzH2WEY6jcDuOfwxSuB+OgBJwBk16R8M/2cfiX8YZ408I+DdV1mNz/AMfEFu3lL7s/QCv32+HP7G/wW+FLRyeHfhzoUF1HjZd3VotzcLjuJZdzA++a9ljRYkVEUIijAUDAApXA/FX4af8ABHH4teK4o5/E+r6R4PgY/wCrYm6mx6lVIA/OvrD4cf8ABGz4Q+F2juPE+ta/4uuRjdC8sdrbN/wFE3/+P1990UgPN/hz+zh8MfhLbxxeFPBOkaSYxtWZYPMlH/bR9zfrXpAAAAAwKKKACiiigBaSiigAooooAKO1FHagAooooAKKKKACiiigAooooAKKWkoAKKKKACiiigDH8ZHHhDXD6WM//otq/mD8RnPiHVD63Uv/AKGa/p/8XR+b4U1pP71lMP8AyG1fzB+KIvJ8TavH/cvJl/JzTQGXRRRVAFFFFABRRRQAUUUUAFFFFABRRRQAUUUUAFFFFABRRRQAUUUUAFFFFABRRRQAUUUUAFFe4eE/2Jfjh468Had4q0H4d6pqehajF51rcwmPMqdmCFt2Djg45HIrM1r9kP43aAjve/CbxisactJFotxKo9yUUikB5FRXby/A34kQZ8z4f+KY8f39FuR/7JVSX4SeOYf9Z4M8Qx/72lTj/wBkpgcnRXYwfBvx/c48nwN4klz02aRcN/JK0rP9nP4sahIsdr8MPGVy7dFh0C7cn8o6QHnlFev237H/AMcrrGz4ReNV/wCumhXKf+hIK3tK/YJ/aC1lgIPhVr8ZP/P1Ctv/AOjGWgDwKivrTRf+CWP7SGrAPL4Gi0+M/wAV1rFkD/3yJif0rutG/wCCOfxt1Hb9su9A0rPXz7zfj/vgNRcD4Ror9NPD3/BEfxO6RtrnxF0mFj99LC2lfH0LAZ/KvVvCf/BFL4e2KB/EHjbX9Umz/q7VYoI8f98lv1FFwPx1or93/C//AASc/Z68PyiS88O6hrzgYAvtUnC59cRuoP8AKvU/D/7DfwD8MlDafCjwxMU5U32npdn/AMihs0XA/nUisbmf/V28sn+4hNdp4c+BHxE8XrG2jeC9a1FZMFDDZuQ304r+kTQPhd4N8Kbf7E8JaFo+3p9g02GDH/fCiumHFK4H8+PhP/gnH+0H4tiWWL4fXmmxMeG1N1g/QnP6V694S/4I2/GfW4hLrGreG9AQnGx7mSeTHrhUA/Wv2woouB+VnhH/AIIgfOJPE/xTJTvb6XpGCf8Ato8p/wDQa9x8Gf8ABH74GeGQj6lP4j8STZywv72JIz7BY4lIH4mvuKikB5P4C/ZP+EPwyFv/AMI78P8ARbGSADZM1v5smR/FufJz716pBaw2ibIIkhT+7GoUfpUtJQAUtJR2oAWkoooAKKWigApKWkoAWkoooAKKWigBKKKWgBKKKKAFpKKKACiiigBaSiigBaSiloAKSlpKAFopKWgAooooApa3H52jX8f963kX81NfzC/EGLyPHviWLps1O5X8pWr+oSWMTRPGejKVP41/Mt8d9Ek8N/Gzx9pcxBktNevoiV6HE74I/CmgOFoooqgCiiigAooooAKKKKACiiigAooooAKKKKACiiigAooooAKKKKACiiigAooooAK9w/Y3/Z6uv2lvjronhNS0WmIftmpTqOY7ZCN2PckgD614fX68/wDBFb4SDSfAXjX4iXMOJ9Wu49KtGYcrHCu+Qj2ZpU/749qTA/R7QNDsfDGh6do+mQLa6dp9vHa20CfdjiRQqKPoABV4jIooqQGGGM9Y1P4Cmm0gPWGM/wDABU1JQBGLaFekSD6KKeEVegA+gpaKACiiloASlopKACiiigAooooAKWikoAKWkooAKKKKAFoopKACiiloAKSiigAooooAKWikoAKKKKACilooASlopKAClpKWgBKKKWgAopKKACiiigBaKSigBaSlpKAFpKKKAFooooASv5zf24tK/sX9rb4o2uNv/E4eXH++qv8A+zV/RlX4If8ABU/wwPDf7aXjGZIzHFqtvZX6D1zbpGxH1aNqaA+SaKKKoAooooAKKKKACiiigAooooAKKKKACiiigAooooAKKKKACiiigAooooAKKKKACv6Cf+CbXhQ+Ff2OfAQdPLk1GB9QZf8Afc4P4qqn8a/n2r+kf9kKy/s79mH4Z22MeXoduMf8BqWB69RRRSAWkoooAKKWkoAKKKKACiiloASiiloASiiigAooooAKWkooAKKKKACiiigAoopaAEpaSigBaKSigAooooAKKKKACiiigAooooAKKKKACiiigBaSiigAoopaAEooooAKKKKACiiloAKKTFFABX43/wDBazwkbL46eDfEartjvvD6WbED7zxXE7E/98yqPwr9kK/Ob/gtR4HGq/B/wZ4oSHMmkanJbvKM8LMq4B/FKAPxzoooqwCiiigAooooAKKKKACiiigAooooAKKKKACiiigAooooAKKKKACiiigAooooAK/pn+AOnNpXwR8DWjLsaLR7YEen7sGv5wvhR4Ybxr8UfB/h5IjM2q6xZ2PlqMlvMmRMf+PV/Tnp1olhp9tbRoESGJY1VRgAAAAAfhUsCxRRRSAKKKKACiiigAooooAKKKKACiiigAoopaACkopaAEooooAWkooxQAUUUUAFLRSUAFFFFAC0lFFABRRRQAUUUUALSUUUAFFFFABRRRQAUUUUAFFFFABRRRQAUUUUAFFFFABRRRQAUUtFACV4L+3Z8PJPib+yj8RNIgRZLqLTZL+BG/ikgHmqB7nbge9e9VW1PToNX066sblBJb3MTQyIf4lYYI/I0Afyx0V1/wAXfh9d/Cn4n+KPCF6rLcaNqM9kS4+8EcqG+hAz+NchVgFFFFABRRRQAUUUUAFFFFABRRRQAUUUUAFFFFABRRRQAUUUUAFFFFABRRUlvbyXc8cMSGSWRgqqo5JPQUAfZv8AwSk+CV18TP2ndK8Sy2/maH4RV9QuJG6GYoyQKPcOyt9Fr91K+ZP+Cfn7MKfs0fAnTrW/h2+K9bRNQ1ZmGGjkZcrD/wAAB2n3Br6bqACiiigAopaSgAopaSgAooooAKKKKACilpKACiiigAooooAKKKKACiiigAooooAWkoooAKKOKKACiiigAooooAKKKKAFpKKKAFpKKWgApKKKAFpKKKACiiigBaSiigAooooAKKKKAFpKKWgBMUUZooAKKKKAPxi/4LHfBo+EPjVo/juztfLsPEtr5c8in5ftMQAOR2LKc++DX571+/X/AAUs+BDfHD9l/XPsMJl13w666zY7RksI+Jl+hiaQ/VRX4DuhjZlYFWU4IPY1SAbRRRTAKKKKACiiigAooooAKKKKACiiigAooooAKKKKACiiigAooooAK/UP/glh+wxd3eoW3xh8e6V5FnAwbw/p92gLTNjm5ZT0UE4XPJIJ6YJ4z/gnf/wTju/ipfaR8SviNbyWfg6Fxc6fpDrh9TI5Vnz92LPPq2McA5r9kLW0hsbWK3t4kggiUJHHGMKqgYAA7CpbAlooopALSUtJQAtFJRQAtJS0lABRRRQAUUUUAFLSUUALSUUUAFLSUUAFFFFAC0lFFAC0lFFABRS0UAJS0lFABS0lFAC0lFFABRRRQAtJRRQAUUUUALRSUUALSUUUALSUUUALRSUUAFLSUUAFFFFAC0UlFAC0UUUAFJRRQA2WJJ4njkUSRuCrKwyCD1Br+fX/AIKFfs8yfs9ftGazY2tsYvD2tD+1dMcA7djsQ6Z9VdW49CPWv6DK+V/+Chv7KkP7THwXuJNPhH/CYeH0ku9Kk7ycAyQnjowUY9CPemB+AVFSXEElrPJDMjRTRsUdHGCrA4II9c1HVAFFFFABRRRQAUUUUAFFFFABRRRQAUUUUAFFFFABRRXoHwZ+A/jb4++KoNA8F6LNqd27BZJsFYYAf4pHxhQKAOGsrK41G7htbSCS5uZmCRwwoWd2PQADkmv1K/YV/wCCWRkisPHXxn00LlhNZeFbjDZXgq9wASOef3Z9OR2r6T/Y6/4Jw+DP2aIodd1povF3jlkwb+eECC06HECHJB4+8Tn0xX2DipuAyCCO2hSGGNYoo1CpGi4VQOAAB0FPoopAFFFFABRRRQAUUUtACUUUUAFFFFABS0lFABRS0UAJRRRQAUUUUAFLSUUAFFFFABRRRQAUUtJQAUUUUALSUUUAFFFFABRRRQAUUUUAFLRRQAlFFFABRRRQAUUUUAFFFLQAlFFLQAUlLSUAFFFFABRS0UAJRRRQAUYzRiigD8h/+Cpv7DkvhTVr/wCMHgfSi+iXsxm16zs4/wDj1mc83G0fwMxyx7FsnivzSr+pzVNMtNb0270++gS6srqJoJ4JBlZEYEMpHoQSK/E39vz/AIJ3az8CtcvPGfgi2l1fwFdu0skMUZMumN1KvjqnPDcdCCKaYHwrRRRVAFFFFABRRRQAUUUUAFFFFABRRRQAVNaWk9/dQ21rDJc3MziOOGJCzuxOAqgckk9hXuP7OP7F3xM/aZ1ZI/DmjvZaKpHn63qCmO2iGRnB6u3PRfTtX7Gfso/8E+/h5+zFYQXvkp4q8Y8NLrt9bqpjb/pimT5Y/En37UrgfBH7Iv8AwSe8T/EmW08RfFaO68KeGWXzI9KBCX9z6bhyYl9c4bpgV+s/wq+Dng34JeF4fD/grw/ZaBpsYG5bWIB5m/vyP96Rv9piTXZdPpRUgFFFFABRRRQAUUUUAFLSUUALRSUtACUUUUAFFFLQAlFFLQAlFFFAC0lFFAC0UlFABRRR0oAKKKKAFpKKKAFpKKKACiiigBaKSigBaSiigAooooAWikooAWikooAWkoooAWkoooAKKKKACiiigApaSigAoNFFAC0lFFAC0UmfeigBaSiigAooooAKgvrG21OzmtLyCK6tZ0McsEyB0kUjBVgeCD6Gp6KAPyx/bO/4JNJINV8ZfBiFhIWa5n8Jg5B6lvsxJz7iP8F7Cvy68Q+G9W8JavcaVremXekanbtsms76BoZYz6MjAEV/UnXlHx6/Ze+Hf7R+hHT/ABnoMF1cKuLfU4UVLu3/ANyTGQOenQ07gfzY0V+lXxt/4IweK9GluL74ZeJ7LxBZ8smmasDa3CjH3Vcblc+529a+K/iJ+yt8WvhSC3ifwFrOnQh9nnrB50ZPP8Sbh2NO4HlNFS3FrNZyGOeGSCQdVkUqfyNRUwCiiigAorsPhn8IfGPxi16PRvBvh6916/c8pbR5VB6sx+VRz3Nfp1+zD/wR4stFls9e+MWpQarcKPM/4RzTSxhU9hLNxux3VRj3IpAfm98Ff2dfiD+0Fro0zwR4avtY2sFnvEiYWtvn/npKRsT6EjOK/VL9mX/gkV4K8ACx1r4nzr4y11Nsv9mIzJYQuDkBgMGTHGQ3ynngivvLwp4P0PwLolvo/h7SrTRtLgGI7SyhWKNfwFbFK4FPSNG0/wAP6dDYaXY22m2MC7YrW0iWKKMeiqoAFXKKKQBRRRQAUUUUAFFFFABRRS0AFFJRQAUUUUAFFFFABS0lFABS0lFABS0lLQAUlLSUAFLRSUAFFFLQAUlFFAC0lLSUAFFFFABS0lFABS0lLQAlLSUUAFFFFAC0lLRQAlLSUUALSUUtACUtFFABSUUUALSUtFACUtJRQAtJS0UAFJS0lAC0UUUAFJ6UUUAAooooAWkNFFAC0nrRRQAd6ZNBHdRPFNGksTDDI6hlI9waKKAPDv2iPhH4FvfBF1dXHgvw9PcrkrNLpUDOOOzFM1+Onxe8M6PY3F2LbSbG3Ac4EVsi4/IUUUAeJ+CrG2uPEs0ctvFLGGGFdAR+VfdPwQ+HvhXUGt/tXhnR7nOM+dYRP/NaKKAP08+Bfgrw94Q8DWv9g6Dpmieflpf7Os47fzD6tsUZP1r0bvRRQAtJ6UUUABpaKKACiiigBBS0UUAFIelFFAB3paKKACiiigAooooAKTvRRQAGloooASloooAKKKKACk9aKKAFooooAQ0tFFABSd6KKAFpBRRQAtIOlFFABS0UUAFFFFABSd6KKACiiigBaKKKACiiigApB0oooAPWloooAQUGiigBaKKKAEpaKKACk9aKKAFooooAKKKKAP/Z'"
      ],
      "execution_count": null,
      "outputs": []
    },
    {
      "cell_type": "code",
      "metadata": {
        "id": "_J3QJhO8uG_8"
      },
      "source": [
        "motivation = free['KaggleMotivationFreeForm'].dropna().apply(nltk.word_tokenize)\n",
        "motivate = []\n",
        "for i in motivation:\n",
        "  motivate.extend(i)\n",
        "motivate = pd.Series(motivate)\n",
        "motivate = ([i for i in motivate.str.lower() if i not in stop_words])\n",
        "\n",
        "f1 = open('kaggle.png', 'wb')\n",
        "f1.write(codecs.decode(kaggle, 'base64'))\n",
        "f1.close()\n",
        "\n",
        "img1 = imread('kaggle.png')\n",
        "hcmask1 = img1\n",
        "\n",
        "wc = WordCloud(background_color='black', max_words=4000, mask=hcmask1, stopwords=STOPWORDS, \n",
        "               max_font_size=60, width=1000, height=1000)\n",
        "wc.generate(' '.join(motivate))\n",
        "plt.imshow(wc)\n",
        "plt.axis('off')\n",
        "fig = plt.gcf()\n",
        "fig.set_size_inches(10,10)\n",
        "plt.show()"
      ],
      "execution_count": null,
      "outputs": []
    },
    {
      "cell_type": "markdown",
      "metadata": {
        "id": "aE22civN2_7-"
      },
      "source": [
        "### Most Frequently Used Libraries"
      ]
    },
    {
      "cell_type": "code",
      "metadata": {
        "id": "9QBAk__GuG6_"
      },
      "source": [
        "library = free['WorkLibrariesFreeForm'].dropna().apply(nltk.word_tokenize)\n",
        "lib = []\n",
        "for i in library:\n",
        "  lib.extend(i)\n",
        "\n",
        "lib = pd.Series(lib)\n",
        "lib = ([i for i in lib.str.lower() if i not in stop_words])\n",
        "lib = pd.Series(lib)\n",
        "lib = lib.value_counts().reset_index()\n",
        "lib.loc[lib['index'].str.contains('Pandas|pandas|panda'), 'index'] = 'Pandas'\n",
        "lib.loc[lib['index'].str.contains('Tensorflow|tensorflow|tf|tensor'), 'index'] = 'Tensorflow'\n",
        "lib.loc[lib['index'].str.contains('Scikit|scikit|sklearn'), 'index'] = 'Sklearn'\n",
        "lib = lib.groupby('index')[0].sum().sort_values(ascending=False).to_frame()\n",
        "\n",
        "R_packages = ['dplyr', 'tidyr', 'ggplot2', 'caret', 'randomforest', 'shiny', 'R markdown',\n",
        "              'ggmap', 'leaflet', 'ggvis', 'stringr', 'tidyverse', 'plotly']\n",
        "Py_packages = ['Pandas','Tensorflow','Sklearn','matplotlib','numpy','scipy','seaborn',\n",
        "               'keras','xgboost','nltk','plotly']\n",
        "\n",
        "f, ax = plt.subplots(1,2, figsize=(18,10))\n",
        "lib[lib.index.isin(Py_packages)].sort_values(by=0, ascending=True).plot.barh(ax=ax[0], width=0.9, color=sns.color_palette('viridis', 15))\n",
        "ax[0].set_title('Most Frequently Used Py Libraries')\n",
        "\n",
        "lib[lib.index.isin(R_packages)].sort_values(by=0, ascending=True).plot.barh(ax=ax[1], width=0.9, color=sns.color_palette('viridis', 15))\n",
        "ax[1].set_title('Most Frequently Used R Libraries')\n",
        "\n",
        "ax[1].set_ylabel('')\n",
        "plt.show()"
      ],
      "execution_count": null,
      "outputs": []
    },
    {
      "cell_type": "markdown",
      "metadata": {
        "id": "XjclVkCu5i4w"
      },
      "source": [
        "**Python:**\n",
        "\n",
        "1) Sklearn- For Machine Learning algorithms. This library has almost all the important machine learning algorithms used for industries.\n",
        "\n",
        "2) Pandas, Matlotlib & Seaborn- Mostly used together for analytics and visualisation work.\n",
        "\n",
        "3) TensorFlow and Keras- Used for Deep Learning.\n",
        "\n",
        "4) Numpy and Scipy- Used for scientific computations.\n",
        "\n",
        "5) nltk- Used for Natural Language Processing.\n",
        "\n",
        "**R:**\n",
        "\n",
        "1) dplyr- dplyr is the package for fast data manipulation.\n",
        "\n",
        "2) ggplot2 and shiny- R's famous package for making beautiful graphics. Python visuals are nowhere near to the quality of visuals created using this library.\n",
        "\n",
        "3) caret and randomforest- For Machine Learning purpose.\n",
        "\n",
        "4) tidyr- Tools for changing the layout of your data sets.\n",
        "\n",
        "5) stringr- Easy to learn tools for regular expressions and character strings.\n",
        "\n",
        "Leaflet (folium in Python) and Plotly are common libraries in both languages, and are used to create interactive plots like geomaps, etc."
      ]
    },
    {
      "cell_type": "markdown",
      "metadata": {
        "id": "GVgFCoDE5sji"
      },
      "source": [
        "# Conclusions"
      ]
    },
    {
      "cell_type": "markdown",
      "metadata": {
        "id": "AzCAnR6i5x4O"
      },
      "source": [
        "1. Majority of the repondents are from USA followed by India. USA also hade the maximum number of data scientitst followed by India. Also the median Salary is highest in USA.\n",
        "\n",
        "2. Majority of the respondents are in the age bracket 20-35, which shows that data science is quite famous in the youngsters.\n",
        "\n",
        "3. The respondents are not just limited to Computer Science major, but also from majors like Statistics, health sciences,etc showing that Data Science is an interdisciplinary domain.\n",
        "\n",
        "4. Majority of the respondents are fully employed.\n",
        "\n",
        "5. Kaggle, Online Courses(Coursera,eDx,etc), Projects and Blogs(KDNuggets,AnalyticsVidya,etc) are the top resources/platforms for learning Data Science.\n",
        "\n",
        "6. Kaggle has the highest share for data acquisition whereas Github has the highest share for code sharing.\n",
        "\n",
        "7. Data Scientists have the highest Job Satisfaction level and the second highest median salary (after Operations Research Analyst). On the contrary, Programmers have the least Job Satisfaction level and one of the least median salary also.\n",
        "\n",
        "8. Data Scientists also get a hike of about 6-20% from their previous jobs."
      ]
    },
    {
      "cell_type": "markdown",
      "metadata": {
        "id": "BZ7R3fcA6idZ"
      },
      "source": [
        "Tips For Budding Data Scientists\n",
        "\n",
        "1. Learn Python, R and SQL as they are the most used languages by the Data Scientists. Python and R will help in analytics and predictive modeling while SQL is best for querying the databases.\n",
        "\n",
        "2. Learn Machine Learning Techniques like Logistic Regression, Decision Trees, Support Vector Machines, etc as they are most commonly used Machine Learning techniques/algorithms.\n",
        "\n",
        "3. Deep Learning and Neural Nets will be the most sought after techniques in the future, thus a good knowledge in them will be very helpful.\n",
        "\n",
        "4. Develop skills for Gathering Data and Cleaning The Data as they are the most time consuming processes in the workflow of a data scientist.\n",
        "\n",
        "5. Visualisations are very important in Data Science projects and almost all projects require Visualisations for understanding the data better. So one should learn Data Visualisation as Data Scientists consider it to be a necessary or nice to have skill.\n",
        "\n",
        "6. Maths and Stats are very important in Data Science, so we should have good understanding of it for actually understanding how the algorithm works.\n",
        "\n",
        "7. Projects are the best way to learn Data Science according to Data Scientists.So working on projects will help you learn data science better.\n",
        "\n",
        "8. Experience with ML Projects in company and Kaggle Competitions are the best ways to show your working knowledge in Data Science. Working on ML projects in a company gives the experience of working with real world datasets, thereby enhancing the knowledge. Kaggle competitions are also a great medium, as you will be competing with Data Scientists over the world. Also a Kaggle Rank can be a good USP in the resume."
      ]
    }
  ]
}