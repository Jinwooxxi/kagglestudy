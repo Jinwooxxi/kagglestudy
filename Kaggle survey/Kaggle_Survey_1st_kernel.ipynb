{
  "nbformat": 4,
  "nbformat_minor": 0,
  "metadata": {
    "colab": {
      "name": "Kaggle_Survey_1st_kernel.ipynb",
      "private_outputs": true,
      "provenance": [],
      "collapsed_sections": [],
      "authorship_tag": "ABX9TyP35LsX1M1A1RdKuqp2M5xz",
      "include_colab_link": true
    },
    "kernelspec": {
      "name": "python3",
      "display_name": "Python 3"
    },
    "language_info": {
      "name": "python"
    }
  },
  "cells": [
    {
      "cell_type": "markdown",
      "metadata": {
        "id": "view-in-github",
        "colab_type": "text"
      },
      "source": [
        "<a href=\"https://colab.research.google.com/github/Jinwooxxi/kagglestudy/blob/main/Kaggle%20survey/Kaggle_Survey_1st_kernel.ipynb\" target=\"_parent\"><img src=\"https://colab.research.google.com/assets/colab-badge.svg\" alt=\"Open In Colab\"/></a>"
      ]
    },
    {
      "cell_type": "markdown",
      "metadata": {
        "id": "YRhlCKdAP7f7"
      },
      "source": [
        "# Introduction"
      ]
    },
    {
      "cell_type": "markdown",
      "metadata": {
        "id": "Eh7Sw4zzP_0j"
      },
      "source": [
        "### Who are Data Seientists?\n",
        "\n",
        "A data scientist ia a statistician or a programmer, who cleans, manages and organizes data, perform descriptive statistics and analysis to develop insights, build predictive models and sove business related problems."
      ]
    },
    {
      "cell_type": "code",
      "metadata": {
        "id": "AvhvjoJXQzi4"
      },
      "source": [
        "# !pip install squarify\n",
        "# !pip install matplotlib-venn\n",
        "# !pip install scipy==1.1.0"
      ],
      "execution_count": null,
      "outputs": []
    },
    {
      "cell_type": "code",
      "metadata": {
        "id": "EIXX5WkfR-oV"
      },
      "source": [
        "from google.colab import drive\n",
        "drive.mount('/content/drive')"
      ],
      "execution_count": null,
      "outputs": []
    },
    {
      "cell_type": "code",
      "metadata": {
        "id": "UeywXrS6PVKf"
      },
      "source": [
        "import numpy as np\n",
        "import pandas as pd\n",
        "import seaborn as sns\n",
        "import matplotlib.pyplot as plt\n",
        "import squarify\n",
        "plt.style.use('fivethirtyeight')\n",
        "import warnings\n",
        "warnings.filterwarnings('ignore')\n",
        "import plotly.offline as py\n",
        "py.init_notebook_mode(connected=True)\n",
        "import plotly.graph_objs as go\n",
        "import plotly.tools as tls\n",
        "import base64\n",
        "import io\n",
        "from scipy.misc import imread\n",
        "import codecs\n",
        "from IPython.display import HTML\n",
        "from matplotlib_venn import venn2\n",
        "from subprocess import check_output\n",
        "print(check_output([\"ls\", \"/content/drive/My Drive/kaggle_survey\"]).decode(\"utf8\"))"
      ],
      "execution_count": null,
      "outputs": []
    },
    {
      "cell_type": "code",
      "metadata": {
        "id": "m9ysxr6WQqIE"
      },
      "source": [
        "response = pd.read_csv('/content/drive/My Drive/kaggle_survey/multipleChoiceResponses.csv',encoding='ISO-8859-1')\n",
        "response.head()"
      ],
      "execution_count": null,
      "outputs": []
    },
    {
      "cell_type": "markdown",
      "metadata": {
        "id": "9c9LQIaNSX-H"
      },
      "source": [
        "### Some Basic Analysis"
      ]
    },
    {
      "cell_type": "code",
      "metadata": {
        "id": "Mfp72-I-SXzR"
      },
      "source": [
        "print('The total number of respondents:', response.shape[0])\n",
        "print('Total number of Countries with repondents:', response['Country'].nunique())\n",
        "print('Counttry with highest respondens:', response['Country'].value_counts().index[0], \n",
        "      'with', response['Country'].value_counts().values[0], 'respondents')\n",
        "print('Youngest respondents:', response['Age'].min(), ' and Oldest respondents', response['Age'].max())"
      ],
      "execution_count": null,
      "outputs": []
    },
    {
      "cell_type": "markdown",
      "metadata": {
        "id": "y0eSJWlQTdRz"
      },
      "source": [
        "### Gender Split"
      ]
    },
    {
      "cell_type": "code",
      "metadata": {
        "id": "S8YwxiluSXwl"
      },
      "source": [
        "plt.subplots(figsize=(22,12))\n",
        "sns.countplot(y=response['GenderSelect'], order=response['GenderSelect'].value_counts().index)\n",
        "plt.show()"
      ],
      "execution_count": null,
      "outputs": []
    },
    {
      "cell_type": "markdown",
      "metadata": {
        "id": "Qyv3UhOMT6J8"
      },
      "source": [
        "### Respondent By Country"
      ]
    },
    {
      "cell_type": "code",
      "metadata": {
        "id": "DKJVcY7MSXuY"
      },
      "source": [
        "resp_coun = response['Country'].value_counts()[:15].to_frame()\n",
        "sns.barplot(resp_coun['Country'], resp_coun.index, palette='inferno')\n",
        "plt.title('Top 15 Countries by number of respondents')\n",
        "plt.xlabel('')\n",
        "fig = plt.gcf()\n",
        "fig.set_size_inches(10,10)\n",
        "plt.show()\n",
        "\n",
        "tree = response['Country'].value_counts().to_frame()\n",
        "squarify.plot(sizes=tree['Country'].values, label=tree.index, color=sns.color_palette('RdYlGn_r', 52))\n",
        "plt.rcParams.update({'font.size':20})\n",
        "fig = plt.gcf()\n",
        "fig.set_size_inches(40,15)\n",
        "plt.show()"
      ],
      "execution_count": null,
      "outputs": []
    },
    {
      "cell_type": "markdown",
      "metadata": {
        "id": "SYrqo6RGVV2j"
      },
      "source": [
        "### Compensation"
      ]
    },
    {
      "cell_type": "markdown",
      "metadata": {
        "id": "VMNGJNHjVdOe"
      },
      "source": [
        "Data Scientists are one of the most highest payed individuals.\n"
      ]
    },
    {
      "cell_type": "code",
      "metadata": {
        "id": "bv57Ab2iSXri"
      },
      "source": [
        "response['CompensationAmount'] = response['CompensationAmount'].str.replace(',','')\n",
        "response['CompensationAmount'] = response['CompensationAmount'].str.replace('-','')\n",
        "\n",
        "rates = pd.read_csv('/content/drive/My Drive/kaggle_survey/conversionRates.csv')\n",
        "rates.drop('Unnamed: 0', axis=1, inplace=True)\n",
        "salary = response[['CompensationAmount',\n",
        "                 'CompensationCurrency',\n",
        "                 'GenderSelect',\n",
        "                 'Country',\n",
        "                 'CurrentJobTitleSelect']].dropna()\n",
        "salary = salary.merge(rates, left_on='CompensationCurrency', right_on='originCountry', how='left')\n",
        "salary['Salary'] = pd.to_numeric(salary['CompensationAmount']) * salary['exchangeRate']\n",
        "\n",
        "print('Maximun salary is USD $:', salary['Salary'].dropna().astype(int).max())\n",
        "print('Minimun salary is USD $:', salary['Salary'].dropna().astype(int).min())\n",
        "print('Median salary is USD $:', salary['Salary'].dropna().astype(int).median())"
      ],
      "execution_count": null,
      "outputs": []
    },
    {
      "cell_type": "code",
      "metadata": {
        "id": "48N0SAHzSXo_"
      },
      "source": [
        "plt.subplots(figsize=(15,8))\n",
        "salary = salary[salary['Salary'] < 1000000]\n",
        "sns.distplot(salary['Salary'])\n",
        "plt.title('Salary Distribution', size=15)\n",
        "plt.show()"
      ],
      "execution_count": null,
      "outputs": []
    },
    {
      "cell_type": "markdown",
      "metadata": {
        "id": "IckB1aPNXyVd"
      },
      "source": [
        "#### Compensation by Country"
      ]
    },
    {
      "cell_type": "code",
      "metadata": {
        "id": "C7-P6xMLSXj7"
      },
      "source": [
        "# 급여 높은 국가\n",
        "f,ax = plt.subplots(1,2,figsize=(18,8))\n",
        "sal_coun = salary.groupby('Country')['Salary'].median().sort_values(ascending=False)[:15].to_frame()\n",
        "sns.barplot('Salary',sal_coun.index,data=sal_coun,palette='RdYlGn',ax=ax[0])\n",
        "ax[0].axvline(salary['Salary'].median(), linestyle='dashed')\n",
        "ax[0].set_title('Highest Salary Paying Countries')\n",
        "ax[0].set_xlabel('')\n",
        "\n",
        "# 응답 Top 15 국가들의 급여\n",
        "max_coun = salary.groupby('Country')['Salary'].median().to_frame()\n",
        "max_coun = max_coun[max_coun.index.isin(resp_coun.index)]\n",
        "max_coun.sort_values(by='Salary', ascending=True).plot.barh(width=0.8, ax=ax[1], color=sns.color_palette('RdYlGn'))\n",
        "ax[1].axvline(salary['Salary'].median(), linestyle='dashed')\n",
        "ax[1].set_title('Compensation of Top 15 Respondent Countries')\n",
        "ax[1].set_xlabel('')\n",
        "ax[1].set_ylabel('')\n",
        "\n",
        "plt.subplots_adjust(wspace=0.8)\n",
        "plt.show()"
      ],
      "execution_count": null,
      "outputs": []
    },
    {
      "cell_type": "markdown",
      "metadata": {
        "id": "MBS1ODprfWQ_"
      },
      "source": [
        "#### Salary By Gender"
      ]
    },
    {
      "cell_type": "code",
      "metadata": {
        "id": "xeNGc-xASXhP"
      },
      "source": [
        "plt.subplots(figsize=(10,8))\n",
        "sns.boxplot(y='GenderSelect', x='Salary', data=salary)\n",
        "plt.ylabel('')\n",
        "plt.show()"
      ],
      "execution_count": null,
      "outputs": []
    },
    {
      "cell_type": "markdown",
      "metadata": {
        "id": "u7N03XJkfiZZ"
      },
      "source": [
        "### Age"
      ]
    },
    {
      "cell_type": "code",
      "metadata": {
        "id": "p9M7UNmSSXen"
      },
      "source": [
        "plt.subplots(figsize=(15,8))\n",
        "response['Age'].hist(bins=50, edgecolor='black')\n",
        "plt.xticks(list(range(0,80,5)))\n",
        "plt.title('Age Distribution')\n",
        "plt.show() "
      ],
      "execution_count": null,
      "outputs": []
    },
    {
      "cell_type": "markdown",
      "metadata": {
        "id": "QyqFzGk3f_Lq"
      },
      "source": [
        "### Profession & Major"
      ]
    },
    {
      "cell_type": "code",
      "metadata": {
        "id": "D314SZmdSXcK"
      },
      "source": [
        "f,ax = plt.subplots(1,2,figsize=(25,15))\n",
        "sns.countplot(y=response['MajorSelect'], ax=ax[0], order=response['MajorSelect'].value_counts().index)\n",
        "ax[0].set_title('Major')\n",
        "ax[0].set_ylabel('')\n",
        "\n",
        "sns.countplot(y=response['CurrentJobTitleSelect'], ax=ax[1], order=response['CurrentJobTitleSelect'].value_counts().index)\n",
        "ax[1].set_title('Current Job')\n",
        "ax[1].set_ylabel('')\n",
        "plt.subplots_adjust(wspace=0.8)\n",
        "plt.show()"
      ],
      "execution_count": null,
      "outputs": []
    },
    {
      "cell_type": "markdown",
      "metadata": {
        "id": "3OynTNzogo0Z"
      },
      "source": [
        "Data Science and Machine Learning is used in almost every industry. This is evident from the left graph, as people from different arearas of interest like Physics, Biology, etc are taking it up for better understanding of the data. \n",
        "\n",
        "The rifht side graph shows the Current Job of the respondents. A major portion of the respondents are Data Scientists. But as it is survey data, we know that there may be many ambigious reponses. Later on we will check are these respondents real data-scientists or self proclaimed data-scientists."
      ]
    },
    {
      "cell_type": "markdown",
      "metadata": {
        "id": "ER_28QxTh1RO"
      },
      "source": [
        "### Compensation By Job Title"
      ]
    },
    {
      "cell_type": "code",
      "metadata": {
        "id": "EVEPI-FJSXZh"
      },
      "source": [
        "sal_job = salary.groupby('CurrentJobTitleSelect')['Salary'].median().to_frame().sort_values(by='Salary',ascending=False)\n",
        "ax = sns.barplot(sal_job.Salary, sal_job.index, palette=sns.color_palette('inferno',20))\n",
        "plt.title('Compensation By Job Title', size=15)\n",
        "for i, v in enumerate(sal_job.Salary): \n",
        "    ax.text(.5, i, v, fontsize=10, color='white',weight='bold')\n",
        "fig = plt.gcf()\n",
        "fig.set_size_inches(8,8)\n",
        "plt.show()"
      ],
      "execution_count": null,
      "outputs": []
    },
    {
      "cell_type": "markdown",
      "metadata": {
        "id": "amH_bGnClLWN"
      },
      "source": [
        "Operations Research Practitioner has the highest median salary followed by Prdictive Modeler and Data Scientist. Coumputer Scientist and Programmers have the lowest compensation."
      ]
    },
    {
      "cell_type": "code",
      "metadata": {
        "id": "FjYw_3xZSXXF"
      },
      "source": [
        "f, ax = plt.subplots(1,2,figsize=(25,12))\n",
        "skills = response['MLSkillsSelect'].str.split(',')\n",
        "skills_set = []\n",
        "for i in skills.dropna():\n",
        "  skills_set.extend(i)\n",
        "plt1 = pd.Series(skills_set).value_counts().sort_values(ascending=False).to_frame()\n",
        "sns.barplot(plt1[0], plt1.index, ax=ax[0], palette=sns.color_palette('inferno_r', 15))\n",
        "ax[0].set_title('ML Skills')\n",
        "\n",
        "tech = response['MLTechniquesSelect'].str.split(',')\n",
        "techniques = []\n",
        "for i in tech.dropna():\n",
        "  techniques.extend(i)\n",
        "plt1 = pd.Series(techniques).value_counts().sort_values(ascending=False).to_frame()\n",
        "sns.barplot(plt1[0], plt1.index, ax=ax[1], palette=sns.color_palette('inferno_r', 15))\n",
        "ax[1].set_title('ML Techniques used')\n",
        "plt.subplots_adjust(wspace=0.8)\n",
        "plt.show()"
      ],
      "execution_count": null,
      "outputs": []
    },
    {
      "cell_type": "code",
      "metadata": {
        "id": "DYmTpuTuSXUk"
      },
      "source": [
        "f,ax = plt.subplots(1,2,figsize=(25,12))\n",
        "ml_nxt = response['MLMethodNextYearSelect'].str.split(',')\n",
        "nxt_year = []\n",
        "for i in ml_nxt.dropna():\n",
        "    nxt_year.extend(i)\n",
        "pd.Series(nxt_year).value_counts()[:15].sort_values(ascending=True).plot.barh(width=0.9, color=sns.color_palette('winter_r', 15), ax=ax[0])\n",
        "\n",
        "tool = response['MLToolNextYearSelect'].str.split(',')\n",
        "tool_nxt = []\n",
        "for i in tool.dropna():\n",
        "    tool_nxt.extend(i)\n",
        "pd.Series(tool_nxt).value_counts()[:15].sort_values(ascending=True).plot.barh(width=0.9, color=sns.color_palette('winter_r', 15), ax=ax[1])\n",
        "\n",
        "plt.subplots_adjust(wspace=0.8)\n",
        "ax[0].set_title('ML Method Next Year')\n",
        "ax[1].set_title('ML Tool Next Year')\n",
        "plt.show()"
      ],
      "execution_count": null,
      "outputs": []
    },
    {
      "cell_type": "markdown",
      "metadata": {
        "id": "wYzakPKcry3e"
      },
      "source": [
        "### Best Platfomrs to Learn"
      ]
    },
    {
      "cell_type": "code",
      "metadata": {
        "id": "aOtS49AWSXSK"
      },
      "source": [
        "plt.subplots(figsize=(6,8))\n",
        "learn = response['LearningPlatformSelect'].str.split(',')\n",
        "platform = []\n",
        "for i in learn.dropna():\n",
        "    platform.extend(i)\n",
        "pd.Series(platform).value_counts()[:15].sort_values(ascending=True).plot.barh(width=0.9, color=sns.color_palette('winter',15))\n",
        "plt.title('Best Platforms to Learn', size=15)\n",
        "plt.show()"
      ],
      "execution_count": null,
      "outputs": []
    },
    {
      "cell_type": "markdown",
      "metadata": {
        "id": "1c8bLeQssT_e"
      },
      "source": [
        "### Hardware Used"
      ]
    },
    {
      "cell_type": "code",
      "metadata": {
        "id": "UYlkdzPMSXPe"
      },
      "source": [
        "plt.subplots(figsize=(10,10))\n",
        "hard = response['HardwarePersonalProjectsSelect'].str.split(',')\n",
        "hardware = []\n",
        "for i in hard.dropna():\n",
        "    hardware.extend(i)\n",
        "pd.Series(hardware).value_counts().sort_values(ascending=True).plot.barh(width=0.9, color=sns.color_palette('inferno',10))\n",
        "plt.title('Machines Used')\n",
        "plt.show()"
      ],
      "execution_count": null,
      "outputs": []
    },
    {
      "cell_type": "markdown",
      "metadata": {
        "id": "FVgik0i8smNA"
      },
      "source": [
        "### Where Do I get Datasets From??"
      ]
    },
    {
      "cell_type": "code",
      "metadata": {
        "id": "nwgyohzXSXNP"
      },
      "source": [
        "plt.subplots(figsize=(15,15))\n",
        "data = response['PublicDatasetsSelect'].str.split(',')\n",
        "dataset = []\n",
        "for i in data.dropna():\n",
        "  dataset.extend(i)\n",
        "pd.Series(dataset).value_counts().plot.pie(autopct='%1.1f%%', \n",
        "                                           shadow = True,\n",
        "                                           colors=sns.color_palette('Paired', 10), \n",
        "                                           startangle=90,\n",
        "                                           wedgeprops={'linewidth':2, 'edgecolor':'white'})\n",
        "plt.title('Dataset Source')\n",
        "my_circle = plt.Circle((0,0), 0.7, color='white')\n",
        "p = plt.gcf()\n",
        "p.gca().add_artist(my_circle)\n",
        "plt.ylabel('')\n",
        "plt.show()"
      ],
      "execution_count": null,
      "outputs": []
    },
    {
      "cell_type": "markdown",
      "metadata": {
        "id": "XontZzgkuJg5"
      },
      "source": [
        "### Code Sharing"
      ]
    },
    {
      "cell_type": "code",
      "metadata": {
        "id": "3pa55p40uHfx"
      },
      "source": [
        "plt.subplots(figsize=(15,15))\n",
        "code = response['WorkCodeSharing'].str.split(',')\n",
        "code_share = []\n",
        "for i in code.dropna():\n",
        "    code_share.extend(i)\n",
        "pd.Series(code_share).value_counts().plot.pie(autopct='%1.1f%%',\n",
        "                                              shadow=True,\n",
        "                                              colors=sns.color_palette('Set3',10),\n",
        "                                              startangle=90,\n",
        "                                              wedgeprops = {'linewidth':2, 'edgecolor':'white' })\n",
        "plt.title('Code Sharing Medium')\n",
        "my_circle = plt.Circle((0,0), 0.65, color='white')\n",
        "p = plt.gcf()\n",
        "p.gca().add_artist(my_circle)\n",
        "plt.ylabel('')\n",
        "plt.show()"
      ],
      "execution_count": null,
      "outputs": []
    },
    {
      "cell_type": "markdown",
      "metadata": {
        "id": "SmIP1Gb3uv1J"
      },
      "source": [
        "### Challenges in Data Science"
      ]
    },
    {
      "cell_type": "code",
      "metadata": {
        "id": "QY0htSkWuHZ3"
      },
      "source": [
        "plt.subplots(figsize=(15,18))\n",
        "challenge = response['WorkChallengesSelect'].str.split(',')\n",
        "challenges = []\n",
        "for i in challenge.dropna():\n",
        "    challenges.extend(i)\n",
        "plt1 = pd.Series(challenges).value_counts().sort_values(ascending=False).to_frame()\n",
        "sns.barplot(plt1[0],plt1.index, palette=sns.color_palette('inferno',25))\n",
        "plt.title('Challenges in Data Science')\n",
        "plt.show()"
      ],
      "execution_count": null,
      "outputs": []
    },
    {
      "cell_type": "markdown",
      "metadata": {
        "id": "6IeFViDNvEeT"
      },
      "source": [
        "The main challenge in Data Science is getting the proper Data. The graph clearly shows that dirty data is the bigget challenge. Dirty data is a database record that contains errors. Dirty data can be caused by a number of factors including duplicate records, incomplete or outdated data, and the improper parsing of record fields from disparate systems. Luckily Kaggle datasets are pretty clean and standardised.\n",
        "\n",
        "Some other major challenges are the Lack of Data Science and machine learning talent, difficulty in getting data and lack of tools. Thats why Data Science is the sexiest job in 21st century.With the increasing amount of data, this demand will substantially grow."
      ]
    },
    {
      "cell_type": "markdown",
      "metadata": {
        "id": "cg6-u2qavPW4"
      },
      "source": [
        "### Job Statisfaction"
      ]
    },
    {
      "cell_type": "code",
      "metadata": {
        "id": "Md8X2-fCuHXb"
      },
      "source": [
        "satisfy = response.copy()\n",
        "satisfy['JobSatisfaction'].replace({'10 - Highly Satisfied':'10',\n",
        "                                    '1 - Highly Dissatisfied':'1',\n",
        "                                    'I prefer not to share':np.NaN}, inplace=True)\n",
        "satisfy.dropna(subset=['JobSatisfaction'], inplace=True)\n",
        "satisfy['JobSatisfaction'] = satisfy['JobSatisfaction'].astype(int)\n",
        "satisfy_job=satisfy.groupby(['CurrentJobTitleSelect'])['JobSatisfaction'].mean().sort_values(ascending=False).to_frame()\n",
        "ax = sns.barplot(y=satisfy_job.index, x=satisfy_job.JobSatisfaction, palette=sns.color_palette('inferno',20))\n",
        "fig = plt.gcf()\n",
        "fig.set_size_inches(8,10)\n",
        "for i, v in enumerate(satisfy_job.JobSatisfaction): \n",
        "    ax.text(.1, i, v,fontsize=10, color='white', weight='bold')\n",
        "plt.title('Job Satisfaction out of 10')\n",
        "plt.show()"
      ],
      "execution_count": null,
      "outputs": []
    },
    {
      "cell_type": "markdown",
      "metadata": {
        "id": "NoO-TUeTvvZK"
      },
      "source": [
        "#### Job Satisfication By Country"
      ]
    },
    {
      "cell_type": "code",
      "metadata": {
        "id": "t3XGa5FNuHUk"
      },
      "source": [
        "satisfy = response.copy()\n",
        "satisfy['JobSatisfaction'].replace({'10 - Highly Satisfied':10,\n",
        "                                    '1 - Highly Dissatisfied':1,\n",
        "                                    'I prefer not to share':np.NaN}, inplace=True)\n",
        "satisfy.dropna(subset=['JobSatisfaction'], inplace=True)\n",
        "satisfy['JobSatisfaction'] = satisfy['JobSatisfaction'].astype(int)\n",
        "satisfy_job = satisfy.groupby(['Country'])['JobSatisfaction'].mean().sort_values(ascending=True).to_frame()\n",
        "\n",
        "data = [dict(type='choropleth',\n",
        "             autocolorscale=False,\n",
        "             colorscale='Viridis',\n",
        "             reversescale=True,\n",
        "             locations=satisfy_job.index,\n",
        "             z=satisfy_job['JobSatisfaction'],\n",
        "             locationmode='country names',\n",
        "             text=satisfy_job['JobSatisfaction'],\n",
        "             marker=dict(line=dict(color='rgb(200,200,200)', width=0.5),\n",
        "                         colorbar=dict(autotick=True, tickprefix='', title='Satisfaction')))]\n",
        "\n",
        "layout = dict(\n",
        "    title = 'Job Satisfaction By Country',\n",
        "    geo = dict(\n",
        "        showframe=True,\n",
        "        showocean=True,\n",
        "        projection=dict(\n",
        "            type='chloropleth'\n",
        "        ),\n",
        "        lonaxis = dict(\n",
        "            showgrid=False,\n",
        "            gridcolor='rgb(102,102,102)'\n",
        "        ),\n",
        "        lataxis = dict(\n",
        "            showgrid=False,\n",
        "            gridcolor='rgb(102,102,102)'\n",
        "        )\n",
        "    )\n",
        ")\n",
        "\n",
        "fig = dict(data=data, layout=layout)\n",
        "py.plot(fig, validate=False, filename='worldmap2010')\n",
        "# py.iplot(fig, validate=False, filename='worldmap2010')"
      ],
      "execution_count": null,
      "outputs": []
    },
    {
      "cell_type": "markdown",
      "metadata": {
        "id": "K5c6WKRMi5qX"
      },
      "source": [
        "# Python vs R\n",
        "\n",
        "Python and R are the most widely used Open-Source languages for Data Science and Machine-Learning stuff. For a budding data scientist or analyst, the biggest and trickiest doubt is: Which Language Should I Start With?? While both the languages have their own advantages and shortcomings, it depends on the individual's purpose while selecting a language of his/her choice. Both the languages cater the needs of different kinds of work. Python is a general purpose langauge, thus web and application integration is easier, while R is meant for pure statistical and analytics purpose. The area where R will completely beat Python is visualisations with the help of packages like ggplot2 and shiny. But Python has an upperhand in Machine Learning stuff"
      ]
    },
    {
      "cell_type": "code",
      "metadata": {
        "id": "nxJGLPo_uHSJ"
      },
      "source": [
        "resp = response.dropna(subset=['WorkToolsSelect'])\n",
        "resp = resp.merge(rates, left_on='CompensationCurrency', right_on='originCountry', how='left')\n",
        "python = resp[(resp['WorkToolsSelect'].str.contains('Python'))&(~resp['WorkToolsSelect'].str.contains('R'))]\n",
        "R = resp[(~resp['WorkToolsSelect'].str.contains('Python'))&(resp['WorkToolsSelect'].str.contains('R'))]\n",
        "both = resp[(resp['WorkToolsSelect'].str.contains('Python'))&(resp['WorkToolsSelect'].str.contains('R'))]"
      ],
      "execution_count": null,
      "outputs": []
    },
    {
      "cell_type": "markdown",
      "metadata": {
        "id": "1QfDiClPkJ22"
      },
      "source": [
        "#### Recommended Language For Begineers"
      ]
    },
    {
      "cell_type": "code",
      "metadata": {
        "id": "FplZ7mscjHd3"
      },
      "source": [
        "response['LanguageRecommendationSelect'].value_counts()[:5].plot.bar()\n",
        "plt.show()"
      ],
      "execution_count": null,
      "outputs": []
    },
    {
      "cell_type": "markdown",
      "metadata": {
        "id": "3_6U9YfZkfMT"
      },
      "source": [
        "###Recommendation By Python and R users"
      ]
    },
    {
      "cell_type": "code",
      "metadata": {
        "id": "8T_WwDPPowg1"
      },
      "source": [
        "# !pip install plotly==2.7.0\n",
        "# 아래 plotly 그래프는 다운그레이드 해야 가능"
      ],
      "execution_count": null,
      "outputs": []
    },
    {
      "cell_type": "code",
      "metadata": {
        "id": "yyhDmrQCjHa1"
      },
      "source": [
        "labels1 = python['LanguageRecommendationSelect'].value_counts()[:5].index\n",
        "sizes1 = python['LanguageRecommendationSelect'].value_counts()[:5].values\n",
        "\n",
        "labels2 = R['LanguageRecommendationSelect'].value_counts()[:5].index\n",
        "sizes2 = R['LanguageRecommendationSelect'].value_counts()[:5].values\n",
        "\n",
        "fig = {\n",
        "    'data' :[\n",
        "             {\n",
        "              'values' : sizes1,\n",
        "              'labels' : labels1,\n",
        "              'domain' : {'x':[0,.48]},\n",
        "              'name' : 'Language',\n",
        "              'hoverinfo' : 'label+percent+name',\n",
        "              'hole' : .4,\n",
        "              'type' : 'pie'\n",
        "             },\n",
        "             {\n",
        "              'values' : sizes2,\n",
        "              'labels' : labels2,\n",
        "              'text' : 'CO2',\n",
        "              'textposition' : 'inside',\n",
        "              'domain' : {'x':[.54,1]},\n",
        "              'name' : 'Language',\n",
        "              'hoverinfo' : 'label+percent+name',\n",
        "              'hole' : .4,\n",
        "              'type' : 'pie'\n",
        "             }\n",
        "             ],\n",
        "    'layout' : {\n",
        "        'title' : \"Language Recommend By Python and R Users\",\n",
        "        'annotations' : [\n",
        "                         {\n",
        "                          'font': {'size':30},\n",
        "                          'showarrow' : False,\n",
        "                          'text' : 'Python',\n",
        "                          'x' : 0.17,\n",
        "                          'y' : 0.5\n",
        "                         },\n",
        "                         {\n",
        "                          'font': {'size':30},\n",
        "                          'showarrow' : False,\n",
        "                          'text' : 'R',\n",
        "                          'x' : 0.79,\n",
        "                          'y' : 0.5\n",
        "                         }]\n",
        "    }\n",
        "}\n",
        "\n",
        "# py.iplot(fig, filename='donut')\n",
        "py.plot(fig, filename='donut')"
      ],
      "execution_count": null,
      "outputs": []
    },
    {
      "cell_type": "markdown",
      "metadata": {
        "id": "vvENO8Kuodxn"
      },
      "source": [
        "This is a interesting find. About 91.6% Python users recommend Python as the first language for begineers, whereas only 67.2% R users recommend R as the first language. Also 20.6% R users recommend Python but only 1.68% Python users recommend R as the first language. One thing to note is that users of both recommend the same Languages i.e SQL, Matlab and C/C++. I have only considered the Top 5 recommended languages, so the percentage will change if we consider all of them. But the difference would be just 2-3%."
      ]
    },
    {
      "cell_type": "markdown",
      "metadata": {
        "id": "ATbjFQITpwIN"
      },
      "source": [
        "#### Necessary or Not?"
      ]
    },
    {
      "cell_type": "code",
      "metadata": {
        "id": "ZkZpGLQ1jHWI"
      },
      "source": [
        "f, ax = plt.subplots(1,2,figsize=(18,8))\n",
        "response['JobSkillImportancePython'].value_counts().plot.pie(ax=ax[0], autopct='%1.1f%%', explode=[0.1,0,0],\n",
        "                                                             shadow=True, colors=['g','lightblue','r'])\n",
        "ax[0].set_title('Python Necessary')\n",
        "ax[0].set_ylabel('')\n",
        "\n",
        "response['JobSkillImportanceR'].value_counts().plot.pie(ax=ax[1], autopct='%1.1f%%', explode=[0.1,0,0],\n",
        "                                                        shadow=True, colors=['g','lightblue','r'])\n",
        "ax[1].set_title('R Necessary')\n",
        "ax[1].set_ylabel('')\n",
        "plt.show()"
      ],
      "execution_count": null,
      "outputs": []
    },
    {
      "cell_type": "markdown",
      "metadata": {
        "id": "TfsuHlKyqzYg"
      },
      "source": [
        "#### Number Of Users By Language"
      ]
    },
    {
      "cell_type": "code",
      "metadata": {
        "id": "90Xuu397jHTW"
      },
      "source": [
        "f, ax = plt.subplots(1,2,figsize=(18,8))\n",
        "pd.Series([python.shape[0], R.shape[0], both.shape[0]], index=['Python', 'R', 'Both']).plot.bar(ax=ax[0])\n",
        "ax[0].set_title('Number of Users')\n",
        "\n",
        "venn2(subsets = (python.shape[0], R.shape[0], both.shape[0]), set_labels=('Python Users', 'R Users'))\n",
        "plt.title('Venn Diagram for Users')\n",
        "plt.show()"
      ],
      "execution_count": null,
      "outputs": []
    },
    {
      "cell_type": "markdown",
      "metadata": {
        "id": "_XOwvVD3tQjk"
      },
      "source": [
        "The number of Python users are definetely more than R users. This may be due to the easy learning curve of Python. However there are more users who know both the languages. These responses might be from established Data Scientists,as they tend to have a knowledge in multiple languages and tools."
      ]
    },
    {
      "cell_type": "markdown",
      "metadata": {
        "id": "tLMWJsGTtcoZ"
      },
      "source": [
        "### Compensation"
      ]
    },
    {
      "cell_type": "code",
      "metadata": {
        "id": "-IVaNHYOjHQ7"
      },
      "source": [
        "py_sal = (pd.to_numeric(python['CompensationAmount'].dropna()) * python['exchangeRate']).dropna()\n",
        "py_sal = py_sal[py_sal < 1000000]\n",
        "\n",
        "R_sal = (pd.to_numeric(R['CompensationAmount'].dropna()) * R['exchangeRate']).dropna()\n",
        "R_sal = R_sal[R_sal < 1000000]\n",
        "\n",
        "both_sal = (pd.to_numeric(both['CompensationAmount'].dropna()) * both['exchangeRate']).dropna()\n",
        "both_sal = both_sal[both_sal < 1000000]\n",
        "\n",
        "trying = pd.DataFrame([py_sal, R_sal, both_sal])\n",
        "trying = trying.T\n",
        "trying.columns = ['Python', 'R', 'Both']\n",
        "\n",
        "print('Median Salary For Individual using Python', trying['Python'].median())\n",
        "print('Median Salary For Individual using R', trying['R'].median())\n",
        "print('Median Salary For Individual knowing both language', trying['Both'].median())"
      ],
      "execution_count": null,
      "outputs": []
    },
    {
      "cell_type": "code",
      "metadata": {
        "id": "M86_ZFAIjHOX"
      },
      "source": [
        "trying.plot.box()\n",
        "plt.title('Compensation By Language')\n",
        "fig = plt.gcf()\n",
        "fig.set_size_inches(10,6)\n",
        "plt.show()"
      ],
      "execution_count": null,
      "outputs": []
    },
    {
      "cell_type": "markdown",
      "metadata": {
        "id": "hNRtuj-duwy3"
      },
      "source": [
        "### Language Used By Professionals"
      ]
    },
    {
      "cell_type": "code",
      "metadata": {
        "id": "QSnO8tOwjHLo"
      },
      "source": [
        "py1 = python.copy()\n",
        "r = R.copy()\n",
        "py1['WorkToolsSelect'] = 'Python'\n",
        "r['WorkToolsSelect'] = 'R'\n",
        "r_vs_py = pd.concat([py1,r])\n",
        "r_vs_py = r_vs_py.groupby(['CurrentJobTitleSelect','WorkToolsSelect'])['Age'].count().to_frame().reset_index()\n",
        "r_vs_py.pivot('CurrentJobTitleSelect','WorkToolsSelect','Age').plot.barh(width=0.8)\n",
        "fig = plt.gcf()\n",
        "fig.set_size_inches(10,15)\n",
        "plt.title('Job Title vs Language Used',size=15)\n",
        "plt.show()"
      ],
      "execution_count": null,
      "outputs": []
    },
    {
      "cell_type": "markdown",
      "metadata": {
        "id": "Mp8S1UcIvMG5"
      },
      "source": [
        "### Job Function vs Language"
      ]
    },
    {
      "cell_type": "code",
      "metadata": {
        "id": "eqk03D4VjHJM"
      },
      "source": [
        "r_vs_py = pd.concat([py1, r])\n",
        "r_vs_py = r_vs_py.groupby(['JobFunctionSelect', 'WorkToolsSelect'])['Age'].count().to_frame().reset_index()\n",
        "r_vs_py.pivot('JobFunctionSelect', 'WorkToolsSelect', 'Age').plot.barh(width=0.8)\n",
        "fig = plt.gcf()\n",
        "fig.set_size_inches(10,15)\n",
        "plt.title('Job Description vs Language Used')\n",
        "plt.show()"
      ],
      "execution_count": null,
      "outputs": []
    },
    {
      "cell_type": "markdown",
      "metadata": {
        "id": "JSGAAdT8v-bu"
      },
      "source": [
        "### Tenure vs Language Used"
      ]
    },
    {
      "cell_type": "code",
      "metadata": {
        "id": "EBSSLna5jHGi"
      },
      "source": [
        "r_vs_py = pd.concat([py1, r])\n",
        "r_vs_py = r_vs_py.groupby(['Tenure', 'WorkToolsSelect'])['Age'].count().to_frame().reset_index()\n",
        "r_vs_py.pivot('Tenure', 'WorkToolsSelect', 'Age').plot.barh(width=0.8)\n",
        "fig = plt.gcf()\n",
        "fig.set_size_inches(10,10)\n",
        "plt.title('Job Tenure vs Language Used')\n",
        "plt.show()"
      ],
      "execution_count": null,
      "outputs": []
    },
    {
      "cell_type": "markdown",
      "metadata": {
        "id": "CPjOIMBMwYj-"
      },
      "source": [
        "### Industry vs Language Used"
      ]
    },
    {
      "cell_type": "code",
      "metadata": {
        "id": "xc1KyTFyjHEN"
      },
      "source": [
        "r_vs_py = pd.concat([py1, r])\n",
        "r_vs_py = r_vs_py.groupby(['EmployerIndustry', 'WorkToolsSelect'])['Age'].count().to_frame().reset_index()\n",
        "r_vs_py.pivot('EmployerIndustry', 'WorkToolsSelect', 'Age').plot.barh(width=0.8)\n",
        "fig = plt.gcf()\n",
        "fig.set_size_inches(10,10)\n",
        "plt.title('Industry vs Language Used')\n",
        "plt.show()"
      ],
      "execution_count": null,
      "outputs": []
    },
    {
      "cell_type": "markdown",
      "metadata": {
        "id": "or-0DquWwsDQ"
      },
      "source": [
        "### Common Tools with Python and R"
      ]
    },
    {
      "cell_type": "code",
      "metadata": {
        "id": "der_sX5LjHBn"
      },
      "source": [
        "f, ax = plt.subplots(1,2,figsize=(20,15))\n",
        "py_comp = python['WorkToolsSelect'].str.split(',')\n",
        "py_comp1 = []\n",
        "for i in py_comp:\n",
        "  py_comp1.extend(i)\n",
        "plt1 = pd.Series(py_comp1).value_counts()[1:15].sort_values(ascending=False).to_frame()\n",
        "sns.barplot(plt1[0], plt1.index, ax=ax[0], palette=sns.color_palette('flare', 15))\n",
        "\n",
        "R_comp = R['WorkToolsSelect'].str.split(',')\n",
        "R_comp1 = []\n",
        "for i in R_comp:\n",
        "  R_comp1.extend(i)\n",
        "plt1 = pd.Series(R_comp1).value_counts()[1:15].sort_values(ascending=False).to_frame()\n",
        "sns.barplot(plt1[0], plt1.index, ax=ax[1], palette=sns.color_palette('flare', 15))\n",
        "\n",
        "ax[0].set_title('Commonly Used Tools with Python')\n",
        "ax[1].set_title('Commonly Used Tools with R')\n",
        "\n",
        "plt.subplots_adjust(wspace=0.8)\n",
        "plt.show()"
      ],
      "execution_count": null,
      "outputs": []
    },
    {
      "cell_type": "markdown",
      "metadata": {
        "id": "83Hd9XLA0nTt"
      },
      "source": [
        "# Asking the Data Scientists"
      ]
    },
    {
      "cell_type": "code",
      "metadata": {
        "id": "lvtabSU-jG_D"
      },
      "source": [
        "response['DataScienceIdentitySelect'].value_counts()"
      ],
      "execution_count": null,
      "outputs": []
    },
    {
      "cell_type": "code",
      "metadata": {
        "id": "jymV210ujG8o"
      },
      "source": [
        "plt.subplots(figsize=(10,8))\n",
        "scientist = response[response['DataScienceIdentitySelect'] == 'Yes']\n",
        "scientist['CurrentJobTitleSelect'].value_counts().sort_values(ascending=True).plot.barh(width=0.9,color=sns.color_palette('light:#5A9',15))\n",
        "plt.title('Job Titles', size=15)\n",
        "plt.show()"
      ],
      "execution_count": null,
      "outputs": []
    },
    {
      "cell_type": "markdown",
      "metadata": {
        "id": "rKMrHoRZ5cn_"
      },
      "source": [
        "Surprisingly there is no entry for the Job Title Data Scientist. There reasons for this could be that the people with CurrentJobTitleSelect as Data Scientist(who might be working as Data Scientist) might have not answered the question: \"Do you currently consider yourself a Data Scientist?\"\n",
        "\n",
        "There are many overlapping and common skills between the jobs like Data Analyst,Data Scientist and Machine Learning experts, Statisticians,etc. Thus they too have similar skills and consider themselves as Data Scientists even though they are not labeled the same. Now lets check if the previous assumption was True."
      ]
    },
    {
      "cell_type": "code",
      "metadata": {
        "id": "y4-_ap-hjG6v"
      },
      "source": [
        "true = response[response['CurrentJobTitleSelect'] == 'Data Scientist']"
      ],
      "execution_count": null,
      "outputs": []
    },
    {
      "cell_type": "markdown",
      "metadata": {
        "id": "ie2tsWjc6gnt"
      },
      "source": [
        "It was indeed True. People with their CurrentJobTitle as Data Scientist did not answer the question \"Do you currently consider yourself a Data Scientist?\". So I am considering them also to be real Data Scientists."
      ]
    },
    {
      "cell_type": "code",
      "metadata": {
        "id": "gDEhIiMpjG3d"
      },
      "source": [
        "scientist = pd.concat([scientist, true])\n",
        "scientist['CurrentEmployerType'].shape[0]"
      ],
      "execution_count": null,
      "outputs": []
    },
    {
      "cell_type": "markdown",
      "metadata": {
        "id": "YTj2KetL6km6"
      },
      "source": [
        "So out of the total respondents, about 40% of them are Data Scientists or have skills for the same.\n",
        "\n"
      ]
    },
    {
      "cell_type": "markdown",
      "metadata": {
        "id": "JX2o43A96ln5"
      },
      "source": [
        "### Country-Wise Split"
      ]
    },
    {
      "cell_type": "code",
      "metadata": {
        "id": "on-0jtTGjGyN"
      },
      "source": [
        "plt.subplots(figsize=(10,8))\n",
        "coun = scientist['Country'].value_counts()[:15].sort_values(ascending=False).to_frame()\n",
        "sns.barplot(coun.Country, coun.index, palette='inferno')\n",
        "plt.title('Countries By Number Of data Scientists', size=15)\n",
        "plt.show()"
      ],
      "execution_count": null,
      "outputs": []
    },
    {
      "cell_type": "markdown",
      "metadata": {
        "id": "W4TdNtzd7Qf_"
      },
      "source": [
        "The graph is similar to the demographic graph where we had shown number of users by country. The difference is that the numbers have reduced as we have only considered Data Scientists.\n",
        "\n"
      ]
    },
    {
      "cell_type": "markdown",
      "metadata": {
        "id": "i3DdBY4j7Rje"
      },
      "source": [
        "### Employment Status & Education"
      ]
    },
    {
      "cell_type": "code",
      "metadata": {
        "id": "f6ybyu5CjGtq"
      },
      "source": [
        "f, ax = plt.subplots(1,2,figsize=(25,10))\n",
        "sns.countplot(y=scientist['EmploymentStatus'], ax=ax[0])\n",
        "ax[0].set_title('Employment Status')\n",
        "ax[0].set_ylabel('')\n",
        "\n",
        "sns.countplot(y=scientist['FormalEducation'], \n",
        "              order=scientist['FormalEducation'].value_counts().index, \n",
        "              ax=ax[1], palette=sns.color_palette('viridis_r', 15))\n",
        "ax[1].set_title('Formal Education')\n",
        "ax[1].set_ylabel('')\n",
        "\n",
        "plt.subplots_adjust(wspace=0.5)\n",
        "plt.show()"
      ],
      "execution_count": null,
      "outputs": []
    },
    {
      "cell_type": "markdown",
      "metadata": {
        "id": "Tr0Z1AAN8ZxL"
      },
      "source": [
        "About **67%** of the data scientists are employed full-time, while about **11-12%** of them are unemployed but looking for job. On the education side it is evident that about 45-46% of the data scientists hold a **master's degree**, while about **23-24%** of them have **a bachelor's degree or a doctoral degree**. Thus education seems to be an important factor for becoming a data scientist. Let's see how does the salary vary according to the education.\n",
        "\n"
      ]
    },
    {
      "cell_type": "markdown",
      "metadata": {
        "id": "xnOogARY8l_u"
      },
      "source": [
        "### Compensation By Formal Education"
      ]
    },
    {
      "cell_type": "code",
      "metadata": {
        "id": "fy-PtQ0ejGq_"
      },
      "source": [
        "plt.subplots(figsize=(25,12))\n",
        "comp_edu = scientist.merge(salary, left_index=True, right_index=True, how='left')\n",
        "comp_edu = comp_edu[['FormalEducation','Salary']]\n",
        "sns.boxplot(x='FormalEducation', y='Salary', data=comp_edu)\n",
        "plt.title('Compensation vs Education')\n",
        "plt.xticks(rotation=90)\n",
        "plt.show()"
      ],
      "execution_count": null,
      "outputs": []
    },
    {
      "cell_type": "markdown",
      "metadata": {
        "id": "F6wkImos81uR"
      },
      "source": [
        "This is surprising as the salary ranges for Bachelor's, Master's and Doctoral degree look to very similar. The median for Bachelor's degree seems to be a bit high as compared to Master's and doctoral degree. I didn't expect this as many of the Data Scientists hold a masters degree. But I think Work Experience matters more than any degree. Maybe the Bachelor's degree holders have more experience as compared than the other two."
      ]
    },
    {
      "cell_type": "markdown",
      "metadata": {
        "id": "KpueiR_H89LF"
      },
      "source": [
        "### Previous Job and Salary Change"
      ]
    },
    {
      "cell_type": "code",
      "metadata": {
        "id": "8S1BJYQQjGoV"
      },
      "source": [
        "f,ax = plt.subplots(1,2,figsize=(30,15))\n",
        "past = scientist['PastJobTitlesSelect'].str.split(',')\n",
        "past_job = []\n",
        "for i in past.dropna():\n",
        "    past_job.extend(i)\n",
        "pd.Series(past_job).value_counts().sort_values(ascending=True).plot.barh(width=0.9, color=sns.color_palette('summer',25),ax=ax[0])\n",
        "ax[0].set_title('Previous Job')\n",
        "\n",
        "sal = scientist['SalaryChange'].str.split(',')\n",
        "sal_change = []\n",
        "for i in sal.dropna():\n",
        "    sal_change.extend(i)\n",
        "pd.Series(sal_change).value_counts().sort_values(ascending=True).plot.barh(width=0.9, color=sns.color_palette('summer',10),ax=ax[1])\n",
        "ax[1].set_title('Salary Change')\n",
        "plt.subplots_adjust(wspace=0.9)\n",
        "plt.show()"
      ],
      "execution_count": null,
      "outputs": []
    },
    {
      "cell_type": "markdown",
      "metadata": {
        "id": "H8Z_tbEI9Jei"
      },
      "source": [
        "Clearly majority of people switching to Data Science get a salary hike about 6-20% or more. With this increasing demand for Data Scientists, the salary may also increase with time.\n",
        "\n"
      ]
    },
    {
      "cell_type": "markdown",
      "metadata": {
        "id": "ytMZgs34Jkhc"
      },
      "source": [
        "### Tools used at Work"
      ]
    },
    {
      "cell_type": "code",
      "metadata": {
        "id": "Whg_p-FNjGlz"
      },
      "source": [
        "plt.subplots(figsize=(8,8))\n",
        "tools = scientist['WorkToolsSelect'].str.split(',')\n",
        "tools_work = []\n",
        "for i in tools.dropna():\n",
        "  tools_work.extend(i)\n",
        "pd.Series(tools_work).value_counts()[:15].sort_values(ascending=True).plot.barh(width=0.9, color=sns.color_palette('RdYlGn', 15))\n",
        "plt.show()"
      ],
      "execution_count": null,
      "outputs": []
    },
    {
      "cell_type": "markdown",
      "metadata": {
        "id": "zebUt14lKN0G"
      },
      "source": [
        "### Where Did they Learn From?"
      ]
    },
    {
      "cell_type": "code",
      "metadata": {
        "id": "0A0uyXY6jGj8"
      },
      "source": [
        "course = scientist['CoursePlatformSelect'].str.split(',')\n",
        "course_plat = []\n",
        "for i in course.dropna():\n",
        "  course_plat.extend(i)\n",
        "course_plat = pd.Series(course_plat).value_counts()\n",
        "\n",
        "blogs = scientist['BlogsPodcastsNewslettersSelect'].str.split(',')\n",
        "blogs_fam = []\n",
        "for i in blogs.dropna():\n",
        "  blogs_fam.extend(i)\n",
        "blogs_fam = pd.Series(blogs_fam).value_counts()\n",
        "\n",
        "labels1 = course_plat.index\n",
        "sizes1 = course_plat.values\n",
        "\n",
        "labels2 = blogs_fam[:5].index\n",
        "sizes2 = blogs_fam[:5].values\n",
        "\n",
        "fig = {\n",
        "    'data' : [\n",
        "              {\n",
        "               'values':sizes1,\n",
        "               'labels':labels1,\n",
        "               'domain': {'x':[0,.48]},\n",
        "               'name':'MOOC',\n",
        "               'hoverinfo':'label+percent+name',\n",
        "               'hole':.4,\n",
        "               'type':'pie'\n",
        "              },\n",
        "              {\n",
        "               'values':sizes2,\n",
        "               'labels':labels2,\n",
        "               'text':'CO2',\n",
        "               'textposition':'inside',\n",
        "               'domain': {'x':[.54,1]},\n",
        "               'name':'MOOC',\n",
        "               'hoverinfo':'label+percent+name',\n",
        "               'hole':.4,\n",
        "               'type':'pie'\n",
        "              }\n",
        "    ],\n",
        "    'layout' : {\n",
        "        'title' : 'Blogs and Oline Platforms',\n",
        "        'showlegend' : True,\n",
        "        'annotations': [\n",
        "                        {\n",
        "                         'font': {'size':12},\n",
        "                         'showarrow' : False,\n",
        "                         'text':'MOOC s',\n",
        "                         'x':0.18,\n",
        "                         'y':0.5\n",
        "                        },\n",
        "                        {'font':{'size':12},\n",
        "                         'showarrow':False,\n",
        "                         'text':'BLOGS',\n",
        "                         'x':0.83,\n",
        "                         'y':0.5\n",
        "                         }\n",
        "        ]\n",
        "    }\n",
        "}\n",
        "\n",
        "py.plot(fig, filename='donut2')"
      ],
      "execution_count": null,
      "outputs": []
    },
    {
      "cell_type": "markdown",
      "metadata": {
        "id": "PPuP0FW4NwCk"
      },
      "source": [
        "Coursera is the most favoured platform by Data Scientists for learning Data Science. My personal vote also goes for Coursera, where you can learn things from scratch to advanced on the same platform. It is not limited to a single language like Python or R, but also has courses covering other languages like Scala,etc. Similarly KDNuggets is the most preferred blog.\n",
        "\n"
      ]
    },
    {
      "cell_type": "markdown",
      "metadata": {
        "id": "b-RrW8j_NxqA"
      },
      "source": [
        "### Time Spent on Tasks\n",
        "\n",
        "A Data Scientist is not always building predictive models, he is also responsible for the data quality, gathering the right data, analytics, etc."
      ]
    },
    {
      "cell_type": "code",
      "metadata": {
        "id": "kiAkiKVMjGg1"
      },
      "source": [
        "import itertools\n",
        "\n",
        "plt.subplots(figsize=(22,10))\n",
        "time_spent = ['TimeFindingInsights', 'TimeVisualizing', 'TimeGatheringData', 'TimeModelBuilding']\n",
        "length = len(time_spent)\n",
        "\n",
        "for i, j in itertools.zip_longest(time_spent, range(length)):\n",
        "  plt.subplot((length/2),2,j+1)\n",
        "  plt.subplots_adjust(wspace=0.2, hspace=0.5)\n",
        "  scientist[i].hist(bins=10, edgecolor='black')\n",
        "  plt.axvline(scientist[i].mean(), linestyle='dashed', color='r')\n",
        "  plt.title(i, size=20)\n",
        "  plt.xlabel('% Time')\n",
        "\n",
        "plt.show()"
      ],
      "execution_count": null,
      "outputs": []
    },
    {
      "cell_type": "markdown",
      "metadata": {
        "id": "vghhpweZPMEp"
      },
      "source": [
        "* **TimeGatheringData**: It is undoubtedly the most time consuming part. Getting the data is the most painstaking task inthe entire process, which is followed by Data Cleaning(not shown as data not available) which is yet other time consuming process. Thus gathering right data and scrubing the data are the most time consuming process.\n",
        "\n",
        "* **TimeVisualizing**: It is probably the least time consuming process(and probably the most enjoyable one..:p), and it reduces even further if we use Enterprise Tools like Tableau,Qlik,Tibco,etc, which helps in building graphs and dashboards with simple drag and drop features.\n",
        "\n",
        "* **TimeFindingInsights**: It is followed after visualising the data, which involves finding facts and patterns in the data, slicing and dicing it to find insights for business processes.It looks to a bit more time consuming as compared to TimeVisualizing.\n",
        "\n",
        "* **TimeModelBuilding**: It is where the data scientists build predictive models, tune these models,etc. It is the 2nd most time consuming process after TimeDataGathering."
      ]
    },
    {
      "cell_type": "code",
      "metadata": {
        "id": "yeM7B8g7jGbv"
      },
      "source": [
        ""
      ],
      "execution_count": null,
      "outputs": []
    },
    {
      "cell_type": "code",
      "metadata": {
        "id": "mbiAatoDuHPp"
      },
      "source": [
        ""
      ],
      "execution_count": null,
      "outputs": []
    },
    {
      "cell_type": "code",
      "metadata": {
        "id": "XtQa_KwwuHNp"
      },
      "source": [
        ""
      ],
      "execution_count": null,
      "outputs": []
    },
    {
      "cell_type": "code",
      "metadata": {
        "id": "xIYNqNICuHLE"
      },
      "source": [
        ""
      ],
      "execution_count": null,
      "outputs": []
    },
    {
      "cell_type": "code",
      "metadata": {
        "id": "CbPlslWNuHH2"
      },
      "source": [
        ""
      ],
      "execution_count": null,
      "outputs": []
    },
    {
      "cell_type": "code",
      "metadata": {
        "id": "2cu2e9rkuHFR"
      },
      "source": [
        ""
      ],
      "execution_count": null,
      "outputs": []
    },
    {
      "cell_type": "code",
      "metadata": {
        "id": "FE-zFWZiuHCq"
      },
      "source": [
        ""
      ],
      "execution_count": null,
      "outputs": []
    },
    {
      "cell_type": "code",
      "metadata": {
        "id": "_J3QJhO8uG_8"
      },
      "source": [
        ""
      ],
      "execution_count": null,
      "outputs": []
    },
    {
      "cell_type": "code",
      "metadata": {
        "id": "9QBAk__GuG6_"
      },
      "source": [
        ""
      ],
      "execution_count": null,
      "outputs": []
    },
    {
      "cell_type": "code",
      "metadata": {
        "id": "Y5e54VRxuG4v"
      },
      "source": [
        ""
      ],
      "execution_count": null,
      "outputs": []
    },
    {
      "cell_type": "code",
      "metadata": {
        "id": "7_xWYARIuG2a"
      },
      "source": [
        ""
      ],
      "execution_count": null,
      "outputs": []
    },
    {
      "cell_type": "code",
      "metadata": {
        "id": "pdt9xjvsuGz8"
      },
      "source": [
        ""
      ],
      "execution_count": null,
      "outputs": []
    },
    {
      "cell_type": "code",
      "metadata": {
        "id": "AKPz6S1wuGw4"
      },
      "source": [
        ""
      ],
      "execution_count": null,
      "outputs": []
    },
    {
      "cell_type": "code",
      "metadata": {
        "id": "BX7X5ph-uGun"
      },
      "source": [
        ""
      ],
      "execution_count": null,
      "outputs": []
    },
    {
      "cell_type": "code",
      "metadata": {
        "id": "1ddZetbwuGr8"
      },
      "source": [
        ""
      ],
      "execution_count": null,
      "outputs": []
    },
    {
      "cell_type": "code",
      "metadata": {
        "id": "Iz-B8DfoSXK-"
      },
      "source": [
        ""
      ],
      "execution_count": null,
      "outputs": []
    },
    {
      "cell_type": "code",
      "metadata": {
        "id": "MxwJ5QmKSXIc"
      },
      "source": [
        ""
      ],
      "execution_count": null,
      "outputs": []
    },
    {
      "cell_type": "code",
      "metadata": {
        "id": "uv8NdOcASXFz"
      },
      "source": [
        ""
      ],
      "execution_count": null,
      "outputs": []
    },
    {
      "cell_type": "code",
      "metadata": {
        "id": "tRvTJN9mSNep"
      },
      "source": [
        ""
      ],
      "execution_count": null,
      "outputs": []
    }
  ]
}