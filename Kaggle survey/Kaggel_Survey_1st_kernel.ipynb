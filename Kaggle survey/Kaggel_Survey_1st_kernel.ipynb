{
  "nbformat": 4,
  "nbformat_minor": 0,
  "metadata": {
    "colab": {
      "name": "Kaggel_Survey_1st_kernel.ipynb",
      "private_outputs": true,
      "provenance": [],
      "collapsed_sections": [],
      "authorship_tag": "ABX9TyNnhXYWld1V2nUedIMwa+PQ",
      "include_colab_link": true
    },
    "kernelspec": {
      "name": "python3",
      "display_name": "Python 3"
    },
    "language_info": {
      "name": "python"
    }
  },
  "cells": [
    {
      "cell_type": "markdown",
      "metadata": {
        "id": "view-in-github",
        "colab_type": "text"
      },
      "source": [
        "<a href=\"https://colab.research.google.com/github/Jinwooxxi/kagglestudy/blob/main/Kaggle%20survey/Kaggel_Survey_1st_kernel.ipynb\" target=\"_parent\"><img src=\"https://colab.research.google.com/assets/colab-badge.svg\" alt=\"Open In Colab\"/></a>"
      ]
    },
    {
      "cell_type": "markdown",
      "metadata": {
        "id": "YRhlCKdAP7f7"
      },
      "source": [
        "# Introduction"
      ]
    },
    {
      "cell_type": "markdown",
      "metadata": {
        "id": "Eh7Sw4zzP_0j"
      },
      "source": [
        "### Who are Data Seientists?\n",
        "\n",
        "A data scientist ia a statistician or a programmer, who cleans, manages and organizes data, perform descriptive statistics and analysis to develop insights, build predictive models and sove business related problems."
      ]
    },
    {
      "cell_type": "code",
      "metadata": {
        "id": "AvhvjoJXQzi4"
      },
      "source": [
        "# !pip install squarify\n",
        "# !pip install matplotlib-venn\n",
        "# !pip install scipy==1.1.0"
      ],
      "execution_count": null,
      "outputs": []
    },
    {
      "cell_type": "code",
      "metadata": {
        "id": "tbWY7naAzS99"
      },
      "source": [
        "!pip install chart_studio"
      ],
      "execution_count": null,
      "outputs": []
    },
    {
      "cell_type": "code",
      "metadata": {
        "id": "EIXX5WkfR-oV"
      },
      "source": [
        "from google.colab import drive\n",
        "drive.mount('/content/drive')"
      ],
      "execution_count": null,
      "outputs": []
    },
    {
      "cell_type": "code",
      "metadata": {
        "id": "UeywXrS6PVKf"
      },
      "source": [
        "import numpy as np\n",
        "import pandas as pd\n",
        "import seaborn as sns\n",
        "import matplotlib.pyplot as plt\n",
        "import squarify\n",
        "plt.style.use('fivethirtyeight')\n",
        "import warnings\n",
        "warnings.filterwarnings('ignore')\n",
        "import plotly.offline as py\n",
        "py.init_notebook_mode(connected=True)\n",
        "import plotly.graph_objs as go\n",
        "import plotly.tools as tls\n",
        "import base64\n",
        "import io\n",
        "from scipy.misc import imread\n",
        "import codecs\n",
        "from IPython.display import HTML\n",
        "from matplotlib_venn import venn2\n",
        "from subprocess import check_output\n",
        "print(check_output([\"ls\", \"/content/drive/My Drive/kaggle_survey\"]).decode(\"utf8\"))"
      ],
      "execution_count": null,
      "outputs": []
    },
    {
      "cell_type": "code",
      "metadata": {
        "id": "m9ysxr6WQqIE"
      },
      "source": [
        "response = pd.read_csv('/content/drive/My Drive/kaggle_survey/multipleChoiceResponses.csv',encoding='ISO-8859-1')\n",
        "response.head()"
      ],
      "execution_count": null,
      "outputs": []
    },
    {
      "cell_type": "markdown",
      "metadata": {
        "id": "9c9LQIaNSX-H"
      },
      "source": [
        "### Some Basic Analysis"
      ]
    },
    {
      "cell_type": "code",
      "metadata": {
        "id": "Mfp72-I-SXzR"
      },
      "source": [
        "print('The total number of respondents:', response.shape[0])\n",
        "print('Total number of Countries with repondents:', response['Country'].nunique())\n",
        "print('Counttry with highest respondens:', response['Country'].value_counts().index[0], \n",
        "      'with', response['Country'].value_counts().values[0], 'respondents')\n",
        "print('Youngest respondents:', response['Age'].min(), ' and Oldest respondents', response['Age'].max())"
      ],
      "execution_count": null,
      "outputs": []
    },
    {
      "cell_type": "markdown",
      "metadata": {
        "id": "y0eSJWlQTdRz"
      },
      "source": [
        "### Gender Split"
      ]
    },
    {
      "cell_type": "code",
      "metadata": {
        "id": "S8YwxiluSXwl"
      },
      "source": [
        "plt.subplots(figsize=(22,12))\n",
        "sns.countplot(y=response['GenderSelect'], order=response['GenderSelect'].value_counts().index)\n",
        "plt.show()"
      ],
      "execution_count": null,
      "outputs": []
    },
    {
      "cell_type": "markdown",
      "metadata": {
        "id": "Qyv3UhOMT6J8"
      },
      "source": [
        "### Respondent By Country"
      ]
    },
    {
      "cell_type": "code",
      "metadata": {
        "id": "DKJVcY7MSXuY"
      },
      "source": [
        "resp_coun = response['Country'].value_counts()[:15].to_frame()\n",
        "sns.barplot(resp_coun['Country'], resp_coun.index, palette='inferno')\n",
        "plt.title('Top 15 Countries by number of respondents')\n",
        "plt.xlabel('')\n",
        "fig = plt.gcf()\n",
        "fig.set_size_inches(10,10)\n",
        "plt.show()\n",
        "\n",
        "tree = response['Country'].value_counts().to_frame()\n",
        "squarify.plot(sizes=tree['Country'].values, label=tree.index, color=sns.color_palette('RdYlGn_r', 52))\n",
        "plt.rcParams.update({'font.size':20})\n",
        "fig = plt.gcf()\n",
        "fig.set_size_inches(40,15)\n",
        "plt.show()"
      ],
      "execution_count": null,
      "outputs": []
    },
    {
      "cell_type": "markdown",
      "metadata": {
        "id": "SYrqo6RGVV2j"
      },
      "source": [
        "### Compensation"
      ]
    },
    {
      "cell_type": "markdown",
      "metadata": {
        "id": "VMNGJNHjVdOe"
      },
      "source": [
        "Data Scientists are one of the most highest payed individuals.\n"
      ]
    },
    {
      "cell_type": "code",
      "metadata": {
        "id": "bv57Ab2iSXri"
      },
      "source": [
        "response['CompensationAmount'] = response['CompensationAmount'].str.replace(',','')\n",
        "response['CompensationAmount'] = response['CompensationAmount'].str.replace('-','')\n",
        "\n",
        "rates = pd.read_csv('/content/drive/My Drive/kaggle_survey/conversionRates.csv')\n",
        "rates.drop('Unnamed: 0', axis=1, inplace=True)\n",
        "salary = response[['CompensationAmount',\n",
        "                 'CompensationCurrency',\n",
        "                 'GenderSelect',\n",
        "                 'Country',\n",
        "                 'CurrentJobTitleSelect']].dropna()\n",
        "salary = salary.merge(rates, left_on='CompensationCurrency', right_on='originCountry', how='left')\n",
        "salary['Salary'] = pd.to_numeric(salary['CompensationAmount']) * salary['exchangeRate']\n",
        "\n",
        "print('Maximun salary is USD $:', salary['Salary'].dropna().astype(int).max())\n",
        "print('Minimun salary is USD $:', salary['Salary'].dropna().astype(int).min())\n",
        "print('Median salary is USD $:', salary['Salary'].dropna().astype(int).median())"
      ],
      "execution_count": null,
      "outputs": []
    },
    {
      "cell_type": "code",
      "metadata": {
        "id": "48N0SAHzSXo_"
      },
      "source": [
        "plt.subplots(figsize=(15,8))\n",
        "salary = salary[salary['Salary'] < 1000000]\n",
        "sns.distplot(salary['Salary'])\n",
        "plt.title('Salary Distribution', size=15)\n",
        "plt.show()"
      ],
      "execution_count": null,
      "outputs": []
    },
    {
      "cell_type": "markdown",
      "metadata": {
        "id": "IckB1aPNXyVd"
      },
      "source": [
        "#### Compensation by Country"
      ]
    },
    {
      "cell_type": "code",
      "metadata": {
        "id": "C7-P6xMLSXj7"
      },
      "source": [
        "# 급여 높은 국가\n",
        "f,ax = plt.subplots(1,2,figsize=(18,8))\n",
        "sal_coun = salary.groupby('Country')['Salary'].median().sort_values(ascending=False)[:15].to_frame()\n",
        "sns.barplot('Salary',sal_coun.index,data=sal_coun,palette='RdYlGn',ax=ax[0])\n",
        "ax[0].axvline(salary['Salary'].median(), linestyle='dashed')\n",
        "ax[0].set_title('Highest Salary Paying Countries')\n",
        "ax[0].set_xlabel('')\n",
        "\n",
        "# 응답 Top 15 국가들의 급여\n",
        "max_coun = salary.groupby('Country')['Salary'].median().to_frame()\n",
        "max_coun = max_coun[max_coun.index.isin(resp_coun.index)]\n",
        "max_coun.sort_values(by='Salary', ascending=True).plot.barh(width=0.8, ax=ax[1], color=sns.color_palette('RdYlGn'))\n",
        "ax[1].axvline(salary['Salary'].median(), linestyle='dashed')\n",
        "ax[1].set_title('Compensation of Top 15 Respondent Countries')\n",
        "ax[1].set_xlabel('')\n",
        "ax[1].set_ylabel('')\n",
        "\n",
        "plt.subplots_adjust(wspace=0.8)\n",
        "plt.show()"
      ],
      "execution_count": null,
      "outputs": []
    },
    {
      "cell_type": "markdown",
      "metadata": {
        "id": "MBS1ODprfWQ_"
      },
      "source": [
        "#### Salary By Gender"
      ]
    },
    {
      "cell_type": "code",
      "metadata": {
        "id": "xeNGc-xASXhP"
      },
      "source": [
        "plt.subplots(figsize=(10,8))\n",
        "sns.boxplot(y='GenderSelect', x='Salary', data=salary)\n",
        "plt.ylabel('')\n",
        "plt.show()"
      ],
      "execution_count": null,
      "outputs": []
    },
    {
      "cell_type": "markdown",
      "metadata": {
        "id": "u7N03XJkfiZZ"
      },
      "source": [
        "### Age"
      ]
    },
    {
      "cell_type": "code",
      "metadata": {
        "id": "p9M7UNmSSXen"
      },
      "source": [
        "plt.subplots(figsize=(15,8))\n",
        "response['Age'].hist(bins=50, edgecolor='black')\n",
        "plt.xticks(list(range(0,80,5)))\n",
        "plt.title('Age Distribution')\n",
        "plt.show() "
      ],
      "execution_count": null,
      "outputs": []
    },
    {
      "cell_type": "markdown",
      "metadata": {
        "id": "QyqFzGk3f_Lq"
      },
      "source": [
        "### Profession & Major"
      ]
    },
    {
      "cell_type": "code",
      "metadata": {
        "id": "D314SZmdSXcK"
      },
      "source": [
        "f,ax = plt.subplots(1,2,figsize=(25,15))\n",
        "sns.countplot(y=response['MajorSelect'], ax=ax[0], order=response['MajorSelect'].value_counts().index)\n",
        "ax[0].set_title('Major')\n",
        "ax[0].set_ylabel('')\n",
        "\n",
        "sns.countplot(y=response['CurrentJobTitleSelect'], ax=ax[1], order=response['CurrentJobTitleSelect'].value_counts().index)\n",
        "ax[1].set_title('Current Job')\n",
        "ax[1].set_ylabel('')\n",
        "plt.subplots_adjust(wspace=0.8)\n",
        "plt.show()"
      ],
      "execution_count": null,
      "outputs": []
    },
    {
      "cell_type": "markdown",
      "metadata": {
        "id": "3OynTNzogo0Z"
      },
      "source": [
        "Data Science and Machine Learning is used in almost every industry. This is evident from the left graph, as people from different arearas of interest like Physics, Biology, etc are taking it up for better understanding of the data. \n",
        "\n",
        "The rifht side graph shows the Current Job of the respondents. A major portion of the respondents are Data Scientists. But as it is survey data, we know that there may be many ambigious reponses. Later on we will check are these respondents real data-scientists or self proclaimed data-scientists."
      ]
    },
    {
      "cell_type": "markdown",
      "metadata": {
        "id": "ER_28QxTh1RO"
      },
      "source": [
        "### Compensation By Job Title"
      ]
    },
    {
      "cell_type": "code",
      "metadata": {
        "id": "EVEPI-FJSXZh"
      },
      "source": [
        "sal_job = salary.groupby('CurrentJobTitleSelect')['Salary'].median().to_frame().sort_values(by='Salary',ascending=False)\n",
        "ax = sns.barplot(sal_job.Salary, sal_job.index, palette=sns.color_palette('inferno',20))\n",
        "plt.title('Compensation By Job Title', size=15)\n",
        "for i, v in enumerate(sal_job.Salary): \n",
        "    ax.text(.5, i, v, fontsize=10, color='white',weight='bold')\n",
        "fig = plt.gcf()\n",
        "fig.set_size_inches(8,8)\n",
        "plt.show()"
      ],
      "execution_count": null,
      "outputs": []
    },
    {
      "cell_type": "markdown",
      "metadata": {
        "id": "amH_bGnClLWN"
      },
      "source": [
        "Operations Research Practitioner has the highest median salary followed by Prdictive Modeler and Data Scientist. Coumputer Scientist and Programmers have the lowest compensation."
      ]
    },
    {
      "cell_type": "code",
      "metadata": {
        "id": "FjYw_3xZSXXF"
      },
      "source": [
        "f, ax = plt.subplots(1,2,figsize=(25,12))\n",
        "skills = response['MLSkillsSelect'].str.split(',')\n",
        "skills_set = []\n",
        "for i in skills.dropna():\n",
        "  skills_set.extend(i)\n",
        "plt1 = pd.Series(skills_set).value_counts().sort_values(ascending=False).to_frame()\n",
        "sns.barplot(plt1[0], plt1.index, ax=ax[0], palette=sns.color_palette('inferno_r', 15))\n",
        "ax[0].set_title('ML Skills')\n",
        "\n",
        "tech = response['MLTechniquesSelect'].str.split(',')\n",
        "techniques = []\n",
        "for i in tech.dropna():\n",
        "  techniques.extend(i)\n",
        "plt1 = pd.Series(techniques).value_counts().sort_values(ascending=False).to_frame()\n",
        "sns.barplot(plt1[0], plt1.index, ax=ax[1], palette=sns.color_palette('inferno_r', 15))\n",
        "ax[1].set_title('ML Techniques used')\n",
        "plt.subplots_adjust(wspace=0.8)\n",
        "plt.show()"
      ],
      "execution_count": null,
      "outputs": []
    },
    {
      "cell_type": "code",
      "metadata": {
        "id": "DYmTpuTuSXUk"
      },
      "source": [
        "f,ax = plt.subplots(1,2,figsize=(25,12))\n",
        "ml_nxt = response['MLMethodNextYearSelect'].str.split(',')\n",
        "nxt_year = []\n",
        "for i in ml_nxt.dropna():\n",
        "    nxt_year.extend(i)\n",
        "pd.Series(nxt_year).value_counts()[:15].sort_values(ascending=True).plot.barh(width=0.9, color=sns.color_palette('winter_r', 15), ax=ax[0])\n",
        "\n",
        "tool = response['MLToolNextYearSelect'].str.split(',')\n",
        "tool_nxt = []\n",
        "for i in tool.dropna():\n",
        "    tool_nxt.extend(i)\n",
        "pd.Series(tool_nxt).value_counts()[:15].sort_values(ascending=True).plot.barh(width=0.9, color=sns.color_palette('winter_r', 15), ax=ax[1])\n",
        "\n",
        "plt.subplots_adjust(wspace=0.8)\n",
        "ax[0].set_title('ML Method Next Year')\n",
        "ax[1].set_title('ML Tool Next Year')\n",
        "plt.show()"
      ],
      "execution_count": null,
      "outputs": []
    },
    {
      "cell_type": "markdown",
      "metadata": {
        "id": "wYzakPKcry3e"
      },
      "source": [
        "### Best Platfomrs to Learn"
      ]
    },
    {
      "cell_type": "code",
      "metadata": {
        "id": "aOtS49AWSXSK"
      },
      "source": [
        "plt.subplots(figsize=(6,8))\n",
        "learn = response['LearningPlatformSelect'].str.split(',')\n",
        "platform = []\n",
        "for i in learn.dropna():\n",
        "    platform.extend(i)\n",
        "pd.Series(platform).value_counts()[:15].sort_values(ascending=True).plot.barh(width=0.9, color=sns.color_palette('winter',15))\n",
        "plt.title('Best Platforms to Learn', size=15)\n",
        "plt.show()"
      ],
      "execution_count": null,
      "outputs": []
    },
    {
      "cell_type": "markdown",
      "metadata": {
        "id": "1c8bLeQssT_e"
      },
      "source": [
        "### Hardware Used"
      ]
    },
    {
      "cell_type": "code",
      "metadata": {
        "id": "UYlkdzPMSXPe"
      },
      "source": [
        "plt.subplots(figsize=(10,10))\n",
        "hard = response['HardwarePersonalProjectsSelect'].str.split(',')\n",
        "hardware = []\n",
        "for i in hard.dropna():\n",
        "    hardware.extend(i)\n",
        "pd.Series(hardware).value_counts().sort_values(ascending=True).plot.barh(width=0.9, color=sns.color_palette('inferno',10))\n",
        "plt.title('Machines Used')\n",
        "plt.show()"
      ],
      "execution_count": null,
      "outputs": []
    },
    {
      "cell_type": "markdown",
      "metadata": {
        "id": "FVgik0i8smNA"
      },
      "source": [
        "### Where Do I get Datasets From??"
      ]
    },
    {
      "cell_type": "code",
      "metadata": {
        "id": "nwgyohzXSXNP"
      },
      "source": [
        "plt.subplots(figsize=(15,15))\n",
        "data = response['PublicDatasetsSelect'].str.split(',')\n",
        "dataset = []\n",
        "for i in data.dropna():\n",
        "  dataset.extend(i)\n",
        "pd.Series(dataset).value_counts().plot.pie(autopct='%1.1f%%', \n",
        "                                           shadow = True,\n",
        "                                           colors=sns.color_palette('Paired', 10), \n",
        "                                           startangle=90,\n",
        "                                           wedgeprops={'linewidth':2, 'edgecolor':'white'})\n",
        "plt.title('Dataset Source')\n",
        "my_circle = plt.Circle((0,0), 0.7, color='white')\n",
        "p = plt.gcf()\n",
        "p.gca().add_artist(my_circle)\n",
        "plt.ylabel('')\n",
        "plt.show()"
      ],
      "execution_count": null,
      "outputs": []
    },
    {
      "cell_type": "markdown",
      "metadata": {
        "id": "XontZzgkuJg5"
      },
      "source": [
        "### Code Sharing"
      ]
    },
    {
      "cell_type": "code",
      "metadata": {
        "id": "3pa55p40uHfx"
      },
      "source": [
        "plt.subplots(figsize=(15,15))\n",
        "code = response['WorkCodeSharing'].str.split(',')\n",
        "code_share = []\n",
        "for i in code.dropna():\n",
        "    code_share.extend(i)\n",
        "pd.Series(code_share).value_counts().plot.pie(autopct='%1.1f%%',\n",
        "                                              shadow=True,\n",
        "                                              colors=sns.color_palette('Set3',10),\n",
        "                                              startangle=90,\n",
        "                                              wedgeprops = {'linewidth':2, 'edgecolor':'white' })\n",
        "plt.title('Code Sharing Medium')\n",
        "my_circle = plt.Circle((0,0), 0.65, color='white')\n",
        "p = plt.gcf()\n",
        "p.gca().add_artist(my_circle)\n",
        "plt.ylabel('')\n",
        "plt.show()"
      ],
      "execution_count": null,
      "outputs": []
    },
    {
      "cell_type": "markdown",
      "metadata": {
        "id": "SmIP1Gb3uv1J"
      },
      "source": [
        "### Challenges in Data Science"
      ]
    },
    {
      "cell_type": "code",
      "metadata": {
        "id": "QY0htSkWuHZ3"
      },
      "source": [
        "plt.subplots(figsize=(15,18))\n",
        "challenge = response['WorkChallengesSelect'].str.split(',')\n",
        "challenges = []\n",
        "for i in challenge.dropna():\n",
        "    challenges.extend(i)\n",
        "plt1 = pd.Series(challenges).value_counts().sort_values(ascending=False).to_frame()\n",
        "sns.barplot(plt1[0],plt1.index, palette=sns.color_palette('inferno',25))\n",
        "plt.title('Challenges in Data Science')\n",
        "plt.show()"
      ],
      "execution_count": null,
      "outputs": []
    },
    {
      "cell_type": "markdown",
      "metadata": {
        "id": "6IeFViDNvEeT"
      },
      "source": [
        "The main challenge in Data Science is getting the proper Data. The graph clearly shows that dirty data is the bigget challenge. Dirty data is a database record that contains errors. Dirty data can be caused by a number of factors including duplicate records, incomplete or outdated data, and the improper parsing of record fields from disparate systems. Luckily Kaggle datasets are pretty clean and standardised.\n",
        "\n",
        "Some other major challenges are the Lack of Data Science and machine learning talent, difficulty in getting data and lack of tools. Thats why Data Science is the sexiest job in 21st century.With the increasing amount of data, this demand will substantially grow."
      ]
    },
    {
      "cell_type": "markdown",
      "metadata": {
        "id": "cg6-u2qavPW4"
      },
      "source": [
        "### Job Statisfaction"
      ]
    },
    {
      "cell_type": "code",
      "metadata": {
        "id": "Md8X2-fCuHXb"
      },
      "source": [
        "satisfy = response.copy()\n",
        "satisfy['JobSatisfaction'].replace({'10 - Highly Satisfied':'10',\n",
        "                                    '1 - Highly Dissatisfied':'1',\n",
        "                                    'I prefer not to share':np.NaN}, inplace=True)\n",
        "satisfy.dropna(subset=['JobSatisfaction'], inplace=True)\n",
        "satisfy['JobSatisfaction'] = satisfy['JobSatisfaction'].astype(int)\n",
        "satisfy_job=satisfy.groupby(['CurrentJobTitleSelect'])['JobSatisfaction'].mean().sort_values(ascending=False).to_frame()\n",
        "ax = sns.barplot(y=satisfy_job.index, x=satisfy_job.JobSatisfaction, palette=sns.color_palette('inferno',20))\n",
        "fig = plt.gcf()\n",
        "fig.set_size_inches(8,10)\n",
        "for i, v in enumerate(satisfy_job.JobSatisfaction): \n",
        "    ax.text(.1, i, v,fontsize=10, color='white', weight='bold')\n",
        "plt.title('Job Satisfaction out of 10')\n",
        "plt.show()"
      ],
      "execution_count": null,
      "outputs": []
    },
    {
      "cell_type": "markdown",
      "metadata": {
        "id": "NoO-TUeTvvZK"
      },
      "source": [
        "#### Job Satisfication By Country"
      ]
    },
    {
      "cell_type": "code",
      "metadata": {
        "id": "t3XGa5FNuHUk"
      },
      "source": [
        "satisfy = response.copy()\n",
        "satisfy['JobSatisfaction'].replace({'10 - Highly Satisfied':10,\n",
        "                                    '1 - Highly Dissatisfied':1,\n",
        "                                    'I prefer not to share':np.NaN}, inplace=True)\n",
        "satisfy.dropna(subset=['JobSatisfaction'], inplace=True)\n",
        "satisfy['JobSatisfaction'] = satisfy['JobSatisfaction'].astype(int)\n",
        "satisfy_job = satisfy.groupby(['Country'])['JobSatisfaction'].mean().sort_values(ascending=True).to_frame()\n",
        "\n",
        "data = [dict(type='choropleth',\n",
        "             autocolorscale=False,\n",
        "             colorscale='Viridis',\n",
        "             reversescale=True,\n",
        "             locations=satisfy_job.index,\n",
        "             z=satisfy_job['JobSatisfaction'],\n",
        "             locationmode='country names',\n",
        "             text=satisfy_job['JobSatisfaction'],\n",
        "             marker=dict(line=dict(color='rgb(200,200,200)', width=0.5),\n",
        "                         colorbar=dict(autotick=True, tickprefix='', title='Satisfaction')))]\n",
        "\n",
        "layout = dict(\n",
        "    title = 'Job Satisfaction By Country',\n",
        "    geo = dict(\n",
        "        showframe=True,\n",
        "        showocean=True,\n",
        "        projection=dict(\n",
        "            type='chloropleth'\n",
        "        ),\n",
        "        lonaxis = dict(\n",
        "            showgrid=False,\n",
        "            gridcolor='rgb(102,102,102)'\n",
        "        ),\n",
        "        lataxis = dict(\n",
        "            showgrid=False,\n",
        "            gridcolor='rgb(102,102,102)'\n",
        "        )\n",
        "    )\n",
        ")\n",
        "\n",
        "fig = dict(data=data, layout=layout)\n",
        "py.plot(fig, validate=False, filename='worldmap2010')\n",
        "# py.iplot(fig, validate=False, filename='worldmap2010')"
      ],
      "execution_count": null,
      "outputs": []
    },
    {
      "cell_type": "code",
      "metadata": {
        "id": "nxJGLPo_uHSJ"
      },
      "source": [
        ""
      ],
      "execution_count": null,
      "outputs": []
    },
    {
      "cell_type": "code",
      "metadata": {
        "id": "mbiAatoDuHPp"
      },
      "source": [
        ""
      ],
      "execution_count": null,
      "outputs": []
    },
    {
      "cell_type": "code",
      "metadata": {
        "id": "XtQa_KwwuHNp"
      },
      "source": [
        ""
      ],
      "execution_count": null,
      "outputs": []
    },
    {
      "cell_type": "code",
      "metadata": {
        "id": "xIYNqNICuHLE"
      },
      "source": [
        ""
      ],
      "execution_count": null,
      "outputs": []
    },
    {
      "cell_type": "code",
      "metadata": {
        "id": "CbPlslWNuHH2"
      },
      "source": [
        ""
      ],
      "execution_count": null,
      "outputs": []
    },
    {
      "cell_type": "code",
      "metadata": {
        "id": "2cu2e9rkuHFR"
      },
      "source": [
        ""
      ],
      "execution_count": null,
      "outputs": []
    },
    {
      "cell_type": "code",
      "metadata": {
        "id": "FE-zFWZiuHCq"
      },
      "source": [
        ""
      ],
      "execution_count": null,
      "outputs": []
    },
    {
      "cell_type": "code",
      "metadata": {
        "id": "_J3QJhO8uG_8"
      },
      "source": [
        ""
      ],
      "execution_count": null,
      "outputs": []
    },
    {
      "cell_type": "code",
      "metadata": {
        "id": "9QBAk__GuG6_"
      },
      "source": [
        ""
      ],
      "execution_count": null,
      "outputs": []
    },
    {
      "cell_type": "code",
      "metadata": {
        "id": "Y5e54VRxuG4v"
      },
      "source": [
        ""
      ],
      "execution_count": null,
      "outputs": []
    },
    {
      "cell_type": "code",
      "metadata": {
        "id": "7_xWYARIuG2a"
      },
      "source": [
        ""
      ],
      "execution_count": null,
      "outputs": []
    },
    {
      "cell_type": "code",
      "metadata": {
        "id": "pdt9xjvsuGz8"
      },
      "source": [
        ""
      ],
      "execution_count": null,
      "outputs": []
    },
    {
      "cell_type": "code",
      "metadata": {
        "id": "AKPz6S1wuGw4"
      },
      "source": [
        ""
      ],
      "execution_count": null,
      "outputs": []
    },
    {
      "cell_type": "code",
      "metadata": {
        "id": "BX7X5ph-uGun"
      },
      "source": [
        ""
      ],
      "execution_count": null,
      "outputs": []
    },
    {
      "cell_type": "code",
      "metadata": {
        "id": "1ddZetbwuGr8"
      },
      "source": [
        ""
      ],
      "execution_count": null,
      "outputs": []
    },
    {
      "cell_type": "code",
      "metadata": {
        "id": "Iz-B8DfoSXK-"
      },
      "source": [
        ""
      ],
      "execution_count": null,
      "outputs": []
    },
    {
      "cell_type": "code",
      "metadata": {
        "id": "MxwJ5QmKSXIc"
      },
      "source": [
        ""
      ],
      "execution_count": null,
      "outputs": []
    },
    {
      "cell_type": "code",
      "metadata": {
        "id": "uv8NdOcASXFz"
      },
      "source": [
        ""
      ],
      "execution_count": null,
      "outputs": []
    },
    {
      "cell_type": "code",
      "metadata": {
        "id": "tRvTJN9mSNep"
      },
      "source": [
        ""
      ],
      "execution_count": null,
      "outputs": []
    }
  ]
}