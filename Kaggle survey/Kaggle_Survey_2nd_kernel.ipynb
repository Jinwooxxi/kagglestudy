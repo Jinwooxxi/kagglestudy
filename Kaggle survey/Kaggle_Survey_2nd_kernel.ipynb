{
  "nbformat": 4,
  "nbformat_minor": 0,
  "metadata": {
    "colab": {
      "name": "Kaggle_Survey_2nd_kernel.ipynb",
      "private_outputs": true,
      "provenance": [],
      "collapsed_sections": [],
      "authorship_tag": "ABX9TyOHh2XG64X7npJi2Dk9/i9Y",
      "include_colab_link": true
    },
    "kernelspec": {
      "name": "python3",
      "display_name": "Python 3"
    },
    "language_info": {
      "name": "python"
    }
  },
  "cells": [
    {
      "cell_type": "markdown",
      "metadata": {
        "id": "view-in-github",
        "colab_type": "text"
      },
      "source": [
        "<a href=\"https://colab.research.google.com/github/Jinwooxxi/kagglestudy/blob/main/Kaggle%20survey/Kaggle_Survey_2nd_kernel.ipynb\" target=\"_parent\"><img src=\"https://colab.research.google.com/assets/colab-badge.svg\" alt=\"Open In Colab\"/></a>"
      ]
    },
    {
      "cell_type": "markdown",
      "metadata": {
        "id": "PS6C4DCdzqxf"
      },
      "source": [
        "# 0. Intro"
      ]
    },
    {
      "cell_type": "code",
      "metadata": {
        "id": "F8OOHXU9lR8i"
      },
      "source": [
        "from google.colab import drive\n",
        "drive.mount('/content/drive')"
      ],
      "execution_count": null,
      "outputs": []
    },
    {
      "cell_type": "code",
      "metadata": {
        "id": "HJnLSp6FoHCM"
      },
      "source": [
        "import numpy as np # Linear Algebra\n",
        "import pandas as pd # data processing, CSV file\n",
        "import matplotlib.pyplot as plt\n",
        "import seaborn as sns\n",
        "sns.set(color_codes=True)\n",
        "import operator\n",
        "\n",
        "import plotly.offline as py\n",
        "py.init_notebook_mode(connected=True)\n",
        "import plotly.graph_objs as go\n",
        "import plotly.tools as tls\n",
        "from IPython.display import HTML\n",
        "\n",
        "from subprocess import check_output\n",
        "print(check_output([\"ls\", \"/content/drive/My Drive/kaggle_survey\"]).decode(\"utf8\"))"
      ],
      "execution_count": null,
      "outputs": []
    },
    {
      "cell_type": "code",
      "metadata": {
        "id": "ssXC3OPAnzxT"
      },
      "source": [
        "cvRates = pd.read_csv(\"/content/drive/My Drive/kaggle_survey/conversionRates.csv\", encoding=\"ISO-8859-1\")\n",
        "freeForm = pd.read_csv(\"/content/drive/My Drive/kaggle_survey/freeformResponses.csv\", encoding=\"ISO-8859-1\")\n",
        "data = pd.read_csv(\"/content/drive/My Drive/kaggle_survey/multipleChoiceResponses.csv\", encoding=\"ISO-8859-1\")\n",
        "schema = pd.read_csv(\"/content/drive/My Drive/kaggle_survey/schema.csv\", encoding=\"ISO-8859-1\")"
      ],
      "execution_count": null,
      "outputs": []
    },
    {
      "cell_type": "markdown",
      "metadata": {
        "id": "xLvwVafpzmIL"
      },
      "source": [
        "# 1. Tell me about yourself"
      ]
    },
    {
      "cell_type": "markdown",
      "metadata": {
        "id": "HV4enqVV0H0C"
      },
      "source": [
        "### Gender, Age and Contry"
      ]
    },
    {
      "cell_type": "code",
      "metadata": {
        "id": "nfVbgHqinzvJ"
      },
      "source": [
        "plt.figure(figsize=(12,8))\n",
        "genders = data[\"GenderSelect\"].value_counts()\n",
        "sns.barplot(y=genders.index, x=genders.values, alpha=0.6)\n",
        "plt.yticks(range(len(data[\"GenderSelect\"].value_counts().index)), ['Male', 'Female','Different Identity', 'Non-Confirming'])\n",
        "plt.title(\"Gender Distribution of the Survey Participants\", fontsize=16)\n",
        "plt.xlabel(\"Number of Participants\", fontsize=16)\n",
        "plt.ylabel(\"Gender\", fontsize=16)\n",
        "plt.show()\n",
        "\n",
        "print(\"Proportion of Women in this Survey : {:0.2f}%\".format(100*len(data[data['GenderSelect']=='Female'])/len(data['GenderSelect'].dropna())))\n",
        "print(\"Proportion of Men   in this Survey : {:0.2f}%\".format(100*len(data[data['GenderSelect']=='Male'])/len(data['GenderSelect'].dropna())))"
      ],
      "execution_count": null,
      "outputs": []
    },
    {
      "cell_type": "markdown",
      "metadata": {
        "id": "NuBtaRFA1sIa"
      },
      "source": [
        "The gender gap is huge. Statistics show that **women hold only 25% of computing jobs**, which is already low but what we're having here is worse. 16.71% is too low, **there's 5 times as many male respondents as female repondents.**"
      ]
    },
    {
      "cell_type": "code",
      "metadata": {
        "id": "FqPXIo0Ynzs4"
      },
      "source": [
        "print('{} instances seem to be too old  (>65 years old)'.format(len(data[data['Age']>65])))\n",
        "print('{} instances seem to be too young (<15 years old)'.format(len(data[data['Age']<15])))"
      ],
      "execution_count": null,
      "outputs": []
    },
    {
      "cell_type": "markdown",
      "metadata": {
        "id": "5TJhFGJa2r6b"
      },
      "source": [
        "Instances with 0, 5, 100 years old don't macke much sens. Removing those instances here (Keep them later on as the age doesn't affect the other properties) would yield more significant results."
      ]
    },
    {
      "cell_type": "code",
      "metadata": {
        "id": "YyMtGjKvnzqj"
      },
      "source": [
        "age = data[(data['Age']>=15) & (data['Age']<=65)]\n",
        "plt.figure(figsize=(10,8))\n",
        "sns.boxplot(y=age['Age'], data=age)\n",
        "plt.title('Age Boxplot', fontsize=16)\n",
        "plt.ylabel(\"Age\", fontsize=16)\n",
        "plt.show()"
      ],
      "execution_count": null,
      "outputs": []
    },
    {
      "cell_type": "markdown",
      "metadata": {
        "id": "RRYnrtvD32Xu"
      },
      "source": [
        "The age median is about 30 years old and most participants are between 25 and 37 years old."
      ]
    },
    {
      "cell_type": "code",
      "metadata": {
        "id": "ZkUPHeAEnzn7"
      },
      "source": [
        "plt.figure(figsize=(12,8))\n",
        "countries=data['Country'].value_counts().head(30)\n",
        "sns.barplot(y=countries.index, x=countries.values, alpha=0.6)\n",
        "plt.title('Country Distribution of the Survey Participants', fontsize=16)\n",
        "plt.xlabel('Number of Participants', fontsize=16)\n",
        "plt.ylabel('Country', fontsize=16)\n",
        "plt.show()"
      ],
      "execution_count": null,
      "outputs": []
    },
    {
      "cell_type": "markdown",
      "metadata": {
        "id": "H91w3qpC4nXt"
      },
      "source": [
        "Semms like most Kagglers are either americans or Indians."
      ]
    },
    {
      "cell_type": "code",
      "metadata": {
        "id": "9FNe2v1S1r3s"
      },
      "source": [
        "print('{:0.2f}% of the instances are Americans'.format(100*(len(data[data['Country']=='United States'])/len(data))))\n",
        "print('{:0.2f}% of the instances are Indians  '.format(100*(len(data[data['Country']=='India'])/len(data))))\n",
        "print('{:0.2f}%  of the instances are Korean   '.format(100*(len(data[data['Country']=='South Korea'])/len(data))))"
      ],
      "execution_count": null,
      "outputs": []
    },
    {
      "cell_type": "markdown",
      "metadata": {
        "id": "2Db0hA1a5aaz"
      },
      "source": [
        "All in all, 41.29% of the total instances are either from the US or India. This is sort of expected because those are the two most active communitites around the world in Data Science."
      ]
    },
    {
      "cell_type": "markdown",
      "metadata": {
        "id": "5klH9LFe5wgx"
      },
      "source": [
        "### Formal Education and Major"
      ]
    },
    {
      "cell_type": "code",
      "metadata": {
        "id": "w2f2NIFX1r0-"
      },
      "source": [
        "edu = data['FormalEducation'].value_counts()\n",
        "labels = (np.array(edu.index))\n",
        "\n",
        "values = (np.array((edu/edu.sum())*100))\n",
        "\n",
        "trace = go.Pie(labels=labels, values=values, hoverinfo='label+percent', textfont=dict(size=20), showlegend=False)\n",
        "\n",
        "layout = go.Layout(title='Formal Education of the Surbey Participants')\n",
        "\n",
        "data_trace = [trace]\n",
        "fig = go.Figure(data=data_trace, layout=layout)\n",
        "py.iplot(fig, filename='Formal_Education')\n",
        "fig.show(renderer='colab')\n",
        "# fig.write_html('Formal_Education.html')"
      ],
      "execution_count": null,
      "outputs": []
    },
    {
      "cell_type": "markdown",
      "metadata": {
        "id": "zhVo_1GvJe-Y"
      },
      "source": [
        "Nearly half of the kagglers who took this survey Master's graduates.\n",
        "What's more, 80.34% of respondents hold at least a bacheror degree."
      ]
    },
    {
      "cell_type": "code",
      "metadata": {
        "id": "UB5Vr2rR1ryZ"
      },
      "source": [
        "data['MajorSelect'] = data['MajorSelect'].replace(to_replace='Information technology, networking, or system administration',\n",
        "                                                  value = 'Inofrmation tech / System admin')"
      ],
      "execution_count": null,
      "outputs": []
    },
    {
      "cell_type": "code",
      "metadata": {
        "id": "SA8Zd_-w1rrC"
      },
      "source": [
        "plt.figure(figsize=(12,8))\n",
        "majors = data['MajorSelect'].value_counts()\n",
        "sns.barplot(y=majors.index, x=majors.values, alpha=0.6)\n",
        "plt.xlabel('Number of participants', fontsize=16)\n",
        "plt.ylabel('Major', fontsize=16)\n",
        "plt.show()"
      ],
      "execution_count": null,
      "outputs": []
    },
    {
      "cell_type": "markdown",
      "metadata": {
        "id": "TwEo9yk6LPaj"
      },
      "source": [
        "Computer Science majoing instances are twice as many as Mathematics."
      ]
    },
    {
      "cell_type": "markdown",
      "metadata": {
        "id": "8PxzhoRkLhRP"
      },
      "source": [
        "### How did you start learning Data Science?"
      ]
    },
    {
      "cell_type": "code",
      "metadata": {
        "id": "9TOAETnZ1rol"
      },
      "source": [
        "plt.figure(figsize=(10,8))\n",
        "\n",
        "temp = data['FirstTrainingSelect'].value_counts()\n",
        "labels = temp.index\n",
        "sizes = temp.values\n",
        "\n",
        "plt.pie(sizes, labels=labels, autopct='%1.1f%%')\n",
        "\n",
        "# draw a circle at the conter of pie to make it look like a donut\n",
        "center_circle = plt.Circle((0,0), 0.75, color='black', fc='white', linewidth=1.25)\n",
        "fig = plt.gcf()\n",
        "fig.gca().add_artist(center_circle)\n",
        "\n",
        "# Set aspect ratio to be equal so that pie is drawn as a circle.\n",
        "plt.axis('equal')\n",
        "plt.show()"
      ],
      "execution_count": null,
      "outputs": []
    },
    {
      "cell_type": "markdown",
      "metadata": {
        "id": "SxUGSw8-Mc99"
      },
      "source": [
        "Online courses → University courses → Self-taught → Work → Other → Kaggle competitions\n"
      ]
    },
    {
      "cell_type": "markdown",
      "metadata": {
        "id": "f5yjJRQNM8g6"
      },
      "source": [
        "### Emplyment status"
      ]
    },
    {
      "cell_type": "code",
      "metadata": {
        "id": "4-FwRIXu1rmc"
      },
      "source": [
        "data['EmploymentStatus'] = data['EmploymentStatus'].replace(to_replace='Independent contractor, freelancer, or self-employed',\n",
        "                                                            value = 'Independent')"
      ],
      "execution_count": null,
      "outputs": []
    },
    {
      "cell_type": "code",
      "metadata": {
        "id": "AARg1l5e1rhT"
      },
      "source": [
        "plt.figure(figsize=(12,8))\n",
        "status = data['EmploymentStatus'].value_counts()\n",
        "sns.barplot(y=status.index, x=status.values, alpha=0.6)\n",
        "plt.title('Employment status of the survey respondents', fontsize=16)\n",
        "plt.xlabel('Number of participants', fontsize=16)\n",
        "plt.ylabel('Emplyment status', fontsize=16)\n",
        "plt.show()"
      ],
      "execution_count": null,
      "outputs": []
    },
    {
      "cell_type": "code",
      "metadata": {
        "id": "GnM2V9en1rer"
      },
      "source": [
        "print('{:0.2f}% of the instances are employed full-time'.format(100*len(data[data['EmploymentStatus']=='Employed full-time'])/len(data)))\n",
        "\n",
        "status=['Employed full-time','Independent','Employed part-time']\n",
        "print('{:0.2f}% of the instances are employed'.format(100*len(data[data.EmploymentStatus.isin(status)])/len(data)))"
      ],
      "execution_count": null,
      "outputs": []
    },
    {
      "cell_type": "code",
      "metadata": {
        "id": "1jjYC-Ol1rcN"
      },
      "source": [
        ""
      ],
      "execution_count": null,
      "outputs": []
    },
    {
      "cell_type": "code",
      "metadata": {
        "id": "Se1_-oiS1rZx"
      },
      "source": [
        ""
      ],
      "execution_count": null,
      "outputs": []
    },
    {
      "cell_type": "code",
      "metadata": {
        "id": "jWrKZMJY1rXR"
      },
      "source": [
        ""
      ],
      "execution_count": null,
      "outputs": []
    },
    {
      "cell_type": "code",
      "metadata": {
        "id": "jRN05vT_1rU0"
      },
      "source": [
        ""
      ],
      "execution_count": null,
      "outputs": []
    },
    {
      "cell_type": "code",
      "metadata": {
        "id": "JoaQfQ3Y1rSX"
      },
      "source": [
        ""
      ],
      "execution_count": null,
      "outputs": []
    },
    {
      "cell_type": "code",
      "metadata": {
        "id": "vEN3XQ8r1rP3"
      },
      "source": [
        ""
      ],
      "execution_count": null,
      "outputs": []
    },
    {
      "cell_type": "code",
      "metadata": {
        "id": "A2H24Nz71rNR"
      },
      "source": [
        ""
      ],
      "execution_count": null,
      "outputs": []
    },
    {
      "cell_type": "code",
      "metadata": {
        "id": "qrXjJj1Z1rK9"
      },
      "source": [
        ""
      ],
      "execution_count": null,
      "outputs": []
    },
    {
      "cell_type": "code",
      "metadata": {
        "id": "physgNuL1rI9"
      },
      "source": [
        ""
      ],
      "execution_count": null,
      "outputs": []
    },
    {
      "cell_type": "code",
      "metadata": {
        "id": "mZF7M42q1rF_"
      },
      "source": [
        ""
      ],
      "execution_count": null,
      "outputs": []
    },
    {
      "cell_type": "code",
      "metadata": {
        "id": "skG9_2cS1rDg"
      },
      "source": [
        ""
      ],
      "execution_count": null,
      "outputs": []
    },
    {
      "cell_type": "code",
      "metadata": {
        "id": "JNMWdqoi1rBK"
      },
      "source": [
        ""
      ],
      "execution_count": null,
      "outputs": []
    },
    {
      "cell_type": "code",
      "metadata": {
        "id": "W3A2WNsD1q-n"
      },
      "source": [
        ""
      ],
      "execution_count": null,
      "outputs": []
    },
    {
      "cell_type": "code",
      "metadata": {
        "id": "y0CLI5xk1q8Y"
      },
      "source": [
        ""
      ],
      "execution_count": null,
      "outputs": []
    },
    {
      "cell_type": "code",
      "metadata": {
        "id": "F2yV9SyJ1q5q"
      },
      "source": [
        ""
      ],
      "execution_count": null,
      "outputs": []
    },
    {
      "cell_type": "code",
      "metadata": {
        "id": "rbZo5G-G1q3Q"
      },
      "source": [
        ""
      ],
      "execution_count": null,
      "outputs": []
    },
    {
      "cell_type": "code",
      "metadata": {
        "id": "Lb3F3VAo1q00"
      },
      "source": [
        ""
      ],
      "execution_count": null,
      "outputs": []
    },
    {
      "cell_type": "code",
      "metadata": {
        "id": "5Hem5W3B1qyh"
      },
      "source": [
        ""
      ],
      "execution_count": null,
      "outputs": []
    },
    {
      "cell_type": "code",
      "metadata": {
        "id": "jWhyusWy1qwJ"
      },
      "source": [
        ""
      ],
      "execution_count": null,
      "outputs": []
    },
    {
      "cell_type": "code",
      "metadata": {
        "id": "4_VOZHWJ1qtj"
      },
      "source": [
        ""
      ],
      "execution_count": null,
      "outputs": []
    },
    {
      "cell_type": "code",
      "metadata": {
        "id": "SmMUi5781qrB"
      },
      "source": [
        ""
      ],
      "execution_count": null,
      "outputs": []
    },
    {
      "cell_type": "code",
      "metadata": {
        "id": "G9RCFmZ21qo2"
      },
      "source": [
        ""
      ],
      "execution_count": null,
      "outputs": []
    },
    {
      "cell_type": "code",
      "metadata": {
        "id": "crcHUU5V1qmS"
      },
      "source": [
        ""
      ],
      "execution_count": null,
      "outputs": []
    },
    {
      "cell_type": "code",
      "metadata": {
        "id": "FPAsI8Wo1qh2"
      },
      "source": [
        ""
      ],
      "execution_count": null,
      "outputs": []
    },
    {
      "cell_type": "code",
      "metadata": {
        "id": "ESE4kSUO1qfw"
      },
      "source": [
        ""
      ],
      "execution_count": null,
      "outputs": []
    },
    {
      "cell_type": "code",
      "metadata": {
        "id": "crYaUPuo1qdV"
      },
      "source": [
        ""
      ],
      "execution_count": null,
      "outputs": []
    },
    {
      "cell_type": "code",
      "metadata": {
        "id": "tts3z8tf1qa8"
      },
      "source": [
        ""
      ],
      "execution_count": null,
      "outputs": []
    },
    {
      "cell_type": "code",
      "metadata": {
        "id": "V1ayTY-T1qYw"
      },
      "source": [
        ""
      ],
      "execution_count": null,
      "outputs": []
    },
    {
      "cell_type": "code",
      "metadata": {
        "id": "pumIHcCm1qWJ"
      },
      "source": [
        ""
      ],
      "execution_count": null,
      "outputs": []
    }
  ]
}