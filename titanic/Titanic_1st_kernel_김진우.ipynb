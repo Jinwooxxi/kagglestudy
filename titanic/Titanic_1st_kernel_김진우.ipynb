{
  "nbformat": 4,
  "nbformat_minor": 0,
  "metadata": {
    "colab": {
      "name": "Titanic_1st_kernel_김진우.ipynb",
      "private_outputs": true,
      "provenance": [],
      "collapsed_sections": [],
      "include_colab_link": true
    },
    "kernelspec": {
      "name": "python3",
      "display_name": "Python 3"
    },
    "language_info": {
      "name": "python"
    }
  },
  "cells": [
    {
      "cell_type": "markdown",
      "metadata": {
        "id": "view-in-github",
        "colab_type": "text"
      },
      "source": [
        "<a href=\"https://colab.research.google.com/github/Jinwooxxi/kagglestudy/blob/main/titanic/Titanic_1st_kernel_%EA%B9%80%EC%A7%84%EC%9A%B0.ipynb\" target=\"_parent\"><img src=\"https://colab.research.google.com/assets/colab-badge.svg\" alt=\"Open In Colab\"/></a>"
      ]
    },
    {
      "cell_type": "code",
      "metadata": {
        "id": "zxo88-Bzh3vB"
      },
      "source": [
        "import numpy as np\n",
        "import pandas as pd\n",
        "import matplotlib.pyplot as plt\n",
        "import seaborn as sns\n",
        "\n",
        "plt.style.use('seaborn')\n",
        "sns.set(font_scale=2.5) \n",
        "# 이 두줄은 본 필자가 항상 쓰는 방법입니다. matplotlib 의 기본 scheme 말고 seaborn scheme 을 세팅하고, \n",
        "# 일일이 graph 의 font size 를 지정할 필요 없이 seaborn 의 font_scale 을 사용하면 편합니다.\n",
        "import missingno as msno\n",
        "\n",
        "#ignore warnings\n",
        "import warnings\n",
        "warnings.filterwarnings('ignore')\n",
        "\n",
        "%matplotlib inline"
      ],
      "execution_count": null,
      "outputs": []
    },
    {
      "cell_type": "code",
      "metadata": {
        "id": "PrMJ9pXJgodF"
      },
      "source": [
        "from google.colab import drive\n",
        "drive.mount('/content/drive')"
      ],
      "execution_count": null,
      "outputs": []
    },
    {
      "cell_type": "markdown",
      "metadata": {
        "id": "9AymoHhSifb-"
      },
      "source": [
        "# 개요\n",
        "1. 데이터 셋 확인 - 대부분의 캐글 데이터들은 잘 정제되어 있음. 하지만 null data가 존재. 이를 확인하고, 향후 수정\n",
        "2. 탐색적 데이터 분석(exploratory data analysis) - 여러 feature 들을 개별적으로 분석하고, feature 들 간의 상관관계를 확인. 여러 시각화 툴을 사용하여 insight를 얻음\n",
        "3. feature engineering - 모델을 세우기에 앞서, 모델의 성능을 높일 수 있도록 feature 들을 engineering 함. one-hot encoding, class로 나누기, 구간으로 나누기, 텍스트 데이터 처리 등을 함\n",
        "4. model 만들기 - skearn을 사용해 모델을 만듦. 파이썬에서 머신러닝을 할 때는 sklearn을 사용하면 수많은 알고리즘을 일관된 문법으로 사용할 수 있음. 물론 딥러닝을 위해 tensorflow, pytorch 등을 사용할 수도 있음\n",
        "5. 모델 학습 및 예척 - trainset을 가지고 모델을 학습 시킨 후, testset을 가지고 prediction 함\n",
        "6. 모델 평가 -  예측 성능을 우너하는 수준인지 판단. 풀려는 문제에 따라 모델을 평가하는 방식도 달라짐. 학습된 모델이 어떤 것을 학습하였는지 확인"
      ]
    },
    {
      "cell_type": "markdown",
      "metadata": {
        "id": "q-c1SxPPjthQ"
      },
      "source": [
        "# 1. Dataset 확인\n",
        "\n",
        "\n",
        "*   파이썬에서 테이블화 된 데이터를 다루는 데 가장 최적화되어 있으며, 많이 쓰이는 라이브러리는 pandas\n",
        "*   우리는 pandas를 사용하여 데이터셋의 간단한 통계적 분석부터, 복잡한 처리들을 간단한 메소드를 사용\n",
        "*   파이썬으로 데이터 분석을 한다고 하면 반드시 능숙해져야할 라이브러리, 여러 커널들을 공부하면서 사용법에 익숙해지도록 반복!!\n",
        "*   캐글 데이터는 대부분 train, test로 나누어져 있음.\n",
        "\n"
      ]
    },
    {
      "cell_type": "code",
      "metadata": {
        "id": "v34hmoaRhtF8"
      },
      "source": [
        "df_train = pd.read_csv(\"/content/drive/My Drive/titanic/train.csv\")\n",
        "df_test = pd.read_csv(\"/content/drive/My Drive/titanic/test.csv\")"
      ],
      "execution_count": null,
      "outputs": []
    },
    {
      "cell_type": "code",
      "metadata": {
        "id": "2ChcEuZiiVPT"
      },
      "source": [
        "df_train"
      ],
      "execution_count": null,
      "outputs": []
    },
    {
      "cell_type": "markdown",
      "metadata": {
        "id": "jxM2vnG7ktQx"
      },
      "source": [
        "* feature : Pclass, Age, SibSp, Parch, Fare\n",
        "* target label : Survived"
      ]
    },
    {
      "cell_type": "code",
      "metadata": {
        "id": "9_6aHr4YiW8q"
      },
      "source": [
        "df_train.describe()"
      ],
      "execution_count": null,
      "outputs": []
    },
    {
      "cell_type": "code",
      "metadata": {
        "id": "IxdI6QtUkd0-"
      },
      "source": [
        "df_test.describe()"
      ],
      "execution_count": null,
      "outputs": []
    },
    {
      "cell_type": "markdown",
      "metadata": {
        "id": "O0EcCC7pk6yJ"
      },
      "source": [
        "## 1.1 Null data check"
      ]
    },
    {
      "cell_type": "code",
      "metadata": {
        "id": "hhhWuNs7kkys"
      },
      "source": [
        "for col in df_train.columns:\n",
        "  msg = \"column: {:>10}\\t Percent of NaN vlaue: {:.2f}%\".format(col, 100*(df_train[col].isnull().sum()/df_train[col].shape[0]))\n",
        "  print(msg)"
      ],
      "execution_count": null,
      "outputs": []
    },
    {
      "cell_type": "code",
      "metadata": {
        "id": "zvy4RC4xllBl"
      },
      "source": [
        "for col in df_test.columns:\n",
        "  msg = \"column: {:>10}\\t Percent of NaN vlaue: {:.2f}%\".format(col, 100*(df_test[col].isnull().sum()/df_test[col].shape[0]))\n",
        "  print(msg)"
      ],
      "execution_count": null,
      "outputs": []
    },
    {
      "cell_type": "markdown",
      "metadata": {
        "id": "D2BPp8bzl9NH"
      },
      "source": [
        "* Train, Test set 둘다 Age(약 20%), Cabin (약 80%), Embarked(Train만 0.22%), null data 존재\n",
        "* MSNO 라는 라이브러리를 사용하면 null data 존재 더 쉽게 확인 가능"
      ]
    },
    {
      "cell_type": "code",
      "metadata": {
        "id": "7xob55Etl1qP"
      },
      "source": [
        "msno.matrix(df=df_train.iloc[:,:], figsize=(8,8), color=(0.8, 0.5, 0.2));"
      ],
      "execution_count": null,
      "outputs": []
    },
    {
      "cell_type": "code",
      "metadata": {
        "id": "VbMwaRRDmV-9"
      },
      "source": [
        "msno.bar(df=df_train.iloc[:,:], figsize=(8,8), color=(0.8, 0.5, 0.2));"
      ],
      "execution_count": null,
      "outputs": []
    },
    {
      "cell_type": "code",
      "metadata": {
        "id": "Yd5Qq6pemV6P"
      },
      "source": [
        "msno.bar(df=df_test.iloc[:,:], figsize=(8,8), color=(0.8, 0.5, 0.2));"
      ],
      "execution_count": null,
      "outputs": []
    },
    {
      "cell_type": "markdown",
      "metadata": {
        "id": "UojbIiIcnKfj"
      },
      "source": [
        "## 1.2 Target label 확인\n",
        "\n",
        "* target lable이 어떤 distribution을 가지고 있는지 확인\n",
        "* 지금과 같은 binary classification 문제의 경우, 1가 0분포가 어떠냐에 따라 모델의 평가 방법이 달라 질 수 있음 "
      ]
    },
    {
      "cell_type": "code",
      "metadata": {
        "id": "3FUwegF-mV3o"
      },
      "source": [
        "f, ax = plt.subplots(1, 2, figsize=(18,8))\n",
        "\n",
        "df_train[\"Survived\"].value_counts().plot.pie(explode=[0,0.1], autopct=\"%1.1f%%\", ax=ax[0], shadow=True)\n",
        "ax[0].set_title(\"Pie plot - Survived\")\n",
        "ax[0].set_ylabel(\"\")\n",
        "\n",
        "sns.countplot(\"Survived\", data=df_train, ax=ax[1])\n",
        "ax[1].set_title(\"Count plot - Survived\")\n",
        "\n",
        "plt.show()"
      ],
      "execution_count": null,
      "outputs": []
    },
    {
      "cell_type": "markdown",
      "metadata": {
        "id": "VAk7pKMaxuze"
      },
      "source": [
        "* 생존자 38.4%\n",
        "* target label이 분포가 제법 균일함, 불균일한 경우, 예를 들어서 100중 1이 99, 0이 1개인 경우 만약 모델이 모든것을 1이라 해도 정확도가 99%가 나오게 됨. 0을 찾는 문제라면 이 모델은 원하는 결과를 줄 수 없게 됨."
      ]
    },
    {
      "cell_type": "markdown",
      "metadata": {
        "id": "KllqpFrhyHxD"
      },
      "source": [
        "# 2. EDA(Exploatory data analysis)\n",
        "\n",
        "* 본격적인 데이터 분석 시작. 적절한 시각화 필요\n",
        "* 시각화 라이브러리에는 matplotlib, seaborn, plotly 등이 있고 특정 목적에 맞는 소스코드를 정리해 두어 필요할 때마다 참고 하면 편함."
      ]
    },
    {
      "cell_type": "markdown",
      "metadata": {
        "id": "sqhh870Cyc5h"
      },
      "source": [
        "## 2.1 Pcalss\n",
        "\n",
        "* Pcalss는 ordinal, 서수형 데이터. 카테고리이면서, 순서가 있는 데이터 타입\n",
        "* Pcalss에 따른 생존률의 차이점 살펴볼 예정. 엑셀 피벗 차트와 유사한 작업. pandas dataframe에서는 groupby를 사용하면 쉽게 할 수 있음. pivot 이라는 메소드도 있음\n",
        "* \"Pclass\", \"Survived\" 를 가져온 후, Pclass로 묶음. 그러고 나면 각 pclass마다 0, 1이 count가 되는데 이를 평균 내면 각 pclass 별 생존률이 나옴\n",
        "* 아래와 같이 count()를 하게 되면 각 class에 몇명이 있는지 확인할 수 잇으며, sum()을 하면, 216 명중 생존한 (survived=1)사람의 총합을 주게 됨"
      ]
    },
    {
      "cell_type": "code",
      "metadata": {
        "id": "L9WvVvn6mV1P"
      },
      "source": [
        "df_train[[\"Pclass\", \"Survived\"]].groupby([\"Pclass\"], as_index=True).count()"
      ],
      "execution_count": null,
      "outputs": []
    },
    {
      "cell_type": "code",
      "metadata": {
        "id": "b05D5n-smVy0"
      },
      "source": [
        "df_train[[\"Pclass\", \"Survived\"]].groupby([\"Pclass\"], as_index=True).sum()"
      ],
      "execution_count": null,
      "outputs": []
    },
    {
      "cell_type": "code",
      "metadata": {
        "id": "7vt7CGXomVwe"
      },
      "source": [
        "# crosstab 사용\n",
        "pd.crosstab(df_train[\"Pclass\"], df_train[\"Survived\"], margins=True).style.background_gradient(cmap=\"summer_r\")"
      ],
      "execution_count": null,
      "outputs": []
    },
    {
      "cell_type": "markdown",
      "metadata": {
        "id": "iNthIVth0u6g"
      },
      "source": [
        "* grouped 객체에 mena()을 하게되면, 각 클래스별 생존률을 얻을 수 있음. \n",
        "* class 1이면 80 / (80+136) ≈ 0.63"
      ]
    },
    {
      "cell_type": "code",
      "metadata": {
        "id": "EjIGjqazmVt_"
      },
      "source": [
        "df_train[[\"Pclass\", \"Survived\"]].groupby([\"Pclass\"], as_index=True).mean().sort_values(by=\"Survived\", ascending=False).plot.bar();"
      ],
      "execution_count": null,
      "outputs": []
    },
    {
      "cell_type": "markdown",
      "metadata": {
        "id": "MaFviUF412Fk"
      },
      "source": [
        "* Pclass가 좋을수록 생존율은 높음\n",
        "* seaborn의 countplot을 이용하면, 특정 label에 따른 개수를 확인할 수 있음"
      ]
    },
    {
      "cell_type": "code",
      "metadata": {
        "id": "i9E_7WmnmVrh"
      },
      "source": [
        "y_position = 1.02\n",
        "\n",
        "f, ax = plt.subplots(1, 2, figsize=(18,8))\n",
        "df_train[\"Pclass\"].value_counts().plot.bar(color=['#CD7F32','#FFDF00','#D3D3D3'], ax=ax[0])\n",
        "ax[0].set_title(\"Number of Passengers By Pclass\", y=y_position)\n",
        "ax[0].set_ylabel(\"Count\")\n",
        "\n",
        "sns.countplot(\"Pclass\", hue=\"Survived\", data=df_train, ax=ax[1])\n",
        "ax[1].set_title(\"Pclass: Survived vs Dead\", y=y_position)\n",
        "\n",
        "plt.show()"
      ],
      "execution_count": null,
      "outputs": []
    },
    {
      "cell_type": "markdown",
      "metadata": {
        "id": "8mmc72Cg3UF0"
      },
      "source": [
        "* 클래스가 높을수록, 생존확률이 높은걸 확인할 수 있음\n",
        "* Pclass 1, 2, 3 순서대로 63%, 48%, 25% \n",
        "* Pclass가 생존에 가장 큰 영향을 미친다고 생각할 수 있으며, 나중에 모델을 세울 때 Pclass feature를 사용하는 것이 좋을 것이라 판단할 수 있음!"
      ]
    },
    {
      "cell_type": "markdown",
      "metadata": {
        "id": "zZ2HWZEoCH_U"
      },
      "source": [
        "## 2.2 Sex\n",
        "\n",
        "* 성별로 생존률 확인\n",
        "* pandas groupby, seaborn countplot을 사용하여 시각화"
      ]
    },
    {
      "cell_type": "code",
      "metadata": {
        "id": "wwWyIPXCmVpP"
      },
      "source": [
        "f, ax = plt.subplots(1, 2, figsize=(18,8))\n",
        "\n",
        "df_train[[\"Sex\", \"Survived\"]].groupby([\"Sex\"], as_index=True).mean().plot.bar(ax=ax[0])\n",
        "ax[0].set_title(\"Survived vs Sex\")\n",
        "\n",
        "sns.countplot(\"Sex\", hue=\"Survived\", data=df_train, ax=ax[1])\n",
        "ax[1].set_title(\"Sex: Survived vs Dead\")\n",
        "\n",
        "plt.show()"
      ],
      "execution_count": null,
      "outputs": []
    },
    {
      "cell_type": "code",
      "metadata": {
        "id": "us1kJw8nmVm6"
      },
      "source": [
        "df_train[[\"Sex\", \"Survived\"]].groupby([\"Sex\"], as_index=True).mean().sort_values(by=\"Survived\", ascending=False)"
      ],
      "execution_count": null,
      "outputs": []
    },
    {
      "cell_type": "code",
      "metadata": {
        "id": "VnY3Wq46mVkc"
      },
      "source": [
        "# crosstab\n",
        "pd.crosstab(df_train[\"Sex\"], df_train[\"Survived\"], margins=True).style.background_gradient(cmap=\"summer_r\")"
      ],
      "execution_count": null,
      "outputs": []
    },
    {
      "cell_type": "markdown",
      "metadata": {
        "id": "DuYyKAvEDljA"
      },
      "source": [
        "## 2.3 Both Sex and Pclass\n",
        "\n",
        "* Sex, Pclass 두가지에 관하여 생존이 어떻게 달라지는지 확인\n",
        "* seaborn의 factorplot을 이용하면, 손쉽게 3개의 차원으로 이루어진 그래프를 그릴수 있음"
      ]
    },
    {
      "cell_type": "code",
      "metadata": {
        "id": "vrfJNEf9mVh_"
      },
      "source": [
        "sns.factorplot(\"Pclass\", \"Survived\", hue=\"Sex\", data=df_train, size=6, aspect=1.5);"
      ],
      "execution_count": null,
      "outputs": []
    },
    {
      "cell_type": "markdown",
      "metadata": {
        "id": "Rjq_2GRJEChs"
      },
      "source": [
        "* 모든 클래스에 female이 살 확률이 male보다 높음\n",
        "* 또한, 남자, 여자 상관없이 클래스가 높을 수록 생존 확률 높음\n",
        "* hue 대신 column으로 하면 아래와 같이 나타남"
      ]
    },
    {
      "cell_type": "code",
      "metadata": {
        "id": "9VNLGadVmVf3"
      },
      "source": [
        "sns.factorplot(x=\"Sex\", y=\"Survived\", col=\"Pclass\", data=df_train, satureation=.5, size=9, aspect=1);"
      ],
      "execution_count": null,
      "outputs": []
    },
    {
      "cell_type": "markdown",
      "metadata": {
        "id": "8LVJXZO_Ejwe"
      },
      "source": [
        "## 2.4 Age"
      ]
    },
    {
      "cell_type": "code",
      "metadata": {
        "id": "jUEuE1dkmVdF"
      },
      "source": [
        "print(\"제일 나이가 많은 탑승객 : {:.1f} Years\".format(df_train[\"Age\"].max()))\n",
        "print(\"제일 나이가 어린 탑승객 : {:.1f} Years\".format(df_train[\"Age\"].min()))\n",
        "print(\"탑승객 평균 나이      : {:.1f} Years\".format(df_train[\"Age\"].mean()))"
      ],
      "execution_count": null,
      "outputs": []
    },
    {
      "cell_type": "markdown",
      "metadata": {
        "id": "R7hY6Kc2E_e6"
      },
      "source": [
        "* 생존에 따른 Age의 histogram"
      ]
    },
    {
      "cell_type": "code",
      "metadata": {
        "id": "uZfQpVoDmVaa"
      },
      "source": [
        "fig, ax = plt.subplots(1, 1, figsize=(12,5))\n",
        "\n",
        "sns.kdeplot(df_train[df_train[\"Survived\"] == 1][\"Age\"], ax=ax)\n",
        "sns.kdeplot(df_train[df_train[\"Survived\"] == 0][\"Age\"], ax=ax)\n",
        "\n",
        "plt.legend([\"Survived == 1\", \"Survived == 0\"])\n",
        "plt.show()"
      ],
      "execution_count": null,
      "outputs": []
    },
    {
      "cell_type": "markdown",
      "metadata": {
        "id": "mYD8A5IWFwER"
      },
      "source": [
        "* 생존자 중 나이가 어린 경우가 많음"
      ]
    },
    {
      "cell_type": "code",
      "metadata": {
        "id": "_a8mV0ltmVE3"
      },
      "source": [
        "# Age distribution withing classes\n",
        "plt.figure(figsize=(10, 6))\n",
        "df_train[\"Age\"][df_train[\"Pclass\"] == 1].plot(kind=\"kde\")\n",
        "df_train[\"Age\"][df_train[\"Pclass\"] == 2].plot(kind=\"kde\")\n",
        "df_train[\"Age\"][df_train[\"Pclass\"] == 3].plot(kind=\"kde\")\n",
        "\n",
        "plt.xlabel(\"Age\")\n",
        "plt.title(\"Age Distribution within classes\")\n",
        "plt.legend([\"1st Class\", \"2nd Class\", \"3rd Class\"])\n",
        "plt.show()"
      ],
      "execution_count": null,
      "outputs": []
    },
    {
      "cell_type": "markdown",
      "metadata": {
        "id": "TVRdJrCvGjGv"
      },
      "source": [
        "* class가 높을 수록 나이 많은 사람들의 생존률이 높아짐\n",
        "* 나이대가 변하면서 생존률이 어떻게 되는지 확인할 예정\n",
        "* 나이 범위를 점점 넓혀가며, 생존률이 어떻게 되는지 확인"
      ]
    },
    {
      "cell_type": "code",
      "metadata": {
        "id": "PBqpBmphDBMP"
      },
      "source": [
        "cummulate_survival_ratio = []\n",
        "\n",
        "for i in range(0, 80):\n",
        "  cummulate_survival_ratio.append(df_train[df_train[\"Age\"] < i][\"Survived\"].sum() / len(df_train[df_train[\"Age\"] < i][\"Survived\"]))\n",
        "\n",
        "plt.figure(figsize=(8,8))\n",
        "plt.plot(cummulate_survival_ratio)\n",
        "plt.title(\"Survival rate change depending on range of Age\", y=1.02)\n",
        "plt.ylabel(\"Survival rage\")\n",
        "plt.xlabel(\"Range of Age(0~x)\")\n",
        "plt.show()"
      ],
      "execution_count": null,
      "outputs": []
    },
    {
      "cell_type": "markdown",
      "metadata": {
        "id": "-0lFgdeUHm_Y"
      },
      "source": [
        "* 나이가 어릴 수록 생존률이 확실이 높음\n",
        "* 나이가 중요한 feature로 쓰일 수 있음을 확인!"
      ]
    },
    {
      "cell_type": "markdown",
      "metadata": {
        "id": "xwWetuAoHu4F"
      },
      "source": [
        "## 2.5 Pclass, Sex, Age\n",
        "\n",
        "* 지금까지 본 Sex, Pclass, Age, Survived 모두에 대해 볼 예정, 이를 쉽게 그려주는 것이 violinplot\n",
        "* x축은 우리가 나눠서 보고싶어하는 case(여기서는 Pclass, Sex), y축은 보고싶어하는 distribution(Age)"
      ]
    },
    {
      "cell_type": "code",
      "metadata": {
        "id": "bRFXaVjvDBJm"
      },
      "source": [
        "f, ax = plt.subplots(1, 2, figsize=(18,8))\n",
        "\n",
        "sns.violinplot(\"Pclass\", \"Age\", hue=\"Survived\", data=df_train, scale=\"count\", split=True, ax=ax[0])\n",
        "ax[0].set_title(\"Pclass and Age vs Survived\")\n",
        "ax[0].set_yticks(range(0, 110, 10))\n",
        "\n",
        "sns.violinplot(\"Sex\", \"Age\", hue=\"Survived\", data=df_train, scale=\"count\", split=True, ax=ax[1])\n",
        "ax[1].set_title(\"Sex and Age vs Survived\")\n",
        "ax[1].set_yticks(range(0, 110, 10))\n",
        "plt.show()"
      ],
      "execution_count": null,
      "outputs": []
    },
    {
      "cell_type": "markdown",
      "metadata": {
        "id": "FHVUlWSiJWQV"
      },
      "source": [
        "* 왼쪽 그림은 Pclass 별로 Age의 distribution이 어떻게 다른지, 거기에 생존여부에 따라 구분한 그래프\n",
        "* 오른쪽 그림도 Sex, 생존에 따른 distribution이 어떻게 다른지 보여주는 그래프\n",
        "* 생존만 봤을 떄, 모든 클래스에서 나가아 어릴 수록 생존을 많이 한 것을 볼 수 있음\n",
        "* 오른쪽 그림에서 보면, 명확히 여자가 생존을 많이 한 것을 볼 수 있음\n",
        "* 여성과 아이를 먼저 챙긴 것을 볼 수 있음"
      ]
    },
    {
      "cell_type": "markdown",
      "metadata": {
        "id": "-hm9dyTMKQK1"
      },
      "source": [
        "## 2.6 Embarked\n",
        "\n",
        "* Embarked는 탑승한 항구\n",
        "* 위에서 해왔던 것과 비슷하게 탑승한 곳에 따른 생존률 확인"
      ]
    },
    {
      "cell_type": "code",
      "metadata": {
        "id": "QAsIKNcZDBHl"
      },
      "source": [
        "f, ax = plt.subplots(1, 1, figsize=(7,7))\n",
        "df_train[[\"Embarked\", \"Survived\"]].groupby([\"Embarked\"], as_index=True).mean().sort_values(by=\"Survived\", ascending=False).plot.bar(ax=ax);"
      ],
      "execution_count": null,
      "outputs": []
    },
    {
      "cell_type": "markdown",
      "metadata": {
        "id": "iSn41NarK4-m"
      },
      "source": [
        "* 조금의 차이는 있지만 C가 생존률이 가장 높음\n",
        "* 모델에 얼마나 큰 영향을 미칠지는 모르겠지만, 그래도 사용\n",
        "* 모델을 만들고 나면 우리가 사용한 feature들이 얼마나 중요한 역할 을 했는지 확인해볼 수 있음. 이는 추후에 모델을 만들고 난 다음에 살펴볼 예정\n",
        "* 다른 feature로 split하여 살펴볼 예정"
      ]
    },
    {
      "cell_type": "code",
      "metadata": {
        "id": "sWVMoNxSDBEs"
      },
      "source": [
        "f, ax = plt.subplots(2, 2, figsize=(20,15))\n",
        "\n",
        "sns.countplot(\"Embarked\", data=df_train, ax=ax[0,0])\n",
        "ax[0,0].set_title(\"(1) No. Of Passengers Boarded\")\n",
        "\n",
        "sns.countplot(\"Embarked\", hue=\"Sex\", data=df_train, ax=ax[0,1])\n",
        "ax[0,1].set_title(\"(2) Male-Female Split for Embarked\")\n",
        "\n",
        "sns.countplot(\"Embarked\", hue=\"Survived\", data=df_train, ax=ax[1,0])\n",
        "ax[1,0].set_title(\"(3) Embarked vs Survived\")\n",
        "\n",
        "sns.countplot(\"Embarked\", hue=\"Pclass\", data=df_train, ax=ax[1,1])\n",
        "ax[1,1].set_title(\"(4) Embarked vs Pclass\")\n",
        "\n",
        "plt.subplots_adjust(wspace=0.2, hspace=0.5)\n",
        "plt.show()"
      ],
      "execution_count": null,
      "outputs": []
    },
    {
      "cell_type": "markdown",
      "metadata": {
        "id": "t03LaF9qNACX"
      },
      "source": [
        "* Figure(1) - 전체적으로 봤을 때, S에거 가장 많은 사람이 탑승\n",
        "* Figure(2) - C와 Q는 남여 비율이 비슷하고, S는 남자가 더 많음\n",
        "* Figure(3) - 생존확률이 S의 경우 많이 낮은 것을 볼 수 있음\n",
        "* Figure(4) - Class로 split 해서 보니, C가 생존확률이 높은건 클래스가 높은 사람이 많이 타서 그런 것을 확인, S는 3rd class가 많이서 생존확률이 낮게 나옴"
      ]
    },
    {
      "cell_type": "markdown",
      "metadata": {
        "id": "q6D_sFs7XOnw"
      },
      "source": [
        "## 2.7 Family - SibSP(형제, 자매) + Parch(부모, 자녀)\n",
        "\n",
        "* SibSp와 Parch를 합하면 Famlily"
      ]
    },
    {
      "cell_type": "code",
      "metadata": {
        "id": "6RVTq_RADBB-"
      },
      "source": [
        "df_train[\"FamilySize\"] = df_train[\"SibSp\"] + df_train[\"Parch\"] + 1 # 자신을 포함해야하니 1을 더함\n",
        "df_test[\"FamilySize\"] = df_test[\"SibSp\"] + df_test[\"Parch\"] + 1 # 자신을 포함해야하니 1을 더함"
      ],
      "execution_count": null,
      "outputs": []
    },
    {
      "cell_type": "code",
      "metadata": {
        "id": "izs4pYzEXb6w"
      },
      "source": [
        "print(\"Maximum size of Family: \", df_train[\"FamilySize\"].max())\n",
        "print(\"Minimum size of Family: \", df_train[\"FamilySize\"].min())"
      ],
      "execution_count": null,
      "outputs": []
    },
    {
      "cell_type": "markdown",
      "metadata": {
        "id": "5Evmr3SWYLcQ"
      },
      "source": [
        "* FamilySize와 생존의 관계"
      ]
    },
    {
      "cell_type": "code",
      "metadata": {
        "id": "evTyramIXb4O"
      },
      "source": [
        "f, ax = plt.subplots(1, 3, figsize=(40,10))\n",
        "\n",
        "sns.countplot(\"FamilySize\", data=df_train, ax=ax[0])\n",
        "ax[0].set_title(\"(1) No. Of Passengers Boarded\", y=1.02)\n",
        "\n",
        "sns.countplot(\"FamilySize\", hue=\"Survived\", data=df_train, ax=ax[1])\n",
        "ax[1].set_title(\"(2) Survived countplot depending on FamilySize\", y=1.02)\n",
        "\n",
        "df_train[[\"FamilySize\", \"Survived\"]].groupby([\"FamilySize\"], as_index=True).mean().sort_values(by=\"Survived\", ascending=False).plot.bar(ax=ax[2])\n",
        "ax[2].set_title(\"(3) Survived rate depending on Family Size\", y=1.02)\n",
        "\n",
        "plt.subplots_adjust(wspace=0.2, hspace=0.5)\n",
        "plt.show()"
      ],
      "execution_count": null,
      "outputs": []
    },
    {
      "cell_type": "markdown",
      "metadata": {
        "id": "0RgE39iQZaLc"
      },
      "source": [
        "* Figure (1) - 가족크기가 1~11까지 있음을 볼수 있음, 대부붙 1명이고 그 다음으로 2, 3, 4명 순\n",
        "* Figure (2), (3) - 가족크기에 따른 생존자 비교, 가족이 4명인 경우 가장 생존확률이 높음, 가족수가 많아질수록 (5,6,7,8,11) 생족확률이 낮아짐, 가족수가 너무 작거나 크면 생족확률이 작아짐. 3~4명이 생존확률이 높은 것을 확인할 수 있음"
      ]
    },
    {
      "cell_type": "markdown",
      "metadata": {
        "id": "CfZbZ5GLbFuC"
      },
      "source": [
        "## 2.8 Fare\n",
        "\n",
        "* Fare는 탑승요금, contious feature → histogram"
      ]
    },
    {
      "cell_type": "code",
      "metadata": {
        "id": "cCZuj9KzXb1f"
      },
      "source": [
        "f, ax = plt.subplots(1, 1, figsize=(8,8))\n",
        "\n",
        "g = sns.distplot(df_train[\"Fare\"], color=\"b\", label=\"Skewness : {:.2f}\".format(df_train[\"Fare\"].skew()), ax=ax)\n",
        "g = g.legend(loc=\"best\")"
      ],
      "execution_count": null,
      "outputs": []
    },
    {
      "cell_type": "markdown",
      "metadata": {
        "id": "phfRY78BdSn4"
      },
      "source": [
        "* distribution이 매우 비대칭적(high skewness), 만약 이대로 모델에 넣어준다면 모델이 잘못 학습할 수 있음, 몇개 없는 outlier에 대해서 너무 민감하게 반응한다면, 실제 예측 시에 좋지 못한 결과를 부를 수 있음\n",
        "* outlier의 영향을 줄이기 위해 Fare에 log를 취할 예정\n",
        "* pandas의 유용한 기능 사용\n",
        "* → dataframe의 특정 columns에 공통된 작업(함수)를 적용하고 싶으면 아래의 map, apply를 사용하면 쉽게 적용 가능\n",
        "### ※ 매우 유용한 기능이므로 필히 숙지!! \n",
        "* 지금 원하는 것은 Fare columns의 데이터 모두를 log 값 취하는 것, 파이썬의 간단한 lambda 함수를 이용해 간단한 로그를 적용하는 함수를 map에 인수로 넣어주면 Fare columns데이터에 그대로 적용이 됨.\n"
      ]
    },
    {
      "cell_type": "code",
      "metadata": {
        "id": "v7S1jghBXbwe"
      },
      "source": [
        "df_test.loc[df_test.Fare.isnull(), \"Fare\"] = df_test[\"Fare\"].mean() # test set에 있는 nan value를 평균값으로 치환\n",
        "\n",
        "df_train[\"Fare\"] = df_train[\"Fare\"].map(lambda i: np.log(i) if i>0 else 0)\n",
        "df_test[\"Fare\"] = df_test[\"Fare\"].map(lambda i: np.log(i) if i>0 else 0)"
      ],
      "execution_count": null,
      "outputs": []
    },
    {
      "cell_type": "code",
      "metadata": {
        "id": "0KpNrUUnXbt9"
      },
      "source": [
        "fig, ax = plt.subplots(1, 1, figsize=(8,8))\n",
        "g = sns.distplot(df_train[\"Fare\"], color=\"b\", label=\"Skewness {:.2f}\".format(df_train[\"Fare\"].skew()), ax=ax)\n",
        "g = g.legend(loc=\"Best\")"
      ],
      "execution_count": null,
      "outputs": []
    },
    {
      "cell_type": "markdown",
      "metadata": {
        "id": "SMTCQvdxfDTl"
      },
      "source": [
        "* log를 취하니 비대칭이 사라짐\n",
        "* 이런 작업을 통해 모델이 좀 더 좋은 성능을 내도록 할 수 있음\n",
        "* feature engineering에 들어가는 부분이지만 지금 해봄\n",
        "* 모델을 학습시키기 위해, 성능향상을 위해 feature 들에 여러 조작을 가하거나, 새로운 feature를 추가하는 것이 feature engineering이라고 함"
      ]
    },
    {
      "cell_type": "markdown",
      "metadata": {
        "id": "Mzd7V9tgfay5"
      },
      "source": [
        "## 2.9 Carbin\n",
        "\n",
        "* NaN이 대략 80%이므로, 생존에 영향을 미칠 중요한 정보를 얻어내기가 쉽지 않음 → 모델에 포함시키지 않는다"
      ]
    },
    {
      "cell_type": "code",
      "metadata": {
        "id": "94HFbuy1XbrV"
      },
      "source": [
        "df_train.head()"
      ],
      "execution_count": null,
      "outputs": []
    },
    {
      "cell_type": "markdown",
      "metadata": {
        "id": "ePl8CTvtf1DA"
      },
      "source": [
        "## 2.10 Ticket - 추후 분석\n",
        "\n",
        "* string data"
      ]
    },
    {
      "cell_type": "code",
      "metadata": {
        "id": "vv2Zjl9MXbpA"
      },
      "source": [
        "df_train['Ticket'].value_counts()"
      ],
      "execution_count": null,
      "outputs": []
    },
    {
      "cell_type": "markdown",
      "metadata": {
        "id": "bTS2QXApf-TQ"
      },
      "source": [
        "* 매우 다양함 → 어떤 특징을 이끌어 내어 생존과 연결시킬 지 고민해봐야함\n",
        "* 일단 여기서는 넘기고 모델 성능을 향상 시키기 위해 검토해보는 것으로 ..."
      ]
    },
    {
      "cell_type": "markdown",
      "metadata": {
        "id": "Trqqcaplj6dB"
      },
      "source": [
        "# 3. Feature engineering\n",
        "\n",
        "* 본격적인 feature engineering\n",
        "* 가장 먼저 data set에 존재하는 null data 채움\n",
        "* null data를 포함하는 feature의 statistics를 참고하거나, 다른 아이디어를 통해 채울 수 있음\n",
        "* null data를 어떻게 채우냐에 따라 모델의 성능이 좌지우지될 수 있기 때문에 **신경써야함**\n",
        "* Featrue engineering은 실제 모델의 학습에 쓰려고 하는 것이므로 train, test 둘다 적용!!"
      ]
    },
    {
      "cell_type": "markdown",
      "metadata": {
        "id": "FTu3NpNqnfyL"
      },
      "source": [
        "## 3.1 Fill Null"
      ]
    },
    {
      "cell_type": "markdown",
      "metadata": {
        "id": "Cjd7O9Bjnkjq"
      },
      "source": [
        "### 3.1.1 Fill null in Age using title\n",
        "\n",
        "* Age에는 null data 가 177개 존재, 이를 채울 아이디어 중 title + statistics를 사용\n",
        "* 영어에서는 Miss, Mrr, Mrs 같은 title이 존재, 각 탑승객 이름에 title이 존재하므로 이를 사용\n",
        "* pandas series에는 data를 string으로 바꿔주는 str method, 거기에는 정규식을 적용하게 해주는 extract method가 있음, 이를 사용하여 title을 쉽게 추출할 수 있음, title을 Initial column에 저장 할 예정"
      ]
    },
    {
      "cell_type": "code",
      "metadata": {
        "id": "RdQn17TZXbmo"
      },
      "source": [
        "df_train[\"Initial\"] = df_train.Name.str.extract(\"([A-Za-z]+)\\.\") # lets extract the Salutation\n",
        "df_test[\"Initial\"] = df_test.Name.str.extract(\"([A-Za-z]+)\\.\") # lets extract the Salutation"
      ],
      "execution_count": null,
      "outputs": []
    },
    {
      "cell_type": "markdown",
      "metadata": {
        "id": "Ic1dLVTnomwN"
      },
      "source": [
        "* pandas의 crosstab을 이용하여 추출한 Initial과 Sex 간의 count 확인"
      ]
    },
    {
      "cell_type": "code",
      "metadata": {
        "id": "airFAyAnXbkR"
      },
      "source": [
        "pd.crosstab(df_train[\"Initial\"], df_train[\"Sex\"]).T.style.background_gradient(cmap=\"summer_r\") # Checking the Initials with the Sex"
      ],
      "execution_count": null,
      "outputs": []
    },
    {
      "cell_type": "markdown",
      "metadata": {
        "id": "E6pnKHVPpccW"
      },
      "source": [
        "* 위 table을 참고하여 남자, 여자가 쓰는 initail을 구분 → replace 메소드를 사용하면, 특정 데이터 값을 원하는 값으로 치환"
      ]
    },
    {
      "cell_type": "code",
      "metadata": {
        "id": "4lBwo4_5Xbh4"
      },
      "source": [
        "df_train['Initial'].replace(['Mlle','Mme','Ms','Dr','Major','Lady','Countess','Jonkheer','Col','Rev','Capt','Sir','Don', 'Dona'],\n",
        "                            ['Miss','Miss','Miss','Mr','Mr','Mrs','Mrs','Other','Other','Other','Mr','Mr','Mr', 'Mr'],inplace=True)\n",
        "\n",
        "df_test['Initial'].replace(['Mlle','Mme','Ms','Dr','Major','Lady','Countess','Jonkheer','Col','Rev','Capt','Sir','Don', 'Dona'],\n",
        "                           ['Miss','Miss','Miss','Mr','Mr','Mrs','Mrs','Other','Other','Other','Mr','Mr','Mr', 'Mr'],inplace=True)"
      ],
      "execution_count": null,
      "outputs": []
    },
    {
      "cell_type": "code",
      "metadata": {
        "id": "cfmhrGXLXbes"
      },
      "source": [
        "df_train.groupby(\"Initial\").mean()"
      ],
      "execution_count": null,
      "outputs": []
    },
    {
      "cell_type": "markdown",
      "metadata": {
        "id": "NuU8nFxYqCt4"
      },
      "source": [
        "* 여성과 관계있는 Miss, Mr, Mrs가 생존확률이 높은 것\n"
      ]
    },
    {
      "cell_type": "code",
      "metadata": {
        "id": "S1x7-ipbXbba"
      },
      "source": [
        "df_train.groupby(\"Initial\")[\"Survived\"].mean().plot.bar();"
      ],
      "execution_count": null,
      "outputs": []
    },
    {
      "cell_type": "markdown",
      "metadata": {
        "id": "i28ceu99qXbc"
      },
      "source": [
        "* null data를 채우는 방법 다양함. statistics를 활용하는 방법, null data가 ㅇ벗는 데이터를 기반으로 새로운 머신러닝 알고리즘을 ㅁ나들어 예측해서 채워넣는 방식 등 다양함. 여기서는 ***statistics를 활용한 방법을 사용***\n",
        "* statistics는 여기서 train data의 것을 의미.\n",
        "* test를 unseen으로 둔 상태로 놔둬야 하며, train에서 얻은 statistics를 기반으로 test의 null data를 채워줘야 함!"
      ]
    },
    {
      "cell_type": "code",
      "metadata": {
        "id": "gHONPSPNXbY8"
      },
      "source": [
        "df_train.groupby(\"Initial\").mean()"
      ],
      "execution_count": null,
      "outputs": []
    },
    {
      "cell_type": "markdown",
      "metadata": {
        "id": "9PYNJYpirEtQ"
      },
      "source": [
        "* Age의 평균을 이용해 Null value 채울 예정\n",
        "* pandas dataframe을 다룰 때에는 boolean array를 이용해 indexing하는 방법이 편리함!\n",
        "* 아래 코드 첫출을 해적하자면 isnull()이면서 Initial이 Mr인 조건을 만족하는 row(탑승객)의 \"Age\"의 값을 33으로 치환한다는 의미\n",
        "#### ※ 매우 유용한 기능이므로 필히 숙지!!\n",
        "****loc + boolean + column을 사용해 값을 치환하는 방법***"
      ]
    },
    {
      "cell_type": "code",
      "metadata": {
        "id": "eNDviPunXbWg"
      },
      "source": [
        "df_train.loc[(df_train.Age.isnull())&(df_train.Initial==\"Mr\"), \"Age\"] = 33\n",
        "df_train.loc[(df_train.Age.isnull())&(df_train.Initial==\"Master\"), \"Age\"] = 5\n",
        "df_train.loc[(df_train.Age.isnull())&(df_train.Initial==\"Miss\"), \"Age\"] = 22\n",
        "df_train.loc[(df_train.Age.isnull())&(df_train.Initial==\"Mrs\"), \"Age\"] = 36\n",
        "df_train.loc[(df_train.Age.isnull())&(df_train.Initial==\"Other\"), \"Age\"] = 46\n",
        "\n",
        "df_test.loc[(df_test.Age.isnull())&(df_test.Initial==\"Mr\"), \"Age\"] = 33\n",
        "df_test.loc[(df_test.Age.isnull())&(df_test.Initial==\"Master\"), \"Age\"] = 5\n",
        "df_test.loc[(df_test.Age.isnull())&(df_test.Initial==\"Miss\"), \"Age\"] = 22\n",
        "df_test.loc[(df_test.Age.isnull())&(df_test.Initial==\"Mrs\"), \"Age\"] = 36\n",
        "df_test.loc[(df_test.Age.isnull())&(df_test.Initial==\"Other\"), \"Age\"] = 46"
      ],
      "execution_count": null,
      "outputs": []
    },
    {
      "cell_type": "markdown",
      "metadata": {
        "id": "Ale431bztTcO"
      },
      "source": [
        "* 간단하게 Null을 채웠지만 다양한 방법이 존재 \n",
        "* 참고자료 : https://www.kaggle.com/yassineghouzam/titanic-top-4-with-ensemble-modeling"
      ]
    },
    {
      "cell_type": "markdown",
      "metadata": {
        "id": "6xfymfMxtebi"
      },
      "source": [
        "### 3.1.2 Fill Null in Embarked"
      ]
    },
    {
      "cell_type": "code",
      "metadata": {
        "id": "Bk11qr7SXbUD"
      },
      "source": [
        "print(\"Embarked has\", sum(df_train[\"Embarked\"].isna()), \"Null values\")"
      ],
      "execution_count": null,
      "outputs": []
    },
    {
      "cell_type": "markdown",
      "metadata": {
        "id": "Ua6LeS02t3kl"
      },
      "source": [
        "* Embarked는 Null value가 2개, S에가 가장 많은 탑승 인원이 있었으므로 S로 간단하게 채움\n",
        "* dataframe의 fillna method를 이용하면 쉽게 채울 수 있음\n",
        "* inplace=True로 하면 실제 적용"
      ]
    },
    {
      "cell_type": "code",
      "metadata": {
        "id": "FCGyg2_AtzSb"
      },
      "source": [
        "df_train[\"Embarked\"].fillna(\"S\", inplace=True)"
      ],
      "execution_count": null,
      "outputs": []
    },
    {
      "cell_type": "markdown",
      "metadata": {
        "id": "KplGVeOruV4s"
      },
      "source": [
        "## 3.2 Change Age(continuos to categoricla)"
      ]
    },
    {
      "cell_type": "markdown",
      "metadata": {
        "id": "ZROEADhD0oz5"
      },
      "source": [
        "* Age는 현재 continuous feature, 이대로 써도 모델을 세울 수 있지만 Age를 몇개의 group으로 나누어 category화 시켜 줄수도 있음. continuous를 categorical로 바꿔주면 information loss가 생길수 있지만 이번에는 다양한 방법으로 진행하는 것이 목적이기 때문에 그래도 진행할 예정\n",
        "\n",
        "* 방법은 여러가지, dataframe의 indexing 방법인 loc를 사용하여 직접해줄 수 있고, apply를 사용해 함수를 넣어줄 수 있음\n",
        "### ※ 매우 요용한 기능이므로 필히 숙지!!\n",
        "* loc, loc는 자주 쓰게 되므로 사용법 숙지하면 좋음!!\n",
        "* 나이는 10살 간격으로 나눔"
      ]
    },
    {
      "cell_type": "code",
      "metadata": {
        "id": "DWY9Dex6XbRk"
      },
      "source": [
        "df_train[\"Age_cat\"] = 0\n",
        "df_train.loc[df_train[\"Age\"] < 10, \"Age_cat\"] = 0\n",
        "df_train.loc[(10 <= df_train[\"Age\"]) & (df_train[\"Age\"] < 20), \"Age_cat\"] = 1\n",
        "df_train.loc[(20 <= df_train[\"Age\"]) & (df_train[\"Age\"] < 30), \"Age_cat\"] = 2\n",
        "df_train.loc[(30 <= df_train[\"Age\"]) & (df_train[\"Age\"] < 40), \"Age_cat\"] = 3\n",
        "df_train.loc[(40 <= df_train[\"Age\"]) & (df_train[\"Age\"] < 50), \"Age_cat\"] = 4\n",
        "df_train.loc[(50 <= df_train[\"Age\"]) & (df_train[\"Age\"] < 60), \"Age_cat\"] = 5\n",
        "df_train.loc[(60 <= df_train[\"Age\"]) & (df_train[\"Age\"] < 70), \"Age_cat\"] = 6\n",
        "df_train.loc[70 <= df_train[\"Age\"], \"Age_cat\"] = 7\n",
        "\n",
        "df_test[\"Age_cat\"] = 0\n",
        "df_test.loc[df_test[\"Age\"] < 10, \"Age_cat\"] = 0\n",
        "df_test.loc[(10 <= df_test[\"Age\"]) & (df_test[\"Age\"] < 20), \"Age_cat\"] = 1\n",
        "df_test.loc[(20 <= df_test[\"Age\"]) & (df_test[\"Age\"] < 30), \"Age_cat\"] = 2\n",
        "df_test.loc[(30 <= df_test[\"Age\"]) & (df_test[\"Age\"] < 40), \"Age_cat\"] = 3\n",
        "df_test.loc[(40 <= df_test[\"Age\"]) & (df_test[\"Age\"] < 50), \"Age_cat\"] = 4\n",
        "df_test.loc[(50 <= df_test[\"Age\"]) & (df_test[\"Age\"] < 60), \"Age_cat\"] = 5\n",
        "df_test.loc[(60 <= df_test[\"Age\"]) & (df_test[\"Age\"] < 70), \"Age_cat\"] = 6\n",
        "df_test.loc[70 <= df_test[\"Age\"], \"Age_cat\"] = 7"
      ],
      "execution_count": null,
      "outputs": []
    },
    {
      "cell_type": "code",
      "metadata": {
        "id": "Zq3KrfG2XbOs"
      },
      "source": [
        "def category_age(x):\n",
        "  if x < 10:\n",
        "    return 0 \n",
        "  elif x < 20:\n",
        "    return 1\n",
        "  elif x < 30:\n",
        "    return 2\n",
        "  elif x < 40:\n",
        "    return 3\n",
        "  elif x < 50:\n",
        "    return 4\n",
        "  elif x < 60:\n",
        "    return 5\n",
        "  elif x < 70:\n",
        "    return 6\n",
        "  else:\n",
        "    return 7\n",
        "\n",
        "df_train[\"Age_cat_2\"] = df_train[\"Age\"].apply(category_age)"
      ],
      "execution_count": null,
      "outputs": []
    },
    {
      "cell_type": "markdown",
      "metadata": {
        "id": "veCaz7Zb3Xlx"
      },
      "source": [
        "* 두가지 방법이 잘 적용되었다면 둘다 같은 결과 !\n",
        "* 이를 확인하기 위해 Series간 boolean 비교 후 all() 메소드를 사용.\n",
        "* all() 메소드는 모든 값이 True 면 True, 하나라도 False가 있으면 False"
      ]
    },
    {
      "cell_type": "code",
      "metadata": {
        "id": "SfnZBKeAXbJ2"
      },
      "source": [
        "print(\"1번 방법, 2번 방법 둘다 같은 결과를 내면 True 줘야함 →\", (df_train[\"Age_cat\"] == df_train[\"Age_cat_2\"]).all())"
      ],
      "execution_count": null,
      "outputs": []
    },
    {
      "cell_type": "markdown",
      "metadata": {
        "id": "BkT86h3w38aO"
      },
      "source": [
        "* True!!\n",
        "* 중복되는 Age_cat 컬럼괌 원래 컬럼 Age 제거"
      ]
    },
    {
      "cell_type": "code",
      "metadata": {
        "id": "9hLLzV0ODA_t"
      },
      "source": [
        "df_train.drop([\"Age\", \"Age_cat_2\"], axis=1, inplace=True)\n",
        "df_test.drop([\"Age\"], axis=1, inplace=True)"
      ],
      "execution_count": null,
      "outputs": []
    },
    {
      "cell_type": "markdown",
      "metadata": {
        "id": "YW9CHu0V4T1p"
      },
      "source": [
        "## 3.3 Change Initial, Embarked and Sex (string to numerical)\n",
        "\n",
        "* 현재 Initial은 Mr, Mrs, Miss, Master, Other 총 5개로\n",
        "* 카테고리로 표현되어 있는 데이터를 모델에 입력시키기 위해 컴퓨터가 인식할수 있도록 수치화 시켜줘야함\n",
        "\n",
        "* map method를 가지고 간단히 할 수 있음\n",
        "* 사전 순서대로 정리하여 mapping"
      ]
    },
    {
      "cell_type": "code",
      "metadata": {
        "id": "g5UbcggoDA9P"
      },
      "source": [
        "df_train[\"Initial\"] = df_train[\"Initial\"].map({\"Master\":0, \"Miss\":1, \"Mr\":2, \"Mrs\":3, \"Other\":4})\n",
        "df_test[\"Initial\"] = df_test[\"Initial\"].map({\"Master\":0, \"Miss\":1, \"Mr\":2, \"Mrs\":3, \"Other\":4})"
      ],
      "execution_count": null,
      "outputs": []
    },
    {
      "cell_type": "markdown",
      "metadata": {
        "id": "1p2DcWe_5edA"
      },
      "source": [
        "* Embarked에도 C, Q, S로 이루어져 있음, map을 이용해 변경\n",
        "* 특정 컬럼에 어떤 값들이 있는지 확인, unique(), value_counts()"
      ]
    },
    {
      "cell_type": "code",
      "metadata": {
        "id": "VO6a7zQ0DA6e"
      },
      "source": [
        "df_train[\"Embarked\"].unique()"
      ],
      "execution_count": null,
      "outputs": []
    },
    {
      "cell_type": "code",
      "metadata": {
        "id": "i5wVxquV5uhC"
      },
      "source": [
        "df_train[\"Embarked\"].value_counts()"
      ],
      "execution_count": null,
      "outputs": []
    },
    {
      "cell_type": "code",
      "metadata": {
        "id": "-jMaqIct5ucy"
      },
      "source": [
        "df_train[\"Embarked\"] = df_train[\"Embarked\"].map({\"C\":0, \"Q\":1, \"S\":2})\n",
        "df_test[\"Embarked\"] = df_test[\"Embarked\"].map({\"C\":0, \"Q\":1, \"S\":2})"
      ],
      "execution_count": null,
      "outputs": []
    },
    {
      "cell_type": "markdown",
      "metadata": {
        "id": "4EudcRBe6MJZ"
      },
      "source": [
        "* Null 값 확인\n",
        "* Series 값들이 null인지 아닌지 확인 → any()"
      ]
    },
    {
      "cell_type": "code",
      "metadata": {
        "id": "H609_--75uYx"
      },
      "source": [
        "df_train[\"Embarked\"].isna().any()"
      ],
      "execution_count": null,
      "outputs": []
    },
    {
      "cell_type": "code",
      "metadata": {
        "id": "AZs_b7D95uU9"
      },
      "source": [
        "df_train['Sex'] = df_train['Sex'].map({'female': 0, 'male': 1})\n",
        "df_test['Sex'] = df_test['Sex'].map({'female': 0, 'male': 1})"
      ],
      "execution_count": null,
      "outputs": []
    },
    {
      "cell_type": "markdown",
      "metadata": {
        "id": "uUg1lFU56iRX"
      },
      "source": [
        "* 각 feature 간의 상관관계 확인\n",
        "* 두 변수간의 Pearson corrlation을 구하면 (-1, 1)사이의 값을 얻을 수 있음\n",
        "* -1로 갈수록 음의 상관관계, 1로 갈수록 양의 상관관계 의미, 0은 상관관계가 없다는 의미\n",
        "* rxy=Cov(x,y)SxSy=1n−1∑ni=1(xi−x¯)(yi−y¯)SxSy\n",
        "* 여러 feature를 matrix형태로 확인 → heatmap plot"
      ]
    },
    {
      "cell_type": "code",
      "metadata": {
        "id": "x4elrEyL5uRC"
      },
      "source": [
        "heatmap_data = df_train[[\"Survived\", \"Pclass\", \"Sex\", \"Fare\", \"Embarked\", \"FamilySize\", \"Initial\", \"Age_cat\"]]\n",
        "\n",
        "colormap = plt.cm.RdBu\n",
        "plt.figure(figsize=(14,12))\n",
        "plt.title(\"Pearson Correlation of Features\", y=1.05, size=15)\n",
        "sns.heatmap(heatmap_data.astype(float).corr(), linewidths=0.1, vmax=1.0, square=True, cmap=colormap,\n",
        "            linecolor=\"white\", annot=True, annot_kws={\"size\":16})\n",
        "\n",
        "del heatmap_data"
      ],
      "execution_count": null,
      "outputs": []
    },
    {
      "cell_type": "markdown",
      "metadata": {
        "id": "QZn2IqTr8Rjx"
      },
      "source": [
        "* EDA에서 살펴봤듯이, Sex, Pclass가 Survived에 상관관계가 어느정도 있음을 볼 수 있음\n",
        "* 생각보다 fare와 Embarked도 상관관계가 있음을 알 수 있음\n",
        "* 여기서 얻을 수 있는 정보는 서로 강한 상관관계를 가지는 feature들이 없다는 점\n",
        "* 모델을 학습시킬 때, 불필요한(redundant, superfluous) feature 가 없다는 것을 의미, 1 또는 -1 의 상관관계를 가진 feature A, B 가 있다면, 우리가 얻을 수 있는 정보는 사실 하나\n",
        "* 실제 모델을 학습시키기 앞서서 data preprocessing(전처리) 진행!"
      ]
    },
    {
      "cell_type": "markdown",
      "metadata": {
        "id": "Zz_mVaE884hn"
      },
      "source": [
        "## 3.4 One-Hot encoding on Initial and Embarked\n",
        "\n",
        "* 수치화시킨 카테고리 데이터를 그대로 넣어도 되지만, 모델의 성능을 높이기 위해 one-hot encoding을 할 수 있음\n",
        "* 수치화는 간단히 Master == 0, Miss == 1, Mr == 2, Mrs == 3, Other == 4 로 매핑해주는 것\n",
        "* One-hot encoding 은 위 카테고리를 아래와 같이 (0, 1) 로 이루어진 5차원의 벡터로 나타내는 것\n",
        "* pandas의 get_dummies를 사용하면 쉽게 해결할 수 있음\n",
        "* 총 5개의 카테고리, one-hot encoding을 하고 나면 5개 컬럼 생성\n",
        "* Initial을 prefix로 두어서 구분이 쉽게 만들어 줌"
      ]
    },
    {
      "cell_type": "code",
      "metadata": {
        "id": "k1ttEAvL5uLM"
      },
      "source": [
        "df_train = pd.get_dummies(df_train, columns=[\"Initial\"], prefix=\"Initial\")\n",
        "df_test = pd.get_dummies(df_test, columns=[\"Initial\"], prefix=\"Initial\")"
      ],
      "execution_count": null,
      "outputs": []
    },
    {
      "cell_type": "code",
      "metadata": {
        "id": "-L9JNQZc5uHD"
      },
      "source": [
        "df_train.head()"
      ],
      "execution_count": null,
      "outputs": []
    },
    {
      "cell_type": "code",
      "metadata": {
        "id": "3uTm4FoB5uDR"
      },
      "source": [
        "df_train = pd.get_dummies(df_train, columns=['Embarked'], prefix='Embarked')\n",
        "df_test = pd.get_dummies(df_test, columns=['Embarked'], prefix='Embarked')"
      ],
      "execution_count": null,
      "outputs": []
    },
    {
      "cell_type": "markdown",
      "metadata": {
        "id": "87QobkET94mi"
      },
      "source": [
        "* sklearn의 Labelencoder + OnHotencoder 이용해도 가능\n",
        "* 가끔 카테고리가 100개가 넘는 경우도 있는데 이때는 다른 방법 사용"
      ]
    },
    {
      "cell_type": "markdown",
      "metadata": {
        "id": "ki8ctsc9-JZS"
      },
      "source": [
        "## 3.5 Drop Columns"
      ]
    },
    {
      "cell_type": "code",
      "metadata": {
        "id": "QyTJuowl5t_h"
      },
      "source": [
        "df_train.drop(['PassengerId', 'Name', 'SibSp', 'Parch', 'Ticket', 'Cabin'], axis=1, inplace=True)\n",
        "df_test.drop(['PassengerId', 'Name',  'SibSp', 'Parch', 'Ticket', 'Cabin'], axis=1, inplace=True)"
      ],
      "execution_count": null,
      "outputs": []
    },
    {
      "cell_type": "code",
      "metadata": {
        "id": "VuoPCVYP5t72"
      },
      "source": [
        "df_train.head()"
      ],
      "execution_count": null,
      "outputs": []
    },
    {
      "cell_type": "code",
      "metadata": {
        "id": "YinDnZqV5t4L"
      },
      "source": [
        "df_train.head()"
      ],
      "execution_count": null,
      "outputs": []
    },
    {
      "cell_type": "markdown",
      "metadata": {
        "id": "du7bIViM-a4D"
      },
      "source": [
        "# 4. Building machin learing model and prediction using the traind model"
      ]
    },
    {
      "cell_type": "code",
      "metadata": {
        "id": "Jrt_T1vY5tzb"
      },
      "source": [
        "# importing all the required ML packages\n",
        "from sklearn.ensemble import RandomForestClassifier # 유명한 randomforestclassfier\n",
        "from sklearn import metrics # 모델의 평가\n",
        "from sklearn.model_selection import train_test_split # traning set을 쉽게 나눠주는 함수"
      ],
      "execution_count": null,
      "outputs": []
    },
    {
      "cell_type": "markdown",
      "metadata": {
        "id": "qHFqL5Kw-tno"
      },
      "source": [
        "### 매우 중요!! 숙지 필수 !!!\n",
        "* Sklearn은 머신러닝 처음부터 끝까지 다 있음\n",
        "* feature engineering, preprocessing, 지도학습 알고리즘, 비지도학습 알고리즘, 모델평가, 파이프라인 등 머신러닝에 관련된 모든 작업들이 손쉬운 인터페이스로 구현, 데이터 분석 + 머신러닝을 하고 싶다면 반드시 숙지!!\n",
        "\n",
        "* 파이썬 라이브러리를 활용한 머신러닝(Introduction to machine larning with Python)책을 사서 공부하시길 매우 추천\n",
        "\n",
        "* 타이타익 문제는 target class(Survived)가 있으면, target class는 0,1로 이루어져 있으므로 binary classification 문제\n",
        "* train set의 survived를 제외한 input을 가지고 모델을 최적화 시켜서 각 샘플(탑승객)의 생존유무를 판단하는 모델을 만들어 냄\n",
        "* 그 후 모델이 학습하지 않았던 test set을 input으로 주어서 test set의 각 샘플(탑승객)의 생존 유무를 예측"
      ]
    },
    {
      "cell_type": "markdown",
      "metadata": {
        "id": "NQC6BVkj_p1R"
      },
      "source": [
        "## 4.1 Preparation - Split dataset into train, valid, test set"
      ]
    },
    {
      "cell_type": "markdown",
      "metadata": {
        "id": "Ks28gnRD_x7e"
      },
      "source": [
        "* 가장 먼저 학습 데이터, target label 분리"
      ]
    },
    {
      "cell_type": "code",
      "metadata": {
        "id": "NXZzIVLZ5tuU"
      },
      "source": [
        "X_train = df_train.drop(\"Survived\", axis=1).values\n",
        "target_label = df_train[\"Survived\"].values\n",
        "X_test = df_test.values"
      ],
      "execution_count": null,
      "outputs": []
    },
    {
      "cell_type": "markdown",
      "metadata": {
        "id": "YFfaBAZnAN7p"
      },
      "source": [
        "* train, test 뿐만 아니라 좋은 모델을 만들기 위해 valid set 추가로 생성\n",
        "* train_test_split 사용"
      ]
    },
    {
      "cell_type": "code",
      "metadata": {
        "id": "Et05WIzJ5tqh"
      },
      "source": [
        "X_tr, X_vld, y_tr, y_vld = train_test_split(X_train, target_label, test_size=0.3, random_state=2018)"
      ],
      "execution_count": null,
      "outputs": []
    },
    {
      "cell_type": "markdown",
      "metadata": {
        "id": "mphz2f1PAgTZ"
      },
      "source": [
        "* sklearn 에서는 여러 머신러닝 알고리즘을 지원\n",
        "* 참조 : http://scikit-learn.org/stable/supervised_learning.html#supervised-learning\n",
        "* 랜덤포레스트 모델 사용\n",
        "* 랜덤포레스트는 결정트리기반 모델, 여러 결정 트리들을 앙상블한 모델\n",
        "* 알고리즘에는 여러 파라미터들 존재. 랜덤포레스트분류기도 n_estimators, max_features, max_depth, min_samples_split, min_samples_leaf 등 여러 파라미터들이 존재. 이것들이 어떻게 세팅되냐에 따라 같은 데이터셋이라 하더라도 모델의 성능이 달라짐.\n",
        "* 파라미터 튜닝은 시간, 경험, 알고리즘에 대한 이해 등이 필요. 결국 많이 써봐야 모델도 잘 세울 수 있음. 여러 데이터셋을 가지고 모델을 이리저리 써봐야 튜닝하는 감이 생길 수 있음\n",
        "* 모델 객체를 만들고, fit 메소드로 학습\n",
        "* 그런 후 valid set input 을 넣어주어 예측값(X_vld sample(탑승객)의 생존여부)를 얻움"
      ]
    },
    {
      "cell_type": "markdown",
      "metadata": {
        "id": "7WSS8fqyBE9d"
      },
      "source": [
        "## 4.2 Model generation and prediction"
      ]
    },
    {
      "cell_type": "code",
      "metadata": {
        "id": "HE1k2POs5tm1"
      },
      "source": [
        "model = RandomForestClassifier()\n",
        "model.fit(X_tr, y_tr)\n",
        "prediction = model.predict(X_vld)"
      ],
      "execution_count": null,
      "outputs": []
    },
    {
      "cell_type": "markdown",
      "metadata": {
        "id": "T8KVBjIMBU2w"
      },
      "source": [
        "* 모델 생성 및 예측까지 "
      ]
    },
    {
      "cell_type": "code",
      "metadata": {
        "id": "vMTgWPxR5ti5"
      },
      "source": [
        "print(\"총 {}명 중 {:.2f}% 정확도로 생존을 맞춤\".format(y_vld.shape[0], 100*metrics.accuracy_score(prediction, y_vld)))"
      ],
      "execution_count": null,
      "outputs": []
    },
    {
      "cell_type": "markdown",
      "metadata": {
        "id": "gDSCDR6cBzts"
      },
      "source": [
        "## 4.3 Feature importance\n",
        "\n",
        "* 학습된 모델을 feature importance를 가짐, 방금 만든 모델이 어떤 feature에 영향을 많이 받았는지 확인할 수 있음\n",
        "\n",
        "* 쉽게 말해 10 = 4x1 + 2x2 + 1x3을 생각하면 x1이 결과값(10)에 큰영향을 준다고 생각할 수 있음. feature importance는 4, 2, 1을 이야기하며, x1이 가장 큰 값(4)를 가지므로, 이 모델에 가장 큰영향을 미친다고 할 수 있음\n",
        "\n",
        "* 학습된 모델은 기본적으로 featureimportance를 가지고 있어서 쉽게 수치를 얻을 수 있음\n",
        "* pandas series를 이요하면 쉽게 sorting을 하여 그래프를 그릴 수 있음"
      ]
    },
    {
      "cell_type": "code",
      "metadata": {
        "id": "p7esSKs85tfU"
      },
      "source": [
        "from pandas import Series\n",
        "\n",
        "featrue_importance = model.feature_importances_\n",
        "Series_feat_imp = Series(featrue_importance, index=df_test.columns)"
      ],
      "execution_count": null,
      "outputs": []
    },
    {
      "cell_type": "code",
      "metadata": {
        "id": "0Fs_wnDeDA4F"
      },
      "source": [
        "plt.figure(figsize=(8,8))\n",
        "Series_feat_imp.sort_values(ascending=True).plot.barh()\n",
        "\n",
        "plt.xlabel(\"Feature importance\")\n",
        "plt.ylabel(\"Feature\")\n",
        "plt.show()"
      ],
      "execution_count": null,
      "outputs": []
    },
    {
      "cell_type": "markdown",
      "metadata": {
        "id": "fk4OaVCUDhgG"
      },
      "source": [
        "* Fare가 가장 큰 영향력, Age_cat, Initial_2, Sex, Pclass 순\n",
        "* feature importance를 보고 실제로 Fare가 가장 중요한 feature로 판단 내릴 수 있지만, 결국 모델에 귀속되는 하나의 결론이므로 통계적으로 좀 더 살펴보긴 해야함\n",
        "* feature importance를 가지고 좀 더 정확도가 높은 모델을 얻기 위해 feature selection을 할 수 있고, 좀 더 빠른 모델을 위해 feature 제거를 할 수 있음"
      ]
    },
    {
      "cell_type": "markdown",
      "metadata": {
        "id": "1WeKqmS-D_uu"
      },
      "source": [
        "## 4.4 Prediction on Test set\n",
        "\n",
        "* test set을 모델이 주어 생존여부 예측"
      ]
    },
    {
      "cell_type": "code",
      "metadata": {
        "id": "FvOUf64LDA1k"
      },
      "source": [
        "submission = pd.read_csv(\"/content/drive/My Drive/titanic/gender_submission.csv\")"
      ],
      "execution_count": null,
      "outputs": []
    },
    {
      "cell_type": "code",
      "metadata": {
        "id": "FHIl0c84DAza"
      },
      "source": [
        "submission.head()"
      ],
      "execution_count": null,
      "outputs": []
    },
    {
      "cell_type": "code",
      "metadata": {
        "id": "k8SV_DmyDAwt"
      },
      "source": [
        "prediction = model.predict(X_test)\n",
        "submission['Survived'] = prediction"
      ],
      "execution_count": null,
      "outputs": []
    },
    {
      "cell_type": "code",
      "metadata": {
        "id": "ZY9yfX0zDAup"
      },
      "source": [
        ""
      ],
      "execution_count": null,
      "outputs": []
    }
  ]
}